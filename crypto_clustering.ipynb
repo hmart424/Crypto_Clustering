{
 "cells": [
  {
   "cell_type": "markdown",
   "metadata": {},
   "source": [
    "# Clustering Crypto"
   ]
  },
  {
   "cell_type": "code",
   "execution_count": 77,
   "metadata": {},
   "outputs": [],
   "source": [
    "# Initial imports\n",
    "import pandas as pd\n",
    "import hvplot.pandas\n",
    "from path import Path\n",
    "import plotly.express as px\n",
    "from sklearn.preprocessing import StandardScaler, MinMaxScaler\n",
    "from sklearn.decomposition import PCA\n",
    "from sklearn.cluster import KMeans\n"
   ]
  },
  {
   "cell_type": "markdown",
   "metadata": {},
   "source": [
    "### Deliverable 1: Preprocessing the Data for PCA"
   ]
  },
  {
   "cell_type": "code",
   "execution_count": 78,
   "metadata": {},
   "outputs": [
    {
     "data": {
      "text/html": [
       "<div>\n",
       "<style scoped>\n",
       "    .dataframe tbody tr th:only-of-type {\n",
       "        vertical-align: middle;\n",
       "    }\n",
       "\n",
       "    .dataframe tbody tr th {\n",
       "        vertical-align: top;\n",
       "    }\n",
       "\n",
       "    .dataframe thead th {\n",
       "        text-align: right;\n",
       "    }\n",
       "</style>\n",
       "<table border=\"1\" class=\"dataframe\">\n",
       "  <thead>\n",
       "    <tr style=\"text-align: right;\">\n",
       "      <th></th>\n",
       "      <th>CoinName</th>\n",
       "      <th>Algorithm</th>\n",
       "      <th>IsTrading</th>\n",
       "      <th>ProofType</th>\n",
       "      <th>TotalCoinsMined</th>\n",
       "      <th>TotalCoinSupply</th>\n",
       "    </tr>\n",
       "  </thead>\n",
       "  <tbody>\n",
       "    <tr>\n",
       "      <th>42</th>\n",
       "      <td>42 Coin</td>\n",
       "      <td>Scrypt</td>\n",
       "      <td>True</td>\n",
       "      <td>PoW/PoS</td>\n",
       "      <td>4.199995e+01</td>\n",
       "      <td>42</td>\n",
       "    </tr>\n",
       "    <tr>\n",
       "      <th>365</th>\n",
       "      <td>365Coin</td>\n",
       "      <td>X11</td>\n",
       "      <td>True</td>\n",
       "      <td>PoW/PoS</td>\n",
       "      <td>NaN</td>\n",
       "      <td>2300000000</td>\n",
       "    </tr>\n",
       "    <tr>\n",
       "      <th>404</th>\n",
       "      <td>404Coin</td>\n",
       "      <td>Scrypt</td>\n",
       "      <td>True</td>\n",
       "      <td>PoW/PoS</td>\n",
       "      <td>1.055185e+09</td>\n",
       "      <td>532000000</td>\n",
       "    </tr>\n",
       "    <tr>\n",
       "      <th>611</th>\n",
       "      <td>SixEleven</td>\n",
       "      <td>SHA-256</td>\n",
       "      <td>True</td>\n",
       "      <td>PoW</td>\n",
       "      <td>NaN</td>\n",
       "      <td>611000</td>\n",
       "    </tr>\n",
       "    <tr>\n",
       "      <th>808</th>\n",
       "      <td>808</td>\n",
       "      <td>SHA-256</td>\n",
       "      <td>True</td>\n",
       "      <td>PoW/PoS</td>\n",
       "      <td>0.000000e+00</td>\n",
       "      <td>0</td>\n",
       "    </tr>\n",
       "  </tbody>\n",
       "</table>\n",
       "</div>"
      ],
      "text/plain": [
       "      CoinName Algorithm  IsTrading ProofType  TotalCoinsMined TotalCoinSupply\n",
       "42     42 Coin    Scrypt       True   PoW/PoS     4.199995e+01              42\n",
       "365    365Coin       X11       True   PoW/PoS              NaN      2300000000\n",
       "404    404Coin    Scrypt       True   PoW/PoS     1.055185e+09       532000000\n",
       "611  SixEleven   SHA-256       True       PoW              NaN          611000\n",
       "808        808   SHA-256       True   PoW/PoS     0.000000e+00               0"
      ]
     },
     "execution_count": 78,
     "metadata": {},
     "output_type": "execute_result"
    }
   ],
   "source": [
    "# Load the crypto_data.csv dataset.\n",
    "file_path = (\"/Users/hmart424/Documents/Module-18/crypto_data.csv\")\n",
    "crypto_df = pd.read_csv(file_path, index_col=0)\n",
    "crypto_df.head(5)\n",
    "\n"
   ]
  },
  {
   "cell_type": "code",
   "execution_count": 79,
   "metadata": {},
   "outputs": [
    {
     "data": {
      "text/html": [
       "<div>\n",
       "<style scoped>\n",
       "    .dataframe tbody tr th:only-of-type {\n",
       "        vertical-align: middle;\n",
       "    }\n",
       "\n",
       "    .dataframe tbody tr th {\n",
       "        vertical-align: top;\n",
       "    }\n",
       "\n",
       "    .dataframe thead th {\n",
       "        text-align: right;\n",
       "    }\n",
       "</style>\n",
       "<table border=\"1\" class=\"dataframe\">\n",
       "  <thead>\n",
       "    <tr style=\"text-align: right;\">\n",
       "      <th></th>\n",
       "      <th>CoinName</th>\n",
       "      <th>Algorithm</th>\n",
       "      <th>IsTrading</th>\n",
       "      <th>ProofType</th>\n",
       "      <th>TotalCoinsMined</th>\n",
       "      <th>TotalCoinSupply</th>\n",
       "    </tr>\n",
       "  </thead>\n",
       "  <tbody>\n",
       "    <tr>\n",
       "      <th>42</th>\n",
       "      <td>42 Coin</td>\n",
       "      <td>Scrypt</td>\n",
       "      <td>True</td>\n",
       "      <td>PoW/PoS</td>\n",
       "      <td>4.199995e+01</td>\n",
       "      <td>42</td>\n",
       "    </tr>\n",
       "    <tr>\n",
       "      <th>365</th>\n",
       "      <td>365Coin</td>\n",
       "      <td>X11</td>\n",
       "      <td>True</td>\n",
       "      <td>PoW/PoS</td>\n",
       "      <td>NaN</td>\n",
       "      <td>2300000000</td>\n",
       "    </tr>\n",
       "    <tr>\n",
       "      <th>404</th>\n",
       "      <td>404Coin</td>\n",
       "      <td>Scrypt</td>\n",
       "      <td>True</td>\n",
       "      <td>PoW/PoS</td>\n",
       "      <td>1.055185e+09</td>\n",
       "      <td>532000000</td>\n",
       "    </tr>\n",
       "    <tr>\n",
       "      <th>611</th>\n",
       "      <td>SixEleven</td>\n",
       "      <td>SHA-256</td>\n",
       "      <td>True</td>\n",
       "      <td>PoW</td>\n",
       "      <td>NaN</td>\n",
       "      <td>611000</td>\n",
       "    </tr>\n",
       "    <tr>\n",
       "      <th>808</th>\n",
       "      <td>808</td>\n",
       "      <td>SHA-256</td>\n",
       "      <td>True</td>\n",
       "      <td>PoW/PoS</td>\n",
       "      <td>0.000000e+00</td>\n",
       "      <td>0</td>\n",
       "    </tr>\n",
       "  </tbody>\n",
       "</table>\n",
       "</div>"
      ],
      "text/plain": [
       "      CoinName Algorithm  IsTrading ProofType  TotalCoinsMined TotalCoinSupply\n",
       "42     42 Coin    Scrypt       True   PoW/PoS     4.199995e+01              42\n",
       "365    365Coin       X11       True   PoW/PoS              NaN      2300000000\n",
       "404    404Coin    Scrypt       True   PoW/PoS     1.055185e+09       532000000\n",
       "611  SixEleven   SHA-256       True       PoW              NaN          611000\n",
       "808        808   SHA-256       True   PoW/PoS     0.000000e+00               0"
      ]
     },
     "execution_count": 79,
     "metadata": {},
     "output_type": "execute_result"
    }
   ],
   "source": [
    "# Keep all the cryptocurrencies that are being traded.\n",
    "crypto_df = crypto_df[crypto_df['IsTrading'] == True]\n",
    "crypto_df.head()"
   ]
  },
  {
   "cell_type": "code",
   "execution_count": 80,
   "metadata": {},
   "outputs": [
    {
     "data": {
      "text/html": [
       "<div>\n",
       "<style scoped>\n",
       "    .dataframe tbody tr th:only-of-type {\n",
       "        vertical-align: middle;\n",
       "    }\n",
       "\n",
       "    .dataframe tbody tr th {\n",
       "        vertical-align: top;\n",
       "    }\n",
       "\n",
       "    .dataframe thead th {\n",
       "        text-align: right;\n",
       "    }\n",
       "</style>\n",
       "<table border=\"1\" class=\"dataframe\">\n",
       "  <thead>\n",
       "    <tr style=\"text-align: right;\">\n",
       "      <th></th>\n",
       "      <th>CoinName</th>\n",
       "      <th>Algorithm</th>\n",
       "      <th>IsTrading</th>\n",
       "      <th>ProofType</th>\n",
       "      <th>TotalCoinsMined</th>\n",
       "      <th>TotalCoinSupply</th>\n",
       "    </tr>\n",
       "  </thead>\n",
       "  <tbody>\n",
       "    <tr>\n",
       "      <th>42</th>\n",
       "      <td>42 Coin</td>\n",
       "      <td>Scrypt</td>\n",
       "      <td>True</td>\n",
       "      <td>PoW/PoS</td>\n",
       "      <td>4.199995e+01</td>\n",
       "      <td>42</td>\n",
       "    </tr>\n",
       "    <tr>\n",
       "      <th>365</th>\n",
       "      <td>365Coin</td>\n",
       "      <td>X11</td>\n",
       "      <td>True</td>\n",
       "      <td>PoW/PoS</td>\n",
       "      <td>NaN</td>\n",
       "      <td>2300000000</td>\n",
       "    </tr>\n",
       "    <tr>\n",
       "      <th>404</th>\n",
       "      <td>404Coin</td>\n",
       "      <td>Scrypt</td>\n",
       "      <td>True</td>\n",
       "      <td>PoW/PoS</td>\n",
       "      <td>1.055185e+09</td>\n",
       "      <td>532000000</td>\n",
       "    </tr>\n",
       "    <tr>\n",
       "      <th>611</th>\n",
       "      <td>SixEleven</td>\n",
       "      <td>SHA-256</td>\n",
       "      <td>True</td>\n",
       "      <td>PoW</td>\n",
       "      <td>NaN</td>\n",
       "      <td>611000</td>\n",
       "    </tr>\n",
       "    <tr>\n",
       "      <th>808</th>\n",
       "      <td>808</td>\n",
       "      <td>SHA-256</td>\n",
       "      <td>True</td>\n",
       "      <td>PoW/PoS</td>\n",
       "      <td>0.000000e+00</td>\n",
       "      <td>0</td>\n",
       "    </tr>\n",
       "  </tbody>\n",
       "</table>\n",
       "</div>"
      ],
      "text/plain": [
       "      CoinName Algorithm  IsTrading ProofType  TotalCoinsMined TotalCoinSupply\n",
       "42     42 Coin    Scrypt       True   PoW/PoS     4.199995e+01              42\n",
       "365    365Coin       X11       True   PoW/PoS              NaN      2300000000\n",
       "404    404Coin    Scrypt       True   PoW/PoS     1.055185e+09       532000000\n",
       "611  SixEleven   SHA-256       True       PoW              NaN          611000\n",
       "808        808   SHA-256       True   PoW/PoS     0.000000e+00               0"
      ]
     },
     "execution_count": 80,
     "metadata": {},
     "output_type": "execute_result"
    }
   ],
   "source": [
    "# Keep all the cryptocurrencies that have a working algorithm.\n",
    "crypto_df = crypto_df[crypto_df.Algorithm.isna() == False]\n",
    "crypto_df.head(5)\n"
   ]
  },
  {
   "cell_type": "code",
   "execution_count": 81,
   "metadata": {},
   "outputs": [
    {
     "data": {
      "text/html": [
       "<div>\n",
       "<style scoped>\n",
       "    .dataframe tbody tr th:only-of-type {\n",
       "        vertical-align: middle;\n",
       "    }\n",
       "\n",
       "    .dataframe tbody tr th {\n",
       "        vertical-align: top;\n",
       "    }\n",
       "\n",
       "    .dataframe thead th {\n",
       "        text-align: right;\n",
       "    }\n",
       "</style>\n",
       "<table border=\"1\" class=\"dataframe\">\n",
       "  <thead>\n",
       "    <tr style=\"text-align: right;\">\n",
       "      <th></th>\n",
       "      <th>CoinName</th>\n",
       "      <th>Algorithm</th>\n",
       "      <th>ProofType</th>\n",
       "      <th>TotalCoinsMined</th>\n",
       "      <th>TotalCoinSupply</th>\n",
       "    </tr>\n",
       "  </thead>\n",
       "  <tbody>\n",
       "    <tr>\n",
       "      <th>42</th>\n",
       "      <td>42 Coin</td>\n",
       "      <td>Scrypt</td>\n",
       "      <td>PoW/PoS</td>\n",
       "      <td>4.199995e+01</td>\n",
       "      <td>42</td>\n",
       "    </tr>\n",
       "    <tr>\n",
       "      <th>365</th>\n",
       "      <td>365Coin</td>\n",
       "      <td>X11</td>\n",
       "      <td>PoW/PoS</td>\n",
       "      <td>NaN</td>\n",
       "      <td>2300000000</td>\n",
       "    </tr>\n",
       "    <tr>\n",
       "      <th>404</th>\n",
       "      <td>404Coin</td>\n",
       "      <td>Scrypt</td>\n",
       "      <td>PoW/PoS</td>\n",
       "      <td>1.055185e+09</td>\n",
       "      <td>532000000</td>\n",
       "    </tr>\n",
       "    <tr>\n",
       "      <th>611</th>\n",
       "      <td>SixEleven</td>\n",
       "      <td>SHA-256</td>\n",
       "      <td>PoW</td>\n",
       "      <td>NaN</td>\n",
       "      <td>611000</td>\n",
       "    </tr>\n",
       "    <tr>\n",
       "      <th>808</th>\n",
       "      <td>808</td>\n",
       "      <td>SHA-256</td>\n",
       "      <td>PoW/PoS</td>\n",
       "      <td>0.000000e+00</td>\n",
       "      <td>0</td>\n",
       "    </tr>\n",
       "  </tbody>\n",
       "</table>\n",
       "</div>"
      ],
      "text/plain": [
       "      CoinName Algorithm ProofType  TotalCoinsMined TotalCoinSupply\n",
       "42     42 Coin    Scrypt   PoW/PoS     4.199995e+01              42\n",
       "365    365Coin       X11   PoW/PoS              NaN      2300000000\n",
       "404    404Coin    Scrypt   PoW/PoS     1.055185e+09       532000000\n",
       "611  SixEleven   SHA-256       PoW              NaN          611000\n",
       "808        808   SHA-256   PoW/PoS     0.000000e+00               0"
      ]
     },
     "execution_count": 81,
     "metadata": {},
     "output_type": "execute_result"
    }
   ],
   "source": [
    "# Remove the \"IsTrading\" column. \n",
    "crypto_df.drop(columns=[\"IsTrading\"], inplace=True)\n",
    "crypto_df.head(5)"
   ]
  },
  {
   "cell_type": "code",
   "execution_count": 82,
   "metadata": {},
   "outputs": [
    {
     "data": {
      "text/html": [
       "<div>\n",
       "<style scoped>\n",
       "    .dataframe tbody tr th:only-of-type {\n",
       "        vertical-align: middle;\n",
       "    }\n",
       "\n",
       "    .dataframe tbody tr th {\n",
       "        vertical-align: top;\n",
       "    }\n",
       "\n",
       "    .dataframe thead th {\n",
       "        text-align: right;\n",
       "    }\n",
       "</style>\n",
       "<table border=\"1\" class=\"dataframe\">\n",
       "  <thead>\n",
       "    <tr style=\"text-align: right;\">\n",
       "      <th></th>\n",
       "      <th>CoinName</th>\n",
       "      <th>Algorithm</th>\n",
       "      <th>ProofType</th>\n",
       "      <th>TotalCoinsMined</th>\n",
       "      <th>TotalCoinSupply</th>\n",
       "    </tr>\n",
       "  </thead>\n",
       "  <tbody>\n",
       "    <tr>\n",
       "      <th>42</th>\n",
       "      <td>42 Coin</td>\n",
       "      <td>Scrypt</td>\n",
       "      <td>PoW/PoS</td>\n",
       "      <td>4.199995e+01</td>\n",
       "      <td>42</td>\n",
       "    </tr>\n",
       "    <tr>\n",
       "      <th>404</th>\n",
       "      <td>404Coin</td>\n",
       "      <td>Scrypt</td>\n",
       "      <td>PoW/PoS</td>\n",
       "      <td>1.055185e+09</td>\n",
       "      <td>532000000</td>\n",
       "    </tr>\n",
       "    <tr>\n",
       "      <th>808</th>\n",
       "      <td>808</td>\n",
       "      <td>SHA-256</td>\n",
       "      <td>PoW/PoS</td>\n",
       "      <td>0.000000e+00</td>\n",
       "      <td>0</td>\n",
       "    </tr>\n",
       "    <tr>\n",
       "      <th>1337</th>\n",
       "      <td>EliteCoin</td>\n",
       "      <td>X13</td>\n",
       "      <td>PoW/PoS</td>\n",
       "      <td>2.927942e+10</td>\n",
       "      <td>314159265359</td>\n",
       "    </tr>\n",
       "    <tr>\n",
       "      <th>BTC</th>\n",
       "      <td>Bitcoin</td>\n",
       "      <td>SHA-256</td>\n",
       "      <td>PoW</td>\n",
       "      <td>1.792718e+07</td>\n",
       "      <td>21000000</td>\n",
       "    </tr>\n",
       "  </tbody>\n",
       "</table>\n",
       "</div>"
      ],
      "text/plain": [
       "       CoinName Algorithm ProofType  TotalCoinsMined TotalCoinSupply\n",
       "42      42 Coin    Scrypt   PoW/PoS     4.199995e+01              42\n",
       "404     404Coin    Scrypt   PoW/PoS     1.055185e+09       532000000\n",
       "808         808   SHA-256   PoW/PoS     0.000000e+00               0\n",
       "1337  EliteCoin       X13   PoW/PoS     2.927942e+10    314159265359\n",
       "BTC     Bitcoin   SHA-256       PoW     1.792718e+07        21000000"
      ]
     },
     "execution_count": 82,
     "metadata": {},
     "output_type": "execute_result"
    }
   ],
   "source": [
    "# Remove rows that have at least 1 null value.\n",
    "crypto_df = crypto_df.dropna()\n",
    "crypto_df.head()"
   ]
  },
  {
   "cell_type": "code",
   "execution_count": 83,
   "metadata": {},
   "outputs": [
    {
     "data": {
      "text/html": [
       "<div>\n",
       "<style scoped>\n",
       "    .dataframe tbody tr th:only-of-type {\n",
       "        vertical-align: middle;\n",
       "    }\n",
       "\n",
       "    .dataframe tbody tr th {\n",
       "        vertical-align: top;\n",
       "    }\n",
       "\n",
       "    .dataframe thead th {\n",
       "        text-align: right;\n",
       "    }\n",
       "</style>\n",
       "<table border=\"1\" class=\"dataframe\">\n",
       "  <thead>\n",
       "    <tr style=\"text-align: right;\">\n",
       "      <th></th>\n",
       "      <th>CoinName</th>\n",
       "      <th>Algorithm</th>\n",
       "      <th>ProofType</th>\n",
       "      <th>TotalCoinsMined</th>\n",
       "      <th>TotalCoinSupply</th>\n",
       "    </tr>\n",
       "  </thead>\n",
       "  <tbody>\n",
       "    <tr>\n",
       "      <th>42</th>\n",
       "      <td>42 Coin</td>\n",
       "      <td>Scrypt</td>\n",
       "      <td>PoW/PoS</td>\n",
       "      <td>4.199995e+01</td>\n",
       "      <td>42</td>\n",
       "    </tr>\n",
       "    <tr>\n",
       "      <th>404</th>\n",
       "      <td>404Coin</td>\n",
       "      <td>Scrypt</td>\n",
       "      <td>PoW/PoS</td>\n",
       "      <td>1.055185e+09</td>\n",
       "      <td>532000000</td>\n",
       "    </tr>\n",
       "    <tr>\n",
       "      <th>1337</th>\n",
       "      <td>EliteCoin</td>\n",
       "      <td>X13</td>\n",
       "      <td>PoW/PoS</td>\n",
       "      <td>2.927942e+10</td>\n",
       "      <td>314159265359</td>\n",
       "    </tr>\n",
       "    <tr>\n",
       "      <th>BTC</th>\n",
       "      <td>Bitcoin</td>\n",
       "      <td>SHA-256</td>\n",
       "      <td>PoW</td>\n",
       "      <td>1.792718e+07</td>\n",
       "      <td>21000000</td>\n",
       "    </tr>\n",
       "    <tr>\n",
       "      <th>ETH</th>\n",
       "      <td>Ethereum</td>\n",
       "      <td>Ethash</td>\n",
       "      <td>PoW</td>\n",
       "      <td>1.076842e+08</td>\n",
       "      <td>0</td>\n",
       "    </tr>\n",
       "  </tbody>\n",
       "</table>\n",
       "</div>"
      ],
      "text/plain": [
       "       CoinName Algorithm ProofType  TotalCoinsMined TotalCoinSupply\n",
       "42      42 Coin    Scrypt   PoW/PoS     4.199995e+01              42\n",
       "404     404Coin    Scrypt   PoW/PoS     1.055185e+09       532000000\n",
       "1337  EliteCoin       X13   PoW/PoS     2.927942e+10    314159265359\n",
       "BTC     Bitcoin   SHA-256       PoW     1.792718e+07        21000000\n",
       "ETH    Ethereum    Ethash       PoW     1.076842e+08               0"
      ]
     },
     "execution_count": 83,
     "metadata": {},
     "output_type": "execute_result"
    }
   ],
   "source": [
    "# Keep the rows where coins are mined.\n",
    "crypto_df = crypto_df[crypto_df[\"TotalCoinsMined\"] > 0]\n",
    "crypto_df.head()"
   ]
  },
  {
   "cell_type": "code",
   "execution_count": 84,
   "metadata": {},
   "outputs": [
    {
     "data": {
      "text/html": [
       "<div>\n",
       "<style scoped>\n",
       "    .dataframe tbody tr th:only-of-type {\n",
       "        vertical-align: middle;\n",
       "    }\n",
       "\n",
       "    .dataframe tbody tr th {\n",
       "        vertical-align: top;\n",
       "    }\n",
       "\n",
       "    .dataframe thead th {\n",
       "        text-align: right;\n",
       "    }\n",
       "</style>\n",
       "<table border=\"1\" class=\"dataframe\">\n",
       "  <thead>\n",
       "    <tr style=\"text-align: right;\">\n",
       "      <th></th>\n",
       "      <th>CoinName</th>\n",
       "    </tr>\n",
       "  </thead>\n",
       "  <tbody>\n",
       "    <tr>\n",
       "      <th>42</th>\n",
       "      <td>42 Coin</td>\n",
       "    </tr>\n",
       "    <tr>\n",
       "      <th>404</th>\n",
       "      <td>404Coin</td>\n",
       "    </tr>\n",
       "    <tr>\n",
       "      <th>1337</th>\n",
       "      <td>EliteCoin</td>\n",
       "    </tr>\n",
       "    <tr>\n",
       "      <th>BTC</th>\n",
       "      <td>Bitcoin</td>\n",
       "    </tr>\n",
       "    <tr>\n",
       "      <th>ETH</th>\n",
       "      <td>Ethereum</td>\n",
       "    </tr>\n",
       "  </tbody>\n",
       "</table>\n",
       "</div>"
      ],
      "text/plain": [
       "       CoinName\n",
       "42      42 Coin\n",
       "404     404Coin\n",
       "1337  EliteCoin\n",
       "BTC     Bitcoin\n",
       "ETH    Ethereum"
      ]
     },
     "execution_count": 84,
     "metadata": {},
     "output_type": "execute_result"
    }
   ],
   "source": [
    "# Create a new DataFrame that holds only the cryptocurrencies names.\n",
    "crypto_data_new = crypto_df.filter(['CoinName'], axis=1)\n",
    "crypto_data_new.head(5)"
   ]
  },
  {
   "cell_type": "code",
   "execution_count": 85,
   "metadata": {},
   "outputs": [
    {
     "data": {
      "text/html": [
       "<div>\n",
       "<style scoped>\n",
       "    .dataframe tbody tr th:only-of-type {\n",
       "        vertical-align: middle;\n",
       "    }\n",
       "\n",
       "    .dataframe tbody tr th {\n",
       "        vertical-align: top;\n",
       "    }\n",
       "\n",
       "    .dataframe thead th {\n",
       "        text-align: right;\n",
       "    }\n",
       "</style>\n",
       "<table border=\"1\" class=\"dataframe\">\n",
       "  <thead>\n",
       "    <tr style=\"text-align: right;\">\n",
       "      <th></th>\n",
       "      <th>Algorithm</th>\n",
       "      <th>ProofType</th>\n",
       "      <th>TotalCoinsMined</th>\n",
       "      <th>TotalCoinSupply</th>\n",
       "    </tr>\n",
       "  </thead>\n",
       "  <tbody>\n",
       "    <tr>\n",
       "      <th>42</th>\n",
       "      <td>Scrypt</td>\n",
       "      <td>PoW/PoS</td>\n",
       "      <td>4.199995e+01</td>\n",
       "      <td>42</td>\n",
       "    </tr>\n",
       "    <tr>\n",
       "      <th>404</th>\n",
       "      <td>Scrypt</td>\n",
       "      <td>PoW/PoS</td>\n",
       "      <td>1.055185e+09</td>\n",
       "      <td>532000000</td>\n",
       "    </tr>\n",
       "    <tr>\n",
       "      <th>1337</th>\n",
       "      <td>X13</td>\n",
       "      <td>PoW/PoS</td>\n",
       "      <td>2.927942e+10</td>\n",
       "      <td>314159265359</td>\n",
       "    </tr>\n",
       "    <tr>\n",
       "      <th>BTC</th>\n",
       "      <td>SHA-256</td>\n",
       "      <td>PoW</td>\n",
       "      <td>1.792718e+07</td>\n",
       "      <td>21000000</td>\n",
       "    </tr>\n",
       "    <tr>\n",
       "      <th>ETH</th>\n",
       "      <td>Ethash</td>\n",
       "      <td>PoW</td>\n",
       "      <td>1.076842e+08</td>\n",
       "      <td>0</td>\n",
       "    </tr>\n",
       "  </tbody>\n",
       "</table>\n",
       "</div>"
      ],
      "text/plain": [
       "     Algorithm ProofType  TotalCoinsMined TotalCoinSupply\n",
       "42      Scrypt   PoW/PoS     4.199995e+01              42\n",
       "404     Scrypt   PoW/PoS     1.055185e+09       532000000\n",
       "1337       X13   PoW/PoS     2.927942e+10    314159265359\n",
       "BTC    SHA-256       PoW     1.792718e+07        21000000\n",
       "ETH     Ethash       PoW     1.076842e+08               0"
      ]
     },
     "execution_count": 85,
     "metadata": {},
     "output_type": "execute_result"
    }
   ],
   "source": [
    "# Drop the 'CoinName' column since it's not going to be used on the clustering algorithm.\n",
    "crypto_df.drop(columns=[\"CoinName\"], inplace=True)\n",
    "crypto_df.head(5)"
   ]
  },
  {
   "cell_type": "code",
   "execution_count": 86,
   "metadata": {},
   "outputs": [
    {
     "data": {
      "text/html": [
       "<div>\n",
       "<style scoped>\n",
       "    .dataframe tbody tr th:only-of-type {\n",
       "        vertical-align: middle;\n",
       "    }\n",
       "\n",
       "    .dataframe tbody tr th {\n",
       "        vertical-align: top;\n",
       "    }\n",
       "\n",
       "    .dataframe thead th {\n",
       "        text-align: right;\n",
       "    }\n",
       "</style>\n",
       "<table border=\"1\" class=\"dataframe\">\n",
       "  <thead>\n",
       "    <tr style=\"text-align: right;\">\n",
       "      <th></th>\n",
       "      <th>TotalCoinsMined</th>\n",
       "      <th>TotalCoinSupply</th>\n",
       "      <th>Algorithm_1GB AES Pattern Search</th>\n",
       "      <th>Algorithm_536</th>\n",
       "      <th>Algorithm_Argon2d</th>\n",
       "      <th>Algorithm_BLAKE256</th>\n",
       "      <th>Algorithm_Blake</th>\n",
       "      <th>Algorithm_Blake2S</th>\n",
       "      <th>Algorithm_Blake2b</th>\n",
       "      <th>Algorithm_C11</th>\n",
       "      <th>...</th>\n",
       "      <th>ProofType_PoW/PoS</th>\n",
       "      <th>ProofType_PoW/PoS</th>\n",
       "      <th>ProofType_PoW/PoW</th>\n",
       "      <th>ProofType_PoW/nPoS</th>\n",
       "      <th>ProofType_Pos</th>\n",
       "      <th>ProofType_Proof of Authority</th>\n",
       "      <th>ProofType_Proof of Trust</th>\n",
       "      <th>ProofType_TPoS</th>\n",
       "      <th>ProofType_Zero-Knowledge Proof</th>\n",
       "      <th>ProofType_dPoW/PoW</th>\n",
       "    </tr>\n",
       "  </thead>\n",
       "  <tbody>\n",
       "    <tr>\n",
       "      <th>42</th>\n",
       "      <td>4.199995e+01</td>\n",
       "      <td>42</td>\n",
       "      <td>0</td>\n",
       "      <td>0</td>\n",
       "      <td>0</td>\n",
       "      <td>0</td>\n",
       "      <td>0</td>\n",
       "      <td>0</td>\n",
       "      <td>0</td>\n",
       "      <td>0</td>\n",
       "      <td>...</td>\n",
       "      <td>1</td>\n",
       "      <td>0</td>\n",
       "      <td>0</td>\n",
       "      <td>0</td>\n",
       "      <td>0</td>\n",
       "      <td>0</td>\n",
       "      <td>0</td>\n",
       "      <td>0</td>\n",
       "      <td>0</td>\n",
       "      <td>0</td>\n",
       "    </tr>\n",
       "    <tr>\n",
       "      <th>404</th>\n",
       "      <td>1.055185e+09</td>\n",
       "      <td>532000000</td>\n",
       "      <td>0</td>\n",
       "      <td>0</td>\n",
       "      <td>0</td>\n",
       "      <td>0</td>\n",
       "      <td>0</td>\n",
       "      <td>0</td>\n",
       "      <td>0</td>\n",
       "      <td>0</td>\n",
       "      <td>...</td>\n",
       "      <td>1</td>\n",
       "      <td>0</td>\n",
       "      <td>0</td>\n",
       "      <td>0</td>\n",
       "      <td>0</td>\n",
       "      <td>0</td>\n",
       "      <td>0</td>\n",
       "      <td>0</td>\n",
       "      <td>0</td>\n",
       "      <td>0</td>\n",
       "    </tr>\n",
       "    <tr>\n",
       "      <th>1337</th>\n",
       "      <td>2.927942e+10</td>\n",
       "      <td>314159265359</td>\n",
       "      <td>0</td>\n",
       "      <td>0</td>\n",
       "      <td>0</td>\n",
       "      <td>0</td>\n",
       "      <td>0</td>\n",
       "      <td>0</td>\n",
       "      <td>0</td>\n",
       "      <td>0</td>\n",
       "      <td>...</td>\n",
       "      <td>1</td>\n",
       "      <td>0</td>\n",
       "      <td>0</td>\n",
       "      <td>0</td>\n",
       "      <td>0</td>\n",
       "      <td>0</td>\n",
       "      <td>0</td>\n",
       "      <td>0</td>\n",
       "      <td>0</td>\n",
       "      <td>0</td>\n",
       "    </tr>\n",
       "    <tr>\n",
       "      <th>BTC</th>\n",
       "      <td>1.792718e+07</td>\n",
       "      <td>21000000</td>\n",
       "      <td>0</td>\n",
       "      <td>0</td>\n",
       "      <td>0</td>\n",
       "      <td>0</td>\n",
       "      <td>0</td>\n",
       "      <td>0</td>\n",
       "      <td>0</td>\n",
       "      <td>0</td>\n",
       "      <td>...</td>\n",
       "      <td>0</td>\n",
       "      <td>0</td>\n",
       "      <td>0</td>\n",
       "      <td>0</td>\n",
       "      <td>0</td>\n",
       "      <td>0</td>\n",
       "      <td>0</td>\n",
       "      <td>0</td>\n",
       "      <td>0</td>\n",
       "      <td>0</td>\n",
       "    </tr>\n",
       "    <tr>\n",
       "      <th>ETH</th>\n",
       "      <td>1.076842e+08</td>\n",
       "      <td>0</td>\n",
       "      <td>0</td>\n",
       "      <td>0</td>\n",
       "      <td>0</td>\n",
       "      <td>0</td>\n",
       "      <td>0</td>\n",
       "      <td>0</td>\n",
       "      <td>0</td>\n",
       "      <td>0</td>\n",
       "      <td>...</td>\n",
       "      <td>0</td>\n",
       "      <td>0</td>\n",
       "      <td>0</td>\n",
       "      <td>0</td>\n",
       "      <td>0</td>\n",
       "      <td>0</td>\n",
       "      <td>0</td>\n",
       "      <td>0</td>\n",
       "      <td>0</td>\n",
       "      <td>0</td>\n",
       "    </tr>\n",
       "  </tbody>\n",
       "</table>\n",
       "<p>5 rows × 98 columns</p>\n",
       "</div>"
      ],
      "text/plain": [
       "      TotalCoinsMined TotalCoinSupply  Algorithm_1GB AES Pattern Search  \\\n",
       "42       4.199995e+01              42                                 0   \n",
       "404      1.055185e+09       532000000                                 0   \n",
       "1337     2.927942e+10    314159265359                                 0   \n",
       "BTC      1.792718e+07        21000000                                 0   \n",
       "ETH      1.076842e+08               0                                 0   \n",
       "\n",
       "      Algorithm_536  Algorithm_Argon2d  Algorithm_BLAKE256  Algorithm_Blake  \\\n",
       "42                0                  0                   0                0   \n",
       "404               0                  0                   0                0   \n",
       "1337              0                  0                   0                0   \n",
       "BTC               0                  0                   0                0   \n",
       "ETH               0                  0                   0                0   \n",
       "\n",
       "      Algorithm_Blake2S  Algorithm_Blake2b  Algorithm_C11  ...  \\\n",
       "42                    0                  0              0  ...   \n",
       "404                   0                  0              0  ...   \n",
       "1337                  0                  0              0  ...   \n",
       "BTC                   0                  0              0  ...   \n",
       "ETH                   0                  0              0  ...   \n",
       "\n",
       "      ProofType_PoW/PoS  ProofType_PoW/PoS   ProofType_PoW/PoW  \\\n",
       "42                    1                   0                  0   \n",
       "404                   1                   0                  0   \n",
       "1337                  1                   0                  0   \n",
       "BTC                   0                   0                  0   \n",
       "ETH                   0                   0                  0   \n",
       "\n",
       "      ProofType_PoW/nPoS  ProofType_Pos  ProofType_Proof of Authority  \\\n",
       "42                     0              0                             0   \n",
       "404                    0              0                             0   \n",
       "1337                   0              0                             0   \n",
       "BTC                    0              0                             0   \n",
       "ETH                    0              0                             0   \n",
       "\n",
       "      ProofType_Proof of Trust  ProofType_TPoS  \\\n",
       "42                           0               0   \n",
       "404                          0               0   \n",
       "1337                         0               0   \n",
       "BTC                          0               0   \n",
       "ETH                          0               0   \n",
       "\n",
       "      ProofType_Zero-Knowledge Proof  ProofType_dPoW/PoW  \n",
       "42                                 0                   0  \n",
       "404                                0                   0  \n",
       "1337                               0                   0  \n",
       "BTC                                0                   0  \n",
       "ETH                                0                   0  \n",
       "\n",
       "[5 rows x 98 columns]"
      ]
     },
     "execution_count": 86,
     "metadata": {},
     "output_type": "execute_result"
    }
   ],
   "source": [
    "# Use get_dummies() to create variables for text features.\n",
    "X = pd.get_dummies(crypto_df, columns=[\"Algorithm\", \"ProofType\"])\n",
    "X.head(5)"
   ]
  },
  {
   "cell_type": "code",
   "execution_count": 61,
   "metadata": {},
   "outputs": [
    {
     "data": {
      "text/plain": [
       "array([[-0.11710817, -0.1528703 , -0.0433963 , -0.0433963 , -0.0433963 ,\n",
       "        -0.06142951, -0.07530656, -0.0433963 , -0.06142951, -0.06142951,\n",
       "        -0.0433963 , -0.0433963 , -0.19245009, -0.06142951, -0.09740465,\n",
       "        -0.0433963 , -0.11547005, -0.07530656, -0.0433963 , -0.0433963 ,\n",
       "        -0.15191091, -0.0433963 , -0.13118084, -0.0433963 , -0.0433963 ,\n",
       "        -0.08703883, -0.0433963 , -0.0433963 , -0.0433963 , -0.0433963 ,\n",
       "        -0.06142951, -0.0433963 , -0.08703883, -0.08703883, -0.08703883,\n",
       "        -0.0433963 , -0.13118084, -0.13840913, -0.13840913, -0.0433963 ,\n",
       "        -0.06142951, -0.0433963 , -0.07530656, -0.18168574, -0.0433963 ,\n",
       "        -0.0433963 , -0.0433963 , -0.07530656, -0.15826614, -0.31491833,\n",
       "        -0.0433963 , -0.08703883, -0.07530656, -0.06142951,  1.38675049,\n",
       "        -0.0433963 , -0.0433963 , -0.06142951, -0.0433963 , -0.0433963 ,\n",
       "        -0.0433963 , -0.0433963 , -0.0433963 , -0.0433963 , -0.0433963 ,\n",
       "        -0.0433963 , -0.39879994, -0.0433963 , -0.18168574, -0.0433963 ,\n",
       "        -0.08703883, -0.08703883, -0.10680283, -0.0433963 , -0.13118084,\n",
       "        -0.0433963 , -0.0433963 , -0.0433963 , -0.0433963 , -0.07530656,\n",
       "        -0.43911856, -0.0433963 , -0.06142951, -0.0433963 , -0.0433963 ,\n",
       "        -0.89632016, -0.0433963 , -0.0433963 ,  1.42222617, -0.0433963 ,\n",
       "        -0.0433963 , -0.0433963 , -0.0433963 , -0.0433963 , -0.0433963 ,\n",
       "        -0.0433963 , -0.0433963 , -0.0433963 ],\n",
       "       [-0.09396955, -0.145009  , -0.0433963 , -0.0433963 , -0.0433963 ,\n",
       "        -0.06142951, -0.07530656, -0.0433963 , -0.06142951, -0.06142951,\n",
       "        -0.0433963 , -0.0433963 , -0.19245009, -0.06142951, -0.09740465,\n",
       "        -0.0433963 , -0.11547005, -0.07530656, -0.0433963 , -0.0433963 ,\n",
       "        -0.15191091, -0.0433963 , -0.13118084, -0.0433963 , -0.0433963 ,\n",
       "        -0.08703883, -0.0433963 , -0.0433963 , -0.0433963 , -0.0433963 ,\n",
       "        -0.06142951, -0.0433963 , -0.08703883, -0.08703883, -0.08703883,\n",
       "        -0.0433963 , -0.13118084, -0.13840913, -0.13840913, -0.0433963 ,\n",
       "        -0.06142951, -0.0433963 , -0.07530656, -0.18168574, -0.0433963 ,\n",
       "        -0.0433963 , -0.0433963 , -0.07530656, -0.15826614, -0.31491833,\n",
       "        -0.0433963 , -0.08703883, -0.07530656, -0.06142951,  1.38675049,\n",
       "        -0.0433963 , -0.0433963 , -0.06142951, -0.0433963 , -0.0433963 ,\n",
       "        -0.0433963 , -0.0433963 , -0.0433963 , -0.0433963 , -0.0433963 ,\n",
       "        -0.0433963 , -0.39879994, -0.0433963 , -0.18168574, -0.0433963 ,\n",
       "        -0.08703883, -0.08703883, -0.10680283, -0.0433963 , -0.13118084,\n",
       "        -0.0433963 , -0.0433963 , -0.0433963 , -0.0433963 , -0.07530656,\n",
       "        -0.43911856, -0.0433963 , -0.06142951, -0.0433963 , -0.0433963 ,\n",
       "        -0.89632016, -0.0433963 , -0.0433963 ,  1.42222617, -0.0433963 ,\n",
       "        -0.0433963 , -0.0433963 , -0.0433963 , -0.0433963 , -0.0433963 ,\n",
       "        -0.0433963 , -0.0433963 , -0.0433963 ],\n",
       "       [ 0.52494561,  4.48942416, -0.0433963 , -0.0433963 , -0.0433963 ,\n",
       "        -0.06142951, -0.07530656, -0.0433963 , -0.06142951, -0.06142951,\n",
       "        -0.0433963 , -0.0433963 , -0.19245009, -0.06142951, -0.09740465,\n",
       "        -0.0433963 , -0.11547005, -0.07530656, -0.0433963 , -0.0433963 ,\n",
       "        -0.15191091, -0.0433963 , -0.13118084, -0.0433963 , -0.0433963 ,\n",
       "        -0.08703883, -0.0433963 , -0.0433963 , -0.0433963 , -0.0433963 ,\n",
       "        -0.06142951, -0.0433963 , -0.08703883, -0.08703883, -0.08703883,\n",
       "        -0.0433963 , -0.13118084, -0.13840913, -0.13840913, -0.0433963 ,\n",
       "        -0.06142951, -0.0433963 , -0.07530656, -0.18168574, -0.0433963 ,\n",
       "        -0.0433963 , -0.0433963 , -0.07530656, -0.15826614, -0.31491833,\n",
       "        -0.0433963 , -0.08703883, -0.07530656, -0.06142951, -0.72111026,\n",
       "        -0.0433963 , -0.0433963 , -0.06142951, -0.0433963 , -0.0433963 ,\n",
       "        -0.0433963 , -0.0433963 , -0.0433963 , -0.0433963 , -0.0433963 ,\n",
       "        -0.0433963 , -0.39879994, -0.0433963 ,  5.50400923, -0.0433963 ,\n",
       "        -0.08703883, -0.08703883, -0.10680283, -0.0433963 , -0.13118084,\n",
       "        -0.0433963 , -0.0433963 , -0.0433963 , -0.0433963 , -0.07530656,\n",
       "        -0.43911856, -0.0433963 , -0.06142951, -0.0433963 , -0.0433963 ,\n",
       "        -0.89632016, -0.0433963 , -0.0433963 ,  1.42222617, -0.0433963 ,\n",
       "        -0.0433963 , -0.0433963 , -0.0433963 , -0.0433963 , -0.0433963 ,\n",
       "        -0.0433963 , -0.0433963 , -0.0433963 ],\n",
       "       [-0.11671506, -0.15255998, -0.0433963 , -0.0433963 , -0.0433963 ,\n",
       "        -0.06142951, -0.07530656, -0.0433963 , -0.06142951, -0.06142951,\n",
       "        -0.0433963 , -0.0433963 , -0.19245009, -0.06142951, -0.09740465,\n",
       "        -0.0433963 , -0.11547005, -0.07530656, -0.0433963 , -0.0433963 ,\n",
       "        -0.15191091, -0.0433963 , -0.13118084, -0.0433963 , -0.0433963 ,\n",
       "        -0.08703883, -0.0433963 , -0.0433963 , -0.0433963 , -0.0433963 ,\n",
       "        -0.06142951, -0.0433963 , -0.08703883, -0.08703883, -0.08703883,\n",
       "        -0.0433963 , -0.13118084, -0.13840913, -0.13840913, -0.0433963 ,\n",
       "        -0.06142951, -0.0433963 , -0.07530656, -0.18168574, -0.0433963 ,\n",
       "        -0.0433963 , -0.0433963 , -0.07530656, -0.15826614,  3.17542648,\n",
       "        -0.0433963 , -0.08703883, -0.07530656, -0.06142951, -0.72111026,\n",
       "        -0.0433963 , -0.0433963 , -0.06142951, -0.0433963 , -0.0433963 ,\n",
       "        -0.0433963 , -0.0433963 , -0.0433963 , -0.0433963 , -0.0433963 ,\n",
       "        -0.0433963 , -0.39879994, -0.0433963 , -0.18168574, -0.0433963 ,\n",
       "        -0.08703883, -0.08703883, -0.10680283, -0.0433963 , -0.13118084,\n",
       "        -0.0433963 , -0.0433963 , -0.0433963 , -0.0433963 , -0.07530656,\n",
       "        -0.43911856, -0.0433963 , -0.06142951, -0.0433963 , -0.0433963 ,\n",
       "         1.11567277, -0.0433963 , -0.0433963 , -0.70312305, -0.0433963 ,\n",
       "        -0.0433963 , -0.0433963 , -0.0433963 , -0.0433963 , -0.0433963 ,\n",
       "        -0.0433963 , -0.0433963 , -0.0433963 ],\n",
       "       [-0.11474682, -0.1528703 , -0.0433963 , -0.0433963 , -0.0433963 ,\n",
       "        -0.06142951, -0.07530656, -0.0433963 , -0.06142951, -0.06142951,\n",
       "        -0.0433963 , -0.0433963 , -0.19245009, -0.06142951, -0.09740465,\n",
       "        -0.0433963 , -0.11547005, -0.07530656, -0.0433963 , -0.0433963 ,\n",
       "        -0.15191091, -0.0433963 ,  7.62306442, -0.0433963 , -0.0433963 ,\n",
       "        -0.08703883, -0.0433963 , -0.0433963 , -0.0433963 , -0.0433963 ,\n",
       "        -0.06142951, -0.0433963 , -0.08703883, -0.08703883, -0.08703883,\n",
       "        -0.0433963 , -0.13118084, -0.13840913, -0.13840913, -0.0433963 ,\n",
       "        -0.06142951, -0.0433963 , -0.07530656, -0.18168574, -0.0433963 ,\n",
       "        -0.0433963 , -0.0433963 , -0.07530656, -0.15826614, -0.31491833,\n",
       "        -0.0433963 , -0.08703883, -0.07530656, -0.06142951, -0.72111026,\n",
       "        -0.0433963 , -0.0433963 , -0.06142951, -0.0433963 , -0.0433963 ,\n",
       "        -0.0433963 , -0.0433963 , -0.0433963 , -0.0433963 , -0.0433963 ,\n",
       "        -0.0433963 , -0.39879994, -0.0433963 , -0.18168574, -0.0433963 ,\n",
       "        -0.08703883, -0.08703883, -0.10680283, -0.0433963 , -0.13118084,\n",
       "        -0.0433963 , -0.0433963 , -0.0433963 , -0.0433963 , -0.07530656,\n",
       "        -0.43911856, -0.0433963 , -0.06142951, -0.0433963 , -0.0433963 ,\n",
       "         1.11567277, -0.0433963 , -0.0433963 , -0.70312305, -0.0433963 ,\n",
       "        -0.0433963 , -0.0433963 , -0.0433963 , -0.0433963 , -0.0433963 ,\n",
       "        -0.0433963 , -0.0433963 , -0.0433963 ]])"
      ]
     },
     "execution_count": 61,
     "metadata": {},
     "output_type": "execute_result"
    }
   ],
   "source": [
    "# Standardize the data with StandardScaler().\n",
    "scaler = StandardScaler()\n",
    "crypto_data_scaled = StandardScaler().fit_transform(X)\n",
    "crypto_data_scaled[0:5]"
   ]
  },
  {
   "cell_type": "markdown",
   "metadata": {},
   "source": [
    "### Deliverable 2: Reducing Data Dimensions Using PCA"
   ]
  },
  {
   "cell_type": "code",
   "execution_count": 67,
   "metadata": {},
   "outputs": [
    {
     "data": {
      "text/plain": [
       "array([[-0.35131474,  0.99521879, -0.59090929],\n",
       "       [-0.33457665,  0.99551944, -0.59126809],\n",
       "       [ 2.31954406,  1.63481896, -0.66207149],\n",
       "       ...,\n",
       "       [ 0.33393603, -2.34789263,  0.44335815],\n",
       "       [-0.13622171, -1.93208347,  0.35991517],\n",
       "       [-0.28313935,  0.84195035, -0.27170447]])"
      ]
     },
     "execution_count": 67,
     "metadata": {},
     "output_type": "execute_result"
    }
   ],
   "source": [
    "# Using PCA to reduce dimension to three principal components.\n",
    "pca = PCA(n_components=3)\n",
    "crypto_data_pca = pca.fit_transform(crypto_data_scaled)\n",
    "crypto_data_pca"
   ]
  },
  {
   "cell_type": "code",
   "execution_count": 99,
   "metadata": {},
   "outputs": [
    {
     "data": {
      "text/html": [
       "<div>\n",
       "<style scoped>\n",
       "    .dataframe tbody tr th:only-of-type {\n",
       "        vertical-align: middle;\n",
       "    }\n",
       "\n",
       "    .dataframe tbody tr th {\n",
       "        vertical-align: top;\n",
       "    }\n",
       "\n",
       "    .dataframe thead th {\n",
       "        text-align: right;\n",
       "    }\n",
       "</style>\n",
       "<table border=\"1\" class=\"dataframe\">\n",
       "  <thead>\n",
       "    <tr style=\"text-align: right;\">\n",
       "      <th></th>\n",
       "      <th>principal component 1</th>\n",
       "      <th>principal component 2</th>\n",
       "      <th>principal component 3</th>\n",
       "    </tr>\n",
       "  </thead>\n",
       "  <tbody>\n",
       "    <tr>\n",
       "      <th>42</th>\n",
       "      <td>-0.351315</td>\n",
       "      <td>0.995219</td>\n",
       "      <td>-0.590909</td>\n",
       "    </tr>\n",
       "    <tr>\n",
       "      <th>404</th>\n",
       "      <td>-0.334577</td>\n",
       "      <td>0.995519</td>\n",
       "      <td>-0.591268</td>\n",
       "    </tr>\n",
       "    <tr>\n",
       "      <th>1337</th>\n",
       "      <td>2.319544</td>\n",
       "      <td>1.634819</td>\n",
       "      <td>-0.662071</td>\n",
       "    </tr>\n",
       "    <tr>\n",
       "      <th>BTC</th>\n",
       "      <td>-0.149113</td>\n",
       "      <td>-1.301193</td>\n",
       "      <td>0.146052</td>\n",
       "    </tr>\n",
       "    <tr>\n",
       "      <th>ETH</th>\n",
       "      <td>-0.138931</td>\n",
       "      <td>-2.041152</td>\n",
       "      <td>0.340768</td>\n",
       "    </tr>\n",
       "  </tbody>\n",
       "</table>\n",
       "</div>"
      ],
      "text/plain": [
       "      principal component 1  principal component 2  principal component 3\n",
       "42                -0.351315               0.995219              -0.590909\n",
       "404               -0.334577               0.995519              -0.591268\n",
       "1337               2.319544               1.634819              -0.662071\n",
       "BTC               -0.149113              -1.301193               0.146052\n",
       "ETH               -0.138931              -2.041152               0.340768"
      ]
     },
     "execution_count": 99,
     "metadata": {},
     "output_type": "execute_result"
    }
   ],
   "source": [
    "# Create a DataFrame with the three principal components.\n",
    "data_pca = pd.DataFrame(\n",
    "    data=crypto_data_pca, columns=[\"principal component 1\", \"principal component 2\", \"principal component 3\"], index = crypto_df.index)\n",
    "\n",
    "data_pca.head(5)"
   ]
  },
  {
   "cell_type": "markdown",
   "metadata": {},
   "source": [
    "### Deliverable 3: Clustering Crytocurrencies Using K-Means\n",
    "\n",
    "#### Finding the Best Value for `k` Using the Elbow Curve"
   ]
  },
  {
   "cell_type": "code",
   "execution_count": 100,
   "metadata": {},
   "outputs": [
    {
     "data": {},
     "metadata": {},
     "output_type": "display_data"
    },
    {
     "data": {
      "application/vnd.holoviews_exec.v0+json": "",
      "text/html": [
       "<div id='1188'>\n",
       "\n",
       "\n",
       "\n",
       "\n",
       "\n",
       "  <div class=\"bk-root\" id=\"91afaa36-48b0-40d6-a092-0e65b7f036c7\" data-root-id=\"1188\"></div>\n",
       "</div>\n",
       "<script type=\"application/javascript\">(function(root) {\n",
       "  function embed_document(root) {\n",
       "    var docs_json = {\"1048a7db-d03f-45bd-903a-b7f99d42baf1\":{\"defs\":[{\"extends\":null,\"module\":null,\"name\":\"ReactiveHTML1\",\"overrides\":[],\"properties\":[]},{\"extends\":null,\"module\":null,\"name\":\"FlexBox1\",\"overrides\":[],\"properties\":[{\"default\":\"flex-start\",\"kind\":null,\"name\":\"align_content\"},{\"default\":\"flex-start\",\"kind\":null,\"name\":\"align_items\"},{\"default\":\"row\",\"kind\":null,\"name\":\"flex_direction\"},{\"default\":\"wrap\",\"kind\":null,\"name\":\"flex_wrap\"},{\"default\":\"flex-start\",\"kind\":null,\"name\":\"justify_content\"}]},{\"extends\":null,\"module\":null,\"name\":\"GridStack1\",\"overrides\":[],\"properties\":[{\"default\":\"warn\",\"kind\":null,\"name\":\"mode\"},{\"default\":null,\"kind\":null,\"name\":\"ncols\"},{\"default\":null,\"kind\":null,\"name\":\"nrows\"},{\"default\":true,\"kind\":null,\"name\":\"allow_resize\"},{\"default\":true,\"kind\":null,\"name\":\"allow_drag\"},{\"default\":[],\"kind\":null,\"name\":\"state\"}]},{\"extends\":null,\"module\":null,\"name\":\"click1\",\"overrides\":[],\"properties\":[{\"default\":\"\",\"kind\":null,\"name\":\"terminal_output\"},{\"default\":\"\",\"kind\":null,\"name\":\"debug_name\"},{\"default\":0,\"kind\":null,\"name\":\"clears\"}]},{\"extends\":null,\"module\":null,\"name\":\"TemplateActions1\",\"overrides\":[],\"properties\":[{\"default\":0,\"kind\":null,\"name\":\"open_modal\"},{\"default\":0,\"kind\":null,\"name\":\"close_modal\"}]},{\"extends\":null,\"module\":null,\"name\":\"MaterialTemplateActions1\",\"overrides\":[],\"properties\":[{\"default\":0,\"kind\":null,\"name\":\"open_modal\"},{\"default\":0,\"kind\":null,\"name\":\"close_modal\"}]}],\"roots\":{\"references\":[{\"attributes\":{\"end\":3991.66929635294,\"reset_end\":3991.66929635294,\"reset_start\":-226.3816719158931,\"start\":-226.3816719158931,\"tags\":[[[\"inertia\",\"inertia\",null]]]},\"id\":\"1191\",\"type\":\"Range1d\"},{\"attributes\":{\"tools\":[{\"id\":\"1192\"},{\"id\":\"1210\"},{\"id\":\"1211\"},{\"id\":\"1212\"},{\"id\":\"1213\"},{\"id\":\"1214\"}]},\"id\":\"1216\",\"type\":\"Toolbar\"},{\"attributes\":{},\"id\":\"1212\",\"type\":\"WheelZoomTool\"},{\"attributes\":{\"overlay\":{\"id\":\"1215\"}},\"id\":\"1213\",\"type\":\"BoxZoomTool\"},{\"attributes\":{},\"id\":\"1224\",\"type\":\"Selection\"},{\"attributes\":{\"margin\":[5,5,5,5],\"name\":\"HSpacer01925\",\"sizing_mode\":\"stretch_width\"},\"id\":\"1259\",\"type\":\"Spacer\"},{\"attributes\":{\"coordinates\":null,\"group\":null,\"text\":\"Elbow Curve\",\"text_color\":\"black\",\"text_font_size\":\"12pt\"},\"id\":\"1194\",\"type\":\"Title\"},{\"attributes\":{},\"id\":\"1198\",\"type\":\"LinearScale\"},{\"attributes\":{},\"id\":\"1235\",\"type\":\"AllLabels\"},{\"attributes\":{\"children\":[{\"id\":\"1189\"},{\"id\":\"1193\"},{\"id\":\"1259\"}],\"margin\":[0,0,0,0],\"name\":\"Row01920\",\"tags\":[\"embedded\"]},\"id\":\"1188\",\"type\":\"Row\"},{\"attributes\":{\"source\":{\"id\":\"1223\"}},\"id\":\"1230\",\"type\":\"CDSView\"},{\"attributes\":{},\"id\":\"1214\",\"type\":\"ResetTool\"},{\"attributes\":{\"axis_label\":\"k\",\"coordinates\":null,\"formatter\":{\"id\":\"1234\"},\"group\":null,\"major_label_policy\":{\"id\":\"1235\"},\"ticker\":{\"id\":\"1232\"}},\"id\":\"1202\",\"type\":\"LinearAxis\"},{\"attributes\":{\"margin\":[5,5,5,5],\"name\":\"HSpacer01924\",\"sizing_mode\":\"stretch_width\"},\"id\":\"1189\",\"type\":\"Spacer\"},{\"attributes\":{},\"id\":\"1200\",\"type\":\"LinearScale\"},{\"attributes\":{\"bottom_units\":\"screen\",\"coordinates\":null,\"fill_alpha\":0.5,\"fill_color\":\"lightgrey\",\"group\":null,\"left_units\":\"screen\",\"level\":\"overlay\",\"line_alpha\":1.0,\"line_color\":\"black\",\"line_dash\":[4,4],\"line_width\":2,\"right_units\":\"screen\",\"syncable\":false,\"top_units\":\"screen\"},\"id\":\"1215\",\"type\":\"BoxAnnotation\"},{\"attributes\":{\"data\":{\"inertia\":{\"__ndarray__\":\"dVpNgVRwrECci/bodEijQAlwLFaTF5dAExJcANIkgkDW9IO4pUt5QItLr2FuOHJAez0xzJekbECKOTX/vW5nQDpgzj9pdWNAzFqoRthHX0A=\",\"dtype\":\"float64\",\"order\":\"little\",\"shape\":[10]},\"k\":[1,2,3,4,5,6,7,8,9,10]},\"selected\":{\"id\":\"1224\"},\"selection_policy\":{\"id\":\"1247\"}},\"id\":\"1223\",\"type\":\"ColumnDataSource\"},{\"attributes\":{},\"id\":\"1239\",\"type\":\"BasicTickFormatter\"},{\"attributes\":{\"line_color\":\"#30a2da\",\"line_width\":2,\"x\":{\"field\":\"k\"},\"y\":{\"field\":\"inertia\"}},\"id\":\"1231\",\"type\":\"Line\"},{\"attributes\":{},\"id\":\"1247\",\"type\":\"UnionRenderers\"},{\"attributes\":{\"axis\":{\"id\":\"1202\"},\"coordinates\":null,\"grid_line_color\":null,\"group\":null,\"ticker\":null},\"id\":\"1205\",\"type\":\"Grid\"},{\"attributes\":{\"line_color\":\"#30a2da\",\"line_width\":2,\"x\":{\"field\":\"k\"},\"y\":{\"field\":\"inertia\"}},\"id\":\"1226\",\"type\":\"Line\"},{\"attributes\":{\"callback\":null,\"renderers\":[{\"id\":\"1229\"}],\"tags\":[\"hv_created\"],\"tooltips\":[[\"k\",\"@{k}\"],[\"inertia\",\"@{inertia}\"]]},\"id\":\"1192\",\"type\":\"HoverTool\"},{\"attributes\":{},\"id\":\"1207\",\"type\":\"BasicTicker\"},{\"attributes\":{\"axis_label\":\"inertia\",\"coordinates\":null,\"formatter\":{\"id\":\"1239\"},\"group\":null,\"major_label_policy\":{\"id\":\"1240\"},\"ticker\":{\"id\":\"1207\"}},\"id\":\"1206\",\"type\":\"LinearAxis\"},{\"attributes\":{\"end\":10.0,\"reset_end\":10.0,\"reset_start\":1.0,\"start\":1.0,\"tags\":[[[\"k\",\"k\",null]]]},\"id\":\"1190\",\"type\":\"Range1d\"},{\"attributes\":{\"line_alpha\":0.1,\"line_color\":\"#30a2da\",\"line_width\":2,\"x\":{\"field\":\"k\"},\"y\":{\"field\":\"inertia\"}},\"id\":\"1227\",\"type\":\"Line\"},{\"attributes\":{\"ticks\":[1,2,3,4,5,6,7,8,9,10]},\"id\":\"1232\",\"type\":\"FixedTicker\"},{\"attributes\":{\"line_alpha\":0.2,\"line_color\":\"#30a2da\",\"line_width\":2,\"x\":{\"field\":\"k\"},\"y\":{\"field\":\"inertia\"}},\"id\":\"1228\",\"type\":\"Line\"},{\"attributes\":{},\"id\":\"1240\",\"type\":\"AllLabels\"},{\"attributes\":{\"coordinates\":null,\"data_source\":{\"id\":\"1223\"},\"glyph\":{\"id\":\"1226\"},\"group\":null,\"hover_glyph\":null,\"muted_glyph\":{\"id\":\"1228\"},\"nonselection_glyph\":{\"id\":\"1227\"},\"selection_glyph\":{\"id\":\"1231\"},\"view\":{\"id\":\"1230\"}},\"id\":\"1229\",\"type\":\"GlyphRenderer\"},{\"attributes\":{\"below\":[{\"id\":\"1202\"}],\"center\":[{\"id\":\"1205\"},{\"id\":\"1209\"}],\"height\":300,\"left\":[{\"id\":\"1206\"}],\"margin\":[5,5,5,5],\"min_border_bottom\":10,\"min_border_left\":10,\"min_border_right\":10,\"min_border_top\":10,\"renderers\":[{\"id\":\"1229\"}],\"sizing_mode\":\"fixed\",\"title\":{\"id\":\"1194\"},\"toolbar\":{\"id\":\"1216\"},\"width\":700,\"x_range\":{\"id\":\"1190\"},\"x_scale\":{\"id\":\"1198\"},\"y_range\":{\"id\":\"1191\"},\"y_scale\":{\"id\":\"1200\"}},\"id\":\"1193\",\"subtype\":\"Figure\",\"type\":\"Plot\"},{\"attributes\":{},\"id\":\"1210\",\"type\":\"SaveTool\"},{\"attributes\":{},\"id\":\"1234\",\"type\":\"BasicTickFormatter\"},{\"attributes\":{},\"id\":\"1211\",\"type\":\"PanTool\"},{\"attributes\":{\"axis\":{\"id\":\"1206\"},\"coordinates\":null,\"dimension\":1,\"grid_line_color\":null,\"group\":null,\"ticker\":null},\"id\":\"1209\",\"type\":\"Grid\"}],\"root_ids\":[\"1188\"]},\"title\":\"Bokeh Application\",\"version\":\"2.4.2\"}};\n",
       "    var render_items = [{\"docid\":\"1048a7db-d03f-45bd-903a-b7f99d42baf1\",\"root_ids\":[\"1188\"],\"roots\":{\"1188\":\"91afaa36-48b0-40d6-a092-0e65b7f036c7\"}}];\n",
       "    root.Bokeh.embed.embed_items_notebook(docs_json, render_items);\n",
       "  }\n",
       "  if (root.Bokeh !== undefined && root.Bokeh.Panel !== undefined) {\n",
       "    embed_document(root);\n",
       "  } else {\n",
       "    var attempts = 0;\n",
       "    var timer = setInterval(function(root) {\n",
       "      if (root.Bokeh !== undefined && root.Bokeh.Panel !== undefined) {\n",
       "        clearInterval(timer);\n",
       "        embed_document(root);\n",
       "      } else if (document.readyState == \"complete\") {\n",
       "        attempts++;\n",
       "        if (attempts > 200) {\n",
       "          clearInterval(timer);\n",
       "          console.log(\"Bokeh: ERROR: Unable to run BokehJS code because BokehJS library is missing\");\n",
       "        }\n",
       "      }\n",
       "    }, 25, root)\n",
       "  }\n",
       "})(window);</script>"
      ],
      "text/plain": [
       ":Curve   [k]   (inertia)"
      ]
     },
     "execution_count": 100,
     "metadata": {
      "application/vnd.holoviews_exec.v0+json": {
       "id": "1188"
      }
     },
     "output_type": "execute_result"
    }
   ],
   "source": [
    "# Create an elbow curve to find the best value for K.\n",
    "inertia = []\n",
    "k = list(range(1, 11))\n",
    "\n",
    "# Calculate the inertia for the range of K values\n",
    "for i in k:\n",
    "    km = KMeans(n_clusters=i, random_state=0)\n",
    "    km.fit(data_pca)\n",
    "    inertia.append(km.inertia_)\n",
    "    \n",
    "elbow_data = {\"k\": k, \"inertia\": inertia}\n",
    "df_elbow = pd.DataFrame(elbow_data)\n",
    "df_elbow.hvplot.line(x=\"k\", y=\"inertia\", xticks=k, title=\"Elbow Curve\")\n",
    "\n"
   ]
  },
  {
   "cell_type": "markdown",
   "metadata": {},
   "source": [
    "Running K-Means with `k=4`"
   ]
  },
  {
   "cell_type": "code",
   "execution_count": 101,
   "metadata": {},
   "outputs": [
    {
     "name": "stdout",
     "output_type": "stream",
     "text": [
      "[0 0 0 1 1 1 0 1 1 1 0 1 0 0 1 0 1 1 0 0 1 1 1 1 1 0 1 1 1 0 1 0 1 1 0 0 1\n",
      " 1 1 1 1 1 0 0 1 1 1 1 1 0 0 1 0 1 1 1 1 0 1 1 0 1 0 0 0 1 1 1 0 0 0 0 0 1\n",
      " 1 1 0 0 1 0 1 0 0 1 1 1 1 0 0 1 0 1 1 0 0 1 0 0 1 1 0 0 1 0 0 1 0 1 0 1 0\n",
      " 1 0 0 1 1 0 1 1 1 0 1 1 1 1 1 0 0 1 1 1 0 1 0 1 1 0 1 0 1 0 0 1 1 0 1 1 0\n",
      " 0 1 0 1 0 0 0 1 1 1 1 0 0 0 0 0 1 1 0 0 0 0 0 1 0 0 0 0 0 1 0 1 0 0 1 0 1\n",
      " 0 0 1 0 1 0 1 0 1 0 0 0 0 1 0 0 0 0 0 1 1 0 0 1 1 0 0 0 0 0 1 0 0 0 0 0 0\n",
      " 0 0 1 0 0 0 0 0 0 1 1 1 0 0 0 0 1 0 1 0 0 1 0 1 1 0 1 1 0 1 0 0 0 1 0 0 1\n",
      " 0 0 0 0 0 0 0 1 0 1 0 0 0 0 1 0 1 0 1 1 1 1 0 1 0 0 1 0 1 1 1 0 1 0 1 1 1\n",
      " 0 1 0 1 0 0 3 1 0 1 1 1 1 1 0 0 1 0 0 0 1 0 1 0 1 0 1 0 0 0 0 1 0 0 1 0 0\n",
      " 0 1 1 1 1 0 0 0 0 1 0 1 1 1 0 0 1 1 0 0 1 0 1 1 1 0 1 1 0 0 0 1 1 1 0 0 0\n",
      " 1 1 0 1 1 1 1 0 3 3 1 1 1 0 3 0 0 0 0 1 1 1 1 0 0 0 1 0 1 0 0 0 0 1 0 0 1\n",
      " 0 0 1 1 0 1 0 1 1 1 1 0 0 1 0 1 0 0 0 0 0 0 1 1 1 0 0 0 0 0 0 1 0 1 1 1 1\n",
      " 0 0 0 0 1 0 0 1 0 0 1 3 1 0 1 1 0 0 1 0 1 1 0 1 1 0 1 0 1 0 0 1 0 0 0 0 0\n",
      " 1 1 1 0 0 0 1 0 1 0 1 0 0 0 0 1 0 0 0 1 0 1 0 1 0 0 0 1 1 0 0 0 0 0 0 1 0\n",
      " 1 0 1 0 0 3 0 2 0 0 0 1 1 0]\n"
     ]
    }
   ],
   "source": [
    "# Initialize the K-Means model.\n",
    "model = KMeans(n_clusters=4, random_state=0)\n",
    "model\n",
    "\n",
    "# Fit the model\n",
    "model.fit(data_pca)\n",
    "\n",
    "# Predict clusters\n",
    "predictions = model.predict(data_pca)\n",
    "print(predictions)"
   ]
  },
  {
   "cell_type": "code",
   "execution_count": 102,
   "metadata": {},
   "outputs": [
    {
     "name": "stdout",
     "output_type": "stream",
     "text": [
      "(532, 9)\n"
     ]
    },
    {
     "data": {
      "text/html": [
       "<div>\n",
       "<style scoped>\n",
       "    .dataframe tbody tr th:only-of-type {\n",
       "        vertical-align: middle;\n",
       "    }\n",
       "\n",
       "    .dataframe tbody tr th {\n",
       "        vertical-align: top;\n",
       "    }\n",
       "\n",
       "    .dataframe thead th {\n",
       "        text-align: right;\n",
       "    }\n",
       "</style>\n",
       "<table border=\"1\" class=\"dataframe\">\n",
       "  <thead>\n",
       "    <tr style=\"text-align: right;\">\n",
       "      <th></th>\n",
       "      <th>Algorithm</th>\n",
       "      <th>ProofType</th>\n",
       "      <th>TotalCoinsMined</th>\n",
       "      <th>TotalCoinSupply</th>\n",
       "      <th>principal component 1</th>\n",
       "      <th>principal component 2</th>\n",
       "      <th>principal component 3</th>\n",
       "      <th>CoinName</th>\n",
       "      <th>Class</th>\n",
       "    </tr>\n",
       "  </thead>\n",
       "  <tbody>\n",
       "    <tr>\n",
       "      <th>42</th>\n",
       "      <td>Scrypt</td>\n",
       "      <td>PoW/PoS</td>\n",
       "      <td>4.199995e+01</td>\n",
       "      <td>42</td>\n",
       "      <td>-0.351315</td>\n",
       "      <td>0.995219</td>\n",
       "      <td>-0.590909</td>\n",
       "      <td>42 Coin</td>\n",
       "      <td>0</td>\n",
       "    </tr>\n",
       "    <tr>\n",
       "      <th>404</th>\n",
       "      <td>Scrypt</td>\n",
       "      <td>PoW/PoS</td>\n",
       "      <td>1.055185e+09</td>\n",
       "      <td>532000000</td>\n",
       "      <td>-0.334577</td>\n",
       "      <td>0.995519</td>\n",
       "      <td>-0.591268</td>\n",
       "      <td>404Coin</td>\n",
       "      <td>0</td>\n",
       "    </tr>\n",
       "    <tr>\n",
       "      <th>1337</th>\n",
       "      <td>X13</td>\n",
       "      <td>PoW/PoS</td>\n",
       "      <td>2.927942e+10</td>\n",
       "      <td>314159265359</td>\n",
       "      <td>2.319544</td>\n",
       "      <td>1.634819</td>\n",
       "      <td>-0.662071</td>\n",
       "      <td>EliteCoin</td>\n",
       "      <td>0</td>\n",
       "    </tr>\n",
       "    <tr>\n",
       "      <th>BTC</th>\n",
       "      <td>SHA-256</td>\n",
       "      <td>PoW</td>\n",
       "      <td>1.792718e+07</td>\n",
       "      <td>21000000</td>\n",
       "      <td>-0.149113</td>\n",
       "      <td>-1.301193</td>\n",
       "      <td>0.146052</td>\n",
       "      <td>Bitcoin</td>\n",
       "      <td>1</td>\n",
       "    </tr>\n",
       "    <tr>\n",
       "      <th>ETH</th>\n",
       "      <td>Ethash</td>\n",
       "      <td>PoW</td>\n",
       "      <td>1.076842e+08</td>\n",
       "      <td>0</td>\n",
       "      <td>-0.138931</td>\n",
       "      <td>-2.041152</td>\n",
       "      <td>0.340768</td>\n",
       "      <td>Ethereum</td>\n",
       "      <td>1</td>\n",
       "    </tr>\n",
       "    <tr>\n",
       "      <th>LTC</th>\n",
       "      <td>Scrypt</td>\n",
       "      <td>PoW</td>\n",
       "      <td>6.303924e+07</td>\n",
       "      <td>84000000</td>\n",
       "      <td>-0.174692</td>\n",
       "      <td>-1.144745</td>\n",
       "      <td>-0.039344</td>\n",
       "      <td>Litecoin</td>\n",
       "      <td>1</td>\n",
       "    </tr>\n",
       "    <tr>\n",
       "      <th>DASH</th>\n",
       "      <td>X11</td>\n",
       "      <td>PoW/PoS</td>\n",
       "      <td>9.031294e+06</td>\n",
       "      <td>22000000</td>\n",
       "      <td>-0.392533</td>\n",
       "      <td>1.234465</td>\n",
       "      <td>-0.457640</td>\n",
       "      <td>Dash</td>\n",
       "      <td>0</td>\n",
       "    </tr>\n",
       "    <tr>\n",
       "      <th>XMR</th>\n",
       "      <td>CryptoNight-V7</td>\n",
       "      <td>PoW</td>\n",
       "      <td>1.720114e+07</td>\n",
       "      <td>0</td>\n",
       "      <td>-0.132783</td>\n",
       "      <td>-2.191797</td>\n",
       "      <td>0.294127</td>\n",
       "      <td>Monero</td>\n",
       "      <td>1</td>\n",
       "    </tr>\n",
       "    <tr>\n",
       "      <th>ETC</th>\n",
       "      <td>Ethash</td>\n",
       "      <td>PoW</td>\n",
       "      <td>1.133597e+08</td>\n",
       "      <td>210000000</td>\n",
       "      <td>-0.137365</td>\n",
       "      <td>-2.041242</td>\n",
       "      <td>0.340753</td>\n",
       "      <td>Ethereum Classic</td>\n",
       "      <td>1</td>\n",
       "    </tr>\n",
       "    <tr>\n",
       "      <th>ZEC</th>\n",
       "      <td>Equihash</td>\n",
       "      <td>PoW</td>\n",
       "      <td>7.383056e+06</td>\n",
       "      <td>21000000</td>\n",
       "      <td>-0.136221</td>\n",
       "      <td>-1.932083</td>\n",
       "      <td>0.359915</td>\n",
       "      <td>ZCash</td>\n",
       "      <td>1</td>\n",
       "    </tr>\n",
       "  </tbody>\n",
       "</table>\n",
       "</div>"
      ],
      "text/plain": [
       "           Algorithm ProofType  TotalCoinsMined TotalCoinSupply  \\\n",
       "42            Scrypt   PoW/PoS     4.199995e+01              42   \n",
       "404           Scrypt   PoW/PoS     1.055185e+09       532000000   \n",
       "1337             X13   PoW/PoS     2.927942e+10    314159265359   \n",
       "BTC          SHA-256       PoW     1.792718e+07        21000000   \n",
       "ETH           Ethash       PoW     1.076842e+08               0   \n",
       "LTC           Scrypt       PoW     6.303924e+07        84000000   \n",
       "DASH             X11   PoW/PoS     9.031294e+06        22000000   \n",
       "XMR   CryptoNight-V7       PoW     1.720114e+07               0   \n",
       "ETC           Ethash       PoW     1.133597e+08       210000000   \n",
       "ZEC         Equihash       PoW     7.383056e+06        21000000   \n",
       "\n",
       "      principal component 1  principal component 2  principal component 3  \\\n",
       "42                -0.351315               0.995219              -0.590909   \n",
       "404               -0.334577               0.995519              -0.591268   \n",
       "1337               2.319544               1.634819              -0.662071   \n",
       "BTC               -0.149113              -1.301193               0.146052   \n",
       "ETH               -0.138931              -2.041152               0.340768   \n",
       "LTC               -0.174692              -1.144745              -0.039344   \n",
       "DASH              -0.392533               1.234465              -0.457640   \n",
       "XMR               -0.132783              -2.191797               0.294127   \n",
       "ETC               -0.137365              -2.041242               0.340753   \n",
       "ZEC               -0.136221              -1.932083               0.359915   \n",
       "\n",
       "              CoinName  Class  \n",
       "42             42 Coin      0  \n",
       "404            404Coin      0  \n",
       "1337         EliteCoin      0  \n",
       "BTC            Bitcoin      1  \n",
       "ETH           Ethereum      1  \n",
       "LTC           Litecoin      1  \n",
       "DASH              Dash      0  \n",
       "XMR             Monero      1  \n",
       "ETC   Ethereum Classic      1  \n",
       "ZEC              ZCash      1  "
      ]
     },
     "execution_count": 102,
     "metadata": {},
     "output_type": "execute_result"
    }
   ],
   "source": [
    "# Create a new DataFrame including predicted clusters and cryptocurrencies features.\n",
    "# Concatentate the crypto_df and pcs_df DataFrames on the same columns.\n",
    "clustered_df = pd.concat([crypto_df, data_pca], axis = 1, join='inner')\n",
    "\n",
    "#  Add a new column, \"CoinName\" to the clustered_df DataFrame that holds the names of the cryptocurrencies. \n",
    "clustered_df['CoinName'] = crypto_data_new.CoinName\n",
    "\n",
    "#  Add a new column, \"Class\" to the clustered_df DataFrame that holds the predictions.\n",
    "clustered_df[\"Class\"] = model.labels_\n",
    "\n",
    "# Print the shape of the clustered_df\n",
    "print(clustered_df.shape)\n",
    "clustered_df.head(10)"
   ]
  },
  {
   "cell_type": "markdown",
   "metadata": {},
   "source": [
    "### Deliverable 4: Visualizing Cryptocurrencies Results\n",
    "\n",
    "#### 3D-Scatter with Clusters"
   ]
  },
  {
   "cell_type": "code",
   "execution_count": 103,
   "metadata": {},
   "outputs": [
    {
     "data": {
      "application/vnd.plotly.v1+json": {
       "config": {
        "plotlyServerURL": "https://plot.ly"
       },
       "data": [
        {
         "customdata": [
          [
           "Scrypt"
          ],
          [
           "Scrypt"
          ],
          [
           "X13"
          ],
          [
           "X11"
          ],
          [
           "SHA-512"
          ],
          [
           "SHA-256"
          ],
          [
           "SHA-256"
          ],
          [
           "X15"
          ],
          [
           "Scrypt"
          ],
          [
           "Scrypt"
          ],
          [
           "Scrypt"
          ],
          [
           "Scrypt"
          ],
          [
           "Scrypt"
          ],
          [
           "Scrypt"
          ],
          [
           "Groestl"
          ],
          [
           "PoS"
          ],
          [
           "Scrypt"
          ],
          [
           "Scrypt"
          ],
          [
           "X11"
          ],
          [
           "X11"
          ],
          [
           "SHA3"
          ],
          [
           "Scrypt"
          ],
          [
           "SHA-256"
          ],
          [
           "Scrypt"
          ],
          [
           "X13"
          ],
          [
           "X13"
          ],
          [
           "NeoScrypt"
          ],
          [
           "Scrypt"
          ],
          [
           "Scrypt"
          ],
          [
           "Scrypt"
          ],
          [
           "X11"
          ],
          [
           "X11"
          ],
          [
           "Multiple"
          ],
          [
           "PHI1612"
          ],
          [
           "X11"
          ],
          [
           "Scrypt"
          ],
          [
           "Scrypt"
          ],
          [
           "Scrypt"
          ],
          [
           "X11"
          ],
          [
           "Multiple"
          ],
          [
           "X13"
          ],
          [
           "Scrypt"
          ],
          [
           "Shabal256"
          ],
          [
           "Counterparty"
          ],
          [
           "SHA-256"
          ],
          [
           "Groestl"
          ],
          [
           "Scrypt"
          ],
          [
           "X13"
          ],
          [
           "Scrypt"
          ],
          [
           "Scrypt"
          ],
          [
           "X13"
          ],
          [
           "X11"
          ],
          [
           "Scrypt"
          ],
          [
           "X11"
          ],
          [
           "SHA3"
          ],
          [
           "QUAIT"
          ],
          [
           "X11"
          ],
          [
           "Scrypt"
          ],
          [
           "X13"
          ],
          [
           "SHA-256"
          ],
          [
           "X15"
          ],
          [
           "BLAKE256"
          ],
          [
           "SHA-256"
          ],
          [
           "X11"
          ],
          [
           "SHA-256"
          ],
          [
           "NIST5"
          ],
          [
           "Scrypt"
          ],
          [
           "Scrypt"
          ],
          [
           "X11"
          ],
          [
           "Scrypt"
          ],
          [
           "SHA-256"
          ],
          [
           "Scrypt"
          ],
          [
           "PoS"
          ],
          [
           "X11"
          ],
          [
           "SHA-256"
          ],
          [
           "SHA-256"
          ],
          [
           "NIST5"
          ],
          [
           "X11"
          ],
          [
           "POS 3.0"
          ],
          [
           "Scrypt"
          ],
          [
           "Scrypt"
          ],
          [
           "Scrypt"
          ],
          [
           "X13"
          ],
          [
           "X11"
          ],
          [
           "X11"
          ],
          [
           "Scrypt"
          ],
          [
           "SHA-256"
          ],
          [
           "X11"
          ],
          [
           "Scrypt"
          ],
          [
           "Scrypt"
          ],
          [
           "Scrypt"
          ],
          [
           "Scrypt"
          ],
          [
           "SHA-256D"
          ],
          [
           "PoS"
          ],
          [
           "Scrypt"
          ],
          [
           "X11"
          ],
          [
           "PoS"
          ],
          [
           "X13"
          ],
          [
           "X14"
          ],
          [
           "PoS"
          ],
          [
           "SHA-256D"
          ],
          [
           "DPoS"
          ],
          [
           "X11"
          ],
          [
           "X13"
          ],
          [
           "X11"
          ],
          [
           "PoS"
          ],
          [
           "Scrypt"
          ],
          [
           "Scrypt"
          ],
          [
           "PoS"
          ],
          [
           "X11"
          ],
          [
           "SHA-256"
          ],
          [
           "Scrypt"
          ],
          [
           "X11"
          ],
          [
           "Scrypt"
          ],
          [
           "Scrypt"
          ],
          [
           "X11"
          ],
          [
           "Scrypt"
          ],
          [
           "Scrypt"
          ],
          [
           "Scrypt"
          ],
          [
           "Scrypt"
          ],
          [
           "Quark"
          ],
          [
           "QuBit"
          ],
          [
           "Scrypt"
          ],
          [
           "SHA-256"
          ],
          [
           "X11"
          ],
          [
           "Scrypt"
          ],
          [
           "Scrypt"
          ],
          [
           "Scrypt"
          ],
          [
           "Scrypt"
          ],
          [
           "X13"
          ],
          [
           "Scrypt"
          ],
          [
           "Scrypt"
          ],
          [
           "X11"
          ],
          [
           "Blake2S"
          ],
          [
           "X11"
          ],
          [
           "PoS"
          ],
          [
           "X11"
          ],
          [
           "PoS"
          ],
          [
           "X11"
          ],
          [
           "Scrypt"
          ],
          [
           "Scrypt"
          ],
          [
           "Scrypt"
          ],
          [
           "SHA-256"
          ],
          [
           "X11"
          ],
          [
           "Scrypt"
          ],
          [
           "PoS"
          ],
          [
           "Scrypt"
          ],
          [
           "X15"
          ],
          [
           "SHA-256"
          ],
          [
           "POS 3.0"
          ],
          [
           "536"
          ],
          [
           "NIST5"
          ],
          [
           "NIST5"
          ],
          [
           "Skein"
          ],
          [
           "X13"
          ],
          [
           "Scrypt"
          ],
          [
           "X13"
          ],
          [
           "SkunkHash v2 Raptor"
          ],
          [
           "Skein"
          ],
          [
           "X11"
          ],
          [
           "Scrypt"
          ],
          [
           "PoS"
          ],
          [
           "Scrypt"
          ],
          [
           "Scrypt"
          ],
          [
           "SHA-512"
          ],
          [
           "Ouroboros"
          ],
          [
           "X11"
          ],
          [
           "NeoScrypt"
          ],
          [
           "Scrypt"
          ],
          [
           "Lyra2REv2"
          ],
          [
           "Scrypt"
          ],
          [
           "SHA-256"
          ],
          [
           "NIST5"
          ],
          [
           "PHI1612"
          ],
          [
           "Scrypt"
          ],
          [
           "Quark"
          ],
          [
           "POS 2.0"
          ],
          [
           "Scrypt"
          ],
          [
           "SHA-256"
          ],
          [
           "X11"
          ],
          [
           "DPoS"
          ],
          [
           "NIST5"
          ],
          [
           "X13"
          ],
          [
           "Scrypt"
          ],
          [
           "NIST5"
          ],
          [
           "Quark"
          ],
          [
           "Scrypt"
          ],
          [
           "Scrypt"
          ],
          [
           "X11"
          ],
          [
           "Quark"
          ],
          [
           "Scrypt"
          ],
          [
           "Scrypt"
          ],
          [
           "X11"
          ],
          [
           "POS 3.0"
          ],
          [
           "Ethash"
          ],
          [
           "Scrypt"
          ],
          [
           "Scrypt"
          ],
          [
           "X13"
          ],
          [
           "C11"
          ],
          [
           "X11"
          ],
          [
           "XEVAN"
          ],
          [
           "Scrypt"
          ],
          [
           "VBFT"
          ],
          [
           "NIST5"
          ],
          [
           "Scrypt"
          ],
          [
           "Scrypt"
          ],
          [
           "Scrypt"
          ],
          [
           "Green Protocol"
          ],
          [
           "PoS"
          ],
          [
           "Scrypt"
          ],
          [
           "Semux BFT consensus"
          ],
          [
           "Quark"
          ],
          [
           "PoS"
          ],
          [
           "X16R"
          ],
          [
           "Scrypt"
          ],
          [
           "XEVAN"
          ],
          [
           "Scrypt"
          ],
          [
           "Scrypt"
          ],
          [
           "Scrypt"
          ],
          [
           "SHA-256D"
          ],
          [
           "Scrypt"
          ],
          [
           "X15"
          ],
          [
           "Scrypt"
          ],
          [
           "Quark"
          ],
          [
           "SHA-256"
          ],
          [
           "DPoS"
          ],
          [
           "X16R"
          ],
          [
           "Quark"
          ],
          [
           "Quark"
          ],
          [
           "Scrypt"
          ],
          [
           "Lyra2REv2"
          ],
          [
           "Quark"
          ],
          [
           "Scrypt"
          ],
          [
           "X11"
          ],
          [
           "X11"
          ],
          [
           "Scrypt"
          ],
          [
           "PoS"
          ],
          [
           "Keccak"
          ],
          [
           "X11"
          ],
          [
           "Scrypt"
          ],
          [
           "SHA-512"
          ],
          [
           "XEVAN"
          ],
          [
           "XEVAN"
          ],
          [
           "X11"
          ],
          [
           "Quark"
          ],
          [
           "Equihash"
          ],
          [
           "Scrypt"
          ],
          [
           "Quark"
          ],
          [
           "Quark"
          ],
          [
           "Scrypt"
          ],
          [
           "X11"
          ],
          [
           "Scrypt"
          ],
          [
           "XEVAN"
          ],
          [
           "SHA-256D"
          ],
          [
           "X11"
          ],
          [
           "X11"
          ],
          [
           "DPoS"
          ],
          [
           "Scrypt"
          ],
          [
           "X11"
          ],
          [
           "Scrypt"
          ],
          [
           "Scrypt"
          ],
          [
           "SHA-256"
          ],
          [
           "Scrypt"
          ],
          [
           "X11"
          ],
          [
           "Scrypt"
          ],
          [
           "SHA-256"
          ],
          [
           "X11"
          ],
          [
           "Scrypt"
          ],
          [
           "Scrypt"
          ],
          [
           "X11"
          ],
          [
           "Scrypt"
          ],
          [
           "PoS"
          ],
          [
           "X11"
          ],
          [
           "SHA-256"
          ],
          [
           "DPoS"
          ],
          [
           "Scrypt"
          ],
          [
           "Scrypt"
          ],
          [
           "NeoScrypt"
          ],
          [
           "X13"
          ],
          [
           "DPoS"
          ],
          [
           "DPoS"
          ],
          [
           "SHA-256"
          ],
          [
           "PoS"
          ],
          [
           "PoS"
          ],
          [
           "SHA-256"
          ],
          [
           "Scrypt"
          ],
          [
           "Scrypt"
          ]
         ],
         "hovertemplate": "<b>%{hovertext}</b><br><br>Class=%{marker.color}<br>principal component 1=%{x}<br>principal component 2=%{y}<br>principal component 3=%{z}<br>Algorithm=%{customdata[0]}<extra></extra>",
         "hovertext": [
          "42 Coin",
          "404Coin",
          "EliteCoin",
          "Dash",
          "Bitshares",
          "BitcoinDark",
          "PayCoin",
          "KoboCoin",
          "Aurora Coin",
          "BlueCoin",
          "EnergyCoin",
          "BitBar",
          "CryptoBullion",
          "CasinoCoin",
          "Diamond",
          "Exclusive Coin",
          "FlutterCoin",
          "HoboNickels",
          "HyperStake",
          "IOCoin",
          "MaxCoin",
          "MintCoin",
          "MazaCoin",
          "Nautilus Coin",
          "NavCoin",
          "OpalCoin",
          "Orbitcoin",
          "PotCoin",
          "PhoenixCoin",
          "Reddcoin",
          "SuperCoin",
          "SyncCoin",
          "TeslaCoin",
          "TittieCoin",
          "TorCoin",
          "UnitaryStatus Dollar",
          "UltraCoin",
          "VeriCoin",
          "X11 Coin",
          "Crypti",
          "StealthCoin",
          "ZCC Coin",
          "BurstCoin",
          "StorjCoin",
          "Neutron",
          "FairCoin",
          "RubyCoin",
          "Kore",
          "Dnotes",
          "8BIT Coin",
          "Sativa Coin",
          "Ucoin",
          "Vtorrent",
          "IslaCoin",
          "Nexus",
          "Droidz",
          "Squall Coin",
          "Diggits",
          "Paycon",
          "Emercoin",
          "EverGreenCoin",
          "Decred",
          "EDRCoin",
          "Hitcoin",
          "DubaiCoin",
          "PWR Coin",
          "BillaryCoin",
          "GPU Coin",
          "EuropeCoin",
          "ZeitCoin",
          "SwingCoin",
          "SafeExchangeCoin",
          "Nebuchadnezzar",
          "Ratecoin",
          "Revenu",
          "Clockcoin",
          "VIP Tokens",
          "BitSend",
          "Let it Ride",
          "PutinCoin",
          "iBankCoin",
          "Frankywillcoin",
          "MudraCoin",
          "Lutetium Coin",
          "GoldBlocks",
          "CarterCoin",
          "BitTokens",
          "MustangCoin",
          "ZoneCoin",
          "RootCoin",
          "BitCurrency",
          "Swiscoin",
          "BuzzCoin",
          "Opair",
          "PesoBit",
          "Halloween Coin",
          "CoffeeCoin",
          "RoyalCoin",
          "GanjaCoin V2",
          "TeamUP",
          "LanaCoin",
          "ARK",
          "InsaneCoin",
          "EmberCoin",
          "XenixCoin",
          "FreeCoin",
          "PLNCoin",
          "AquariusCoin",
          "Creatio",
          "Eternity",
          "Eurocoin",
          "BitcoinFast",
          "Stakenet",
          "BitConnect Coin",
          "MoneyCoin",
          "Enigma",
          "Russiacoin",
          "PandaCoin",
          "GameUnits",
          "GAKHcoin",
          "Allsafe",
          "LiteCreed",
          "Klingon Empire Darsek",
          "Internet of People",
          "KushCoin",
          "Printerium",
          "Impeach",
          "Zilbercoin",
          "FirstCoin",
          "FindCoin",
          "OpenChat",
          "RenosCoin",
          "VirtacoinPlus",
          "TajCoin",
          "Impact",
          "Atmos",
          "HappyCoin",
          "MacronCoin",
          "Condensate",
          "Independent Money System",
          "ArgusCoin",
          "LomoCoin",
          "ProCurrency",
          "GoldReserve",
          "GrowthCoin",
          "Phreak",
          "Degas Coin",
          "HTML5 Coin",
          "Ultimate Secure Cash",
          "QTUM",
          "Espers",
          "Denarius",
          "Virta Unique Coin",
          "Bitcoin Planet",
          "BritCoin",
          "Linda",
          "DeepOnion",
          "Signatum",
          "Cream",
          "Monoeci",
          "Draftcoin",
          "Stakecoin",
          "CoinonatX",
          "Ethereum Dark",
          "Obsidian",
          "Cardano",
          "Regalcoin",
          "TrezarCoin",
          "TerraNovaCoin",
          "Rupee",
          "WomenCoin",
          "Theresa May Coin",
          "NamoCoin",
          "LUXCoin",
          "Xios",
          "Bitcloud 2.0",
          "KekCoin",
          "BlackholeCoin",
          "Infinity Economics",
          "Magnet",
          "Lamden Tau",
          "Electra",
          "Bitcoin Diamond",
          "Cash & Back Coin",
          "Bulwark",
          "Kalkulus",
          "GermanCoin",
          "LiteCoin Ultra",
          "PhantomX",
          "Digiwage",
          "Trollcoin",
          "Litecoin Plus",
          "Monkey Project",
          "TokenPay",
          "1717 Masonic Commemorative Token",
          "My Big Coin",
          "Unified Society USDEX",
          "Tokyo Coin",
          "Stipend",
          "Pushi",
          "Ellerium",
          "Velox",
          "Ontology",
          "Bitspace",
          "Briacoin",
          "Ignition",
          "MedicCoin",
          "Bitcoin Green",
          "Deviant Coin",
          "Abjcoin",
          "Semux",
          "Carebit",
          "Zealium",
          "Proton",
          "iDealCash",
          "Bitcoin Incognito",
          "HollyWoodCoin",
          "Swisscoin",
          "Xt3ch",
          "TheVig",
          "EmaratCoin",
          "Dekado",
          "Lynx",
          "Poseidon Quark",
          "BitcoinWSpectrum",
          "Muse",
          "Trivechain",
          "Dystem",
          "Giant",
          "Peony Coin",
          "Absolute Coin",
          "Vitae",
          "TPCash",
          "ARENON",
          "EUNO",
          "MMOCoin",
          "Ketan",
          "XDNA",
          "PAXEX",
          "ThunderStake",
          "Kcash",
          "Bettex coin",
          "BitMoney",
          "Junson Ming Chan Coin",
          "HerbCoin",
          "PirateCash",
          "Oduwa",
          "Galilel",
          "Crypto Sports",
          "Credit",
          "Dash Platinum",
          "Nasdacoin",
          "Beetle Coin",
          "Titan Coin",
          "Award",
          "Insane Coin",
          "ALAX",
          "LiteDoge",
          "TruckCoin",
          "OrangeCoin",
          "BitstarCoin",
          "NeosCoin",
          "HyperCoin",
          "PinkCoin",
          "AudioCoin",
          "IncaKoin",
          "Piggy Coin",
          "Genstake",
          "XiaoMiCoin",
          "CapriCoin",
          " ClubCoin",
          "Radium",
          "Creditbit ",
          "OKCash",
          "Lisk",
          "HiCoin",
          "WhiteCoin",
          "FriendshipCoin",
          "Triangles Coin",
          "EOS",
          "Oxycoin",
          "TigerCash",
          "Particl",
          "Nxt",
          "ZEPHYR",
          "Gapcoin",
          "BitcoinPlus"
         ],
         "legendgroup": "0",
         "marker": {
          "color": [
           0,
           0,
           0,
           0,
           0,
           0,
           0,
           0,
           0,
           0,
           0,
           0,
           0,
           0,
           0,
           0,
           0,
           0,
           0,
           0,
           0,
           0,
           0,
           0,
           0,
           0,
           0,
           0,
           0,
           0,
           0,
           0,
           0,
           0,
           0,
           0,
           0,
           0,
           0,
           0,
           0,
           0,
           0,
           0,
           0,
           0,
           0,
           0,
           0,
           0,
           0,
           0,
           0,
           0,
           0,
           0,
           0,
           0,
           0,
           0,
           0,
           0,
           0,
           0,
           0,
           0,
           0,
           0,
           0,
           0,
           0,
           0,
           0,
           0,
           0,
           0,
           0,
           0,
           0,
           0,
           0,
           0,
           0,
           0,
           0,
           0,
           0,
           0,
           0,
           0,
           0,
           0,
           0,
           0,
           0,
           0,
           0,
           0,
           0,
           0,
           0,
           0,
           0,
           0,
           0,
           0,
           0,
           0,
           0,
           0,
           0,
           0,
           0,
           0,
           0,
           0,
           0,
           0,
           0,
           0,
           0,
           0,
           0,
           0,
           0,
           0,
           0,
           0,
           0,
           0,
           0,
           0,
           0,
           0,
           0,
           0,
           0,
           0,
           0,
           0,
           0,
           0,
           0,
           0,
           0,
           0,
           0,
           0,
           0,
           0,
           0,
           0,
           0,
           0,
           0,
           0,
           0,
           0,
           0,
           0,
           0,
           0,
           0,
           0,
           0,
           0,
           0,
           0,
           0,
           0,
           0,
           0,
           0,
           0,
           0,
           0,
           0,
           0,
           0,
           0,
           0,
           0,
           0,
           0,
           0,
           0,
           0,
           0,
           0,
           0,
           0,
           0,
           0,
           0,
           0,
           0,
           0,
           0,
           0,
           0,
           0,
           0,
           0,
           0,
           0,
           0,
           0,
           0,
           0,
           0,
           0,
           0,
           0,
           0,
           0,
           0,
           0,
           0,
           0,
           0,
           0,
           0,
           0,
           0,
           0,
           0,
           0,
           0,
           0,
           0,
           0,
           0,
           0,
           0,
           0,
           0,
           0,
           0,
           0,
           0,
           0,
           0,
           0,
           0,
           0,
           0,
           0,
           0,
           0,
           0,
           0,
           0,
           0,
           0,
           0,
           0,
           0,
           0,
           0,
           0,
           0,
           0,
           0,
           0,
           0,
           0,
           0,
           0,
           0,
           0,
           0,
           0,
           0,
           0,
           0,
           0,
           0,
           0,
           0,
           0,
           0,
           0,
           0,
           0,
           0,
           0,
           0
          ],
          "coloraxis": "coloraxis",
          "symbol": "circle"
         },
         "mode": "markers",
         "name": "0",
         "scene": "scene",
         "showlegend": true,
         "type": "scatter3d",
         "x": [
          -0.3513147397674375,
          -0.33457664646258883,
          2.3195440567194905,
          -0.39253275439433866,
          -0.2552391657988703,
          -0.3245607496457061,
          -0.25633041759585995,
          -0.24363368308460814,
          -0.35097271694354637,
          -0.3435187118450418,
          -0.3498048805751648,
          -0.35131065425528973,
          -0.3512948638021044,
          0.6123464501885733,
          -0.36965113420757745,
          -0.313084527811897,
          -0.3162761886448127,
          -0.3493641823560328,
          -0.3040398862796162,
          -0.39242700010638326,
          -0.4068304670242084,
          -0.021892448162688663,
          -0.28768952470163645,
          -0.28283421087057997,
          -0.27815091434632755,
          -0.27877578453033064,
          -0.35646206482412335,
          -0.3455890177610277,
          -0.34970880474327204,
          0.00835854853006586,
          -0.32401155003856746,
          -0.39280035036729744,
          -0.23252398230449742,
          -0.2708657595914953,
          -0.392711526159821,
          -0.3264271301883684,
          -0.3499856200866869,
          -0.3435217836810466,
          -0.3926758889460234,
          -0.23299458120249378,
          -0.2785557106828411,
          -0.34237120865166354,
          -0.10872947308031894,
          -0.27513350236560513,
          -0.3237686973734207,
          -0.3690702607664833,
          -0.28281452495213344,
          -0.27885139056907376,
          -0.2774413969501505,
          -0.351296731611057,
          -0.2788033887047342,
          -0.3244581252786854,
          -0.3510298052782598,
          -0.3927818002706458,
          -0.37968282203066495,
          -0.433729836202718,
          -0.3507301684040068,
          -0.28120836631613916,
          -0.2783226362609062,
          -0.31707723693544976,
          -0.2460883532947141,
          -0.08586464610361359,
          -0.3245315391959743,
          -0.0686422575637763,
          -0.32459560486479516,
          -0.21938071654171967,
          -0.3509049656773124,
          -0.28107581130466164,
          -0.3899355956406703,
          0.8761086268202423,
          -0.32439455915608284,
          -0.12187336378897805,
          -0.31276627508775234,
          -0.3906149268773651,
          -0.3231311597787675,
          -0.320786824385405,
          -0.3412576312724638,
          -0.3915103891479325,
          -0.2920149741014764,
          -0.32708322077417207,
          -0.3509432062632571,
          -0.34937505488126797,
          -0.20930813726660646,
          -0.31188994831615163,
          -0.39225302662704975,
          -0.35014363688324457,
          -0.32457638522596366,
          -0.3927709198720059,
          -0.35113337776914066,
          -0.3512909400445557,
          -0.2810672431520553,
          -0.2787927676942519,
          0.013446727237561087,
          -0.3117184300330466,
          -0.35090344674168733,
          -0.37886127151273696,
          -0.31104448985065525,
          -0.21074655515932897,
          -0.43104083949922806,
          -0.3107901156094434,
          -0.3025316586467618,
          3.5917956144590013,
          -0.3923614884896271,
          0.8582125377058537,
          -0.3927256295072695,
          -0.3121843693775012,
          -0.350830361106344,
          -0.3509853175258689,
          -0.31276627508775234,
          -0.39229823513520556,
          -0.3244384794398996,
          -0.350831147633904,
          -0.35973671833787607,
          -0.3509792115467239,
          -0.3465430343327045,
          -0.3927547375372507,
          -0.3501855438040826,
          0.36346711419278194,
          -0.3511794686060995,
          -0.35125042469700096,
          -0.3214065932798918,
          -0.370742103235729,
          -0.34745679059899526,
          -0.3245526980483328,
          -0.39266426657580383,
          -0.35102714282723724,
          -0.3511546223119042,
          -0.282720163388685,
          -0.3269299199261013,
          -0.21051331323978228,
          -0.33191788357374563,
          -0.28246036343534814,
          -0.3919260942304082,
          -0.409562860954264,
          -0.39065898342350897,
          -0.3110045550646591,
          -0.39182354272940684,
          -0.3053780302268321,
          -0.3877437376908387,
          -0.35109767248736334,
          -0.35109679564216034,
          -0.3441807693775269,
          0.27925466330743737,
          -0.3923045824334183,
          -0.26527135559597853,
          -0.31280063021322835,
          -0.350304266619793,
          0.8939098370069205,
          -0.25501361919567334,
          -0.2907875300763355,
          0.5833587139654223,
          -0.3428005341271355,
          -0.34129541326446805,
          -0.42585373814639893,
          -0.2784869645185698,
          0.1160495356196825,
          -0.27855813473733376,
          -0.2999825850787015,
          -0.4253565061559097,
          -0.3925783931232892,
          -0.2827950052927019,
          -0.3126660616557619,
          -0.35073107660382663,
          -0.35123327378266866,
          -0.3135816913753425,
          0.738377949511084,
          -0.39251881778683273,
          -0.35143652165754174,
          -0.3511886002539537,
          -0.28370372224261764,
          0.4214314287192373,
          -0.32289121832248685,
          -0.32749202569784497,
          -0.3748012552933624,
          -0.3511386814457801,
          -0.3880068741866295,
          -0.30535470765327005,
          -0.35100857976895344,
          -0.08199497360938432,
          -0.39130530411578995,
          3.5966756086776392,
          0.21934186036854467,
          -0.27521310988668957,
          -0.34845631608748373,
          -0.2743962168083658,
          -0.32129196623979167,
          0.06533639071617771,
          -0.35014226725983316,
          -0.3918897367504945,
          -0.3204522728658874,
          -0.3376484174559146,
          -0.3512555016429221,
          -0.32442992613574306,
          -0.29229816916930945,
          -0.24730487873917809,
          -0.35485058551063065,
          -0.3467797488634645,
          -0.2022672381624213,
          -0.3867271539939898,
          -0.39259557890368385,
          -0.3151377190700325,
          -0.2819504812562884,
          -0.25397604167354726,
          -0.34239743596134037,
          -0.3512829819245086,
          -0.3512645975333259,
          -0.27630465304921886,
          -0.34171618506941226,
          -0.31225855831031035,
          -0.3509796813969595,
          3.7465713585008853,
          -0.3866692068757449,
          -0.31244810277491675,
          -0.2917703629004573,
          -0.2975786714762434,
          -0.2732208910154896,
          -0.2824878336312875,
          -0.1534667990968551,
          -0.28274081457723643,
          -0.36818969261272794,
          -0.3504509995625591,
          -0.17726205652758567,
          2.2237036927914793,
          -0.3169761338364426,
          -0.2551427495924018,
          0.9678965074182855,
          -0.3592704454836686,
          -0.3214059750127636,
          -0.3896999003358049,
          -0.16281738414322897,
          -0.3517981457891305,
          -0.32011935356185744,
          -0.34412060452508914,
          -0.32400523434355577,
          -0.39206644853136663,
          -0.2799726573918354,
          -0.3115429317550556,
          -0.3247172820037944,
          -0.3238656321938028,
          -0.2100090819378605,
          -0.34000312688005047,
          -0.24696417815796776,
          0.5430710539265087,
          -0.11348477954647655,
          -0.3889910930571132,
          -0.2426310135189014,
          -0.3509837499578149,
          -0.38944946287660087,
          -0.3215235175269426,
          0.5600487063424078,
          -0.32448448454752593,
          -0.35046391652783215,
          -0.3095658388882305,
          -0.32267361938254574,
          -0.389617489353311,
          -0.3922948290947799,
          3.6089739583139497,
          0.08610728050647287,
          -0.3898242253111447,
          -0.3498457758780163,
          -0.35067555793710015,
          -0.2563631132856804,
          -0.3511965751937407,
          -0.3838828221056291,
          -0.26443982797010623,
          -0.1032762351474354,
          -0.37960868646987284,
          -0.3504716818128514,
          -0.34350303885260886,
          -0.38884723887962136,
          -0.3489029478073348,
          -0.3130431787560423,
          -0.3450910238259026,
          -0.32306875011630637,
          3.592189404928804,
          -0.08911350101435254,
          -0.34608452818747376,
          -0.35608583583686215,
          -0.27895915572667024,
          3.602098182790444,
          3.6033476323402636,
          -0.2371698295535556,
          -0.3129787744847521,
          -0.33804645952734313,
          2.40425973948422,
          -0.349349592099919,
          -0.2831393497337557
         ],
         "y": [
          0.9952187882915321,
          0.9955194410696498,
          1.6348189641030428,
          1.2344646433740476,
          1.511134719146946,
          0.8387570743716533,
          0.6854986126525019,
          1.8902531645929106,
          0.9952206043318056,
          0.9955406340644833,
          0.9952811202889706,
          0.9952185901145746,
          0.9952188751253687,
          0.5806187815090728,
          0.9067682467593152,
          1.6126141817740276,
          0.23737358605089706,
          0.9952112646799607,
          1.0820518577444893,
          1.2344690092598083,
          2.1220772619957633,
          0.8527362214918491,
          0.8385203129124349,
          0.8419518130499808,
          1.7580895141131345,
          1.7580637174112612,
          0.48201123798671036,
          0.9951469932120207,
          0.9952131798635465,
          1.0100672877827264,
          1.081227361602584,
          1.234469737728289,
          0.208033433856771,
          1.7008240663327996,
          1.2344660679945032,
          0.9950722431217995,
          0.9952002845285507,
          0.3470421505061815,
          1.2344708410568925,
          0.20808738021968273,
          1.7580728027854386,
          0.9948542644070307,
          1.2408295428260316,
          1.6119731375101554,
          0.8387560207522791,
          0.9067954409221461,
          0.8419644977012166,
          1.7580517912361695,
          0.8418194469577361,
          0.9952195317584289,
          1.7580552403961751,
          1.0811942506565007,
          0.995215876510239,
          1.2344705042711956,
          2.5188204396313143,
          1.8931939324984017,
          0.9929170534563111,
          0.841957430989103,
          1.7580457377475276,
          0.8383484184139703,
          1.8903893415854804,
          0.8326404097799756,
          0.8387582802753477,
          1.228371193515724,
          0.8387640734705597,
          1.4929244990203037,
          0.9952048879684418,
          0.8418740818515937,
          1.234306247913032,
          0.8171681722932475,
          0.8387507279004002,
          0.5780817614915397,
          1.612612645448534,
          1.234504929272707,
          0.838668812117902,
          0.8385438020380742,
          1.4878269812446812,
          1.2344210021252482,
          1.6627463794340307,
          0.9947516605893919,
          0.9952015972056516,
          0.9952254906737331,
          1.6047026171172756,
          1.0812457125565553,
          1.2344556466723027,
          0.9952010984978208,
          0.8387571626257114,
          1.234468752222812,
          0.9952108669538839,
          0.9952197708533935,
          0.8420366312560558,
          0.25605335147280045,
          1.9267846660797603,
          1.6126162818597767,
          0.9952357678547994,
          1.233944576044798,
          1.612669051648545,
          1.6047881485108717,
          1.8242523589975963,
          1.6124880462217697,
          1.9229074135009028,
          1.6090437328557923,
          1.2344658438564031,
          1.8043786638606798,
          1.234469995836411,
          1.6126146561640402,
          0.995210506639772,
          0.9952015707791515,
          1.612612645448534,
          1.2344464428922641,
          0.8387635895737148,
          0.9952145391020695,
          0.7476769401918695,
          0.9952120952473353,
          0.9949383633684846,
          1.2344679527982092,
          0.9951597463537613,
          0.8447875627546368,
          0.9952148341111247,
          0.9952190105256599,
          1.561296998898735,
          0.5978974778386394,
          0.9950111859999077,
          0.8387581405105188,
          1.234468493023556,
          0.9952159864249972,
          0.9952093050831279,
          0.8419280374271975,
          0.25499593941801413,
          1.6047889544544043,
          0.9952858121389001,
          0.8419538585312503,
          1.23443245640111,
          1.981291297598264,
          1.2344774294901224,
          1.61261912543992,
          1.2344366900652621,
          1.6126388344591984,
          1.234311620922119,
          0.995212185343497,
          0.9952068007426862,
          0.9947795597727538,
          0.6525878247971104,
          1.234460855702331,
          0.8412212528386093,
          1.612603889731925,
          0.9951834610369737,
          1.8714347086760654,
          0.6854153359568241,
          1.6627482585033793,
          1.7652467014818063,
          1.4878219845165812,
          1.4878034092082508,
          1.8896687393264586,
          1.7580536285826038,
          0.9778260081960083,
          1.7580588363114351,
          1.6457430640109325,
          1.8896892667027823,
          1.2344719257014394,
          0.8419525320972101,
          1.6125862589324327,
          0.9952074793255222,
          0.9952190697888855,
          1.5113009824948276,
          1.6636228176838959,
          1.2344615500112988,
          0.48192797824106554,
          0.9952124515643442,
          0.7438331025356129,
          1.0087767391590245,
          0.8387687662252736,
          1.4875808168040325,
          1.8542590546181434,
          0.9952106480006214,
          1.7144939827180614,
          1.7053780767211673,
          0.9952205768320036,
          0.6861012451166911,
          1.234425799999831,
          1.6089700417201775,
          1.4890241425966473,
          1.7580567104709992,
          0.9951827075798466,
          1.3345507358618751,
          1.5612980623690966,
          0.975732402334149,
          0.9951571304979828,
          1.2344706444764526,
          1.5612593534433385,
          0.995122611039614,
          0.9952182988979866,
          1.081194681067742,
          1.6627409250178926,
          -0.05451589242264489,
          0.41606867067020614,
          0.9952357794715695,
          1.6045530432274704,
          0.8769697388931761,
          1.2344598485440015,
          1.5085662451252373,
          0.8419091842200866,
          1.672368960376304,
          1.4878092760432513,
          0.9952178981637125,
          0.9952171896472609,
          0.8418663754946859,
          1.6739093195529176,
          1.6125837111900438,
          0.995210608365621,
          1.5486764354715774,
          1.714549206035973,
          1.6125817561084588,
          0.7429279432312438,
          0.9936789977855636,
          1.2670358451170032,
          0.8419589072945837,
          0.9959024315606023,
          0.8419352560441392,
          1.925630929351713,
          0.995192812007048,
          1.7371017718459894,
          0.24566042533749535,
          1.5610139764680353,
          0.6854832486557412,
          1.5797994206069617,
          0.896195973104135,
          1.5612926219686003,
          1.7145670579831436,
          0.8345328041324014,
          0.8970832339008807,
          1.56128777229757,
          0.9947820435762723,
          1.0811872665047615,
          1.234463349231384,
          0.8418910463488253,
          1.6125237380446515,
          0.8857556371631781,
          1.0811600113350717,
          0.987844989148421,
          1.4366394931811028,
          1.3553058057518204,
          1.2225829257311076,
          1.0899186009571775,
          1.7145604773038887,
          0.05457366561061383,
          0.9952170440833729,
          1.7145672088552226,
          1.5612933678802958,
          0.9779589473079922,
          1.0811933825816686,
          0.9951922787521242,
          1.5084734240695867,
          1.9239146453261238,
          1.23429296566417,
          1.2344685957760493,
          1.6091108869635435,
          0.9875960287644274,
          1.2345926027189231,
          0.9951326835213107,
          0.9952053658426467,
          0.6854910260564286,
          0.9952236665456285,
          1.234471012249885,
          0.9911009762532458,
          0.8477691601566336,
          1.2342805914773034,
          0.9952425863993207,
          0.9952477841479068,
          1.2344803175270092,
          0.9952009562682368,
          1.6126092851180513,
          0.7781187471300041,
          0.8387577684154987,
          1.6090343687153208,
          0.842617207936067,
          0.995214585992355,
          0.4819853882512488,
          1.7580560591944754,
          1.60956077464869,
          1.609612356046502,
          0.685565054320276,
          1.6126122123857454,
          1.5716332338919716,
          0.7148777898877172,
          0.9951164805052963,
          0.841950354120661
         ],
         "z": [
          -0.5909092909634298,
          -0.5912680884908071,
          -0.6620714929311259,
          -0.457640349755649,
          0.041814612472805476,
          -0.4055325291998754,
          -0.08633033805899087,
          -0.6020514474359818,
          -0.5909159226853662,
          -0.5911058108790312,
          -0.5909473510416251,
          -0.5909093346208676,
          -0.5909096733279344,
          -0.21771186129638517,
          -0.3545574180843558,
          -0.032712197433702565,
          -0.2796200200318939,
          -0.5909442198941103,
          -0.13895041383417717,
          -0.45764301557770704,
          -0.6999892043862809,
          -0.27829002029066097,
          -0.406177497445693,
          -0.2717103593250303,
          -0.633870170469159,
          -0.6338544189308203,
          -0.31140111947152305,
          -0.5910037827629445,
          -0.5909381434487213,
          -0.5999758262826518,
          -0.13844697418312105,
          -0.4576362148501118,
          0.10861669340336297,
          -0.10122942666961675,
          -0.45763726734460336,
          -0.5913467818295027,
          -0.5909309282358067,
          -0.4543982789021613,
          -0.4576386996817479,
          0.10861668933889558,
          -0.6338599664857122,
          -0.5910160690024361,
          0.18942209963166223,
          -0.14458717122993564,
          -0.40554703629534083,
          -0.35457258033104316,
          -0.27171277560653495,
          -0.6338510890632204,
          -0.27178888589503597,
          -0.5909097449125614,
          -0.6338525364152571,
          -0.1384333436939351,
          -0.5909141001549216,
          -0.45763668257399737,
          -0.6415595283926684,
          -0.7703854045970697,
          -0.04414078669097964,
          -0.2717413963880068,
          -0.6338599083656702,
          -0.405605114223513,
          -0.6020279838536012,
          -0.4771189814125962,
          -0.40553326552804503,
          -0.46265686417949026,
          -0.40553301525964913,
          -0.5084467940701729,
          -0.5909146363824014,
          -0.27173037274633083,
          -0.45766286040707355,
          -0.28917844823948663,
          -0.4055345824591906,
          -0.20369574504888804,
          -0.03271784649618986,
          -0.45768240437798124,
          -0.4055447462761942,
          -0.40556797126665894,
          -0.5053638776164298,
          -0.45765223709775027,
          -0.02664517961230305,
          -0.5912827761809147,
          -0.5909133955338238,
          -0.5909463191785781,
          -0.314658556755183,
          -0.13867456711024395,
          -0.45764407835037435,
          -0.5909281316741545,
          -0.4055322537306934,
          -0.4576366008404223,
          -0.5909113706631517,
          -0.5909098909046154,
          -0.27175682055693806,
          -0.34366657386768606,
          -0.6684872958403518,
          -0.03273785219632456,
          -0.590919658718431,
          -0.45780958536239325,
          -0.032758875393270076,
          -0.31464573442632804,
          -0.6886650355982888,
          -0.03273431527692278,
          -0.6620048437544285,
          -0.2290459356423332,
          -0.457643717632384,
          -0.6624144085677808,
          -0.4576376412438166,
          -0.03272895496540129,
          -0.5909169275823821,
          -0.5909126108973395,
          -0.03271784649618986,
          -0.45764175207009805,
          -0.4055358486857695,
          -0.5909175651753876,
          -0.053732238479879825,
          -0.5909144261640661,
          -0.5909523623096387,
          -0.4576367714242366,
          -0.5909206672365513,
          -0.28414557410617525,
          -0.5909111581616101,
          -0.590910518725874,
          -0.160143059615478,
          -0.3032759738714462,
          -0.5909472070877894,
          -0.40553285082989293,
          -0.4576385353092753,
          -0.5909141672691806,
          -0.5909107243805883,
          -0.2717086275158216,
          -0.35530013079904854,
          -0.3146501869701618,
          -0.591279573254917,
          -0.2717176178952633,
          -0.45764638617373116,
          -0.517950761100472,
          -0.457677140441276,
          -0.03275154088266791,
          -0.4576489712609079,
          -0.03285899337488095,
          -0.45770434663482035,
          -0.5909122455391504,
          -0.590911390939128,
          -0.5909704541437347,
          -0.09093260369325985,
          -0.4576439654251181,
          -0.27191766292714276,
          -0.03271579380469726,
          -0.5909223025515637,
          -0.6200877326211467,
          -0.08634127131186659,
          -0.026668229241518508,
          -0.8940612297557341,
          -0.505334478011744,
          -0.5053593651857324,
          -0.7537066543732865,
          -0.6338581393845132,
          -0.5967570785909522,
          -0.6338576627747292,
          -0.13928405328953727,
          -0.7537191884467022,
          -0.4576406817929263,
          -0.2717112021335645,
          -0.03271543607014006,
          -0.5909182778144784,
          -0.5909108461335633,
          0.042868866368519075,
          -0.15566717561319907,
          -0.45764010772648017,
          -0.31148078210328983,
          -0.5909106036152114,
          0.08480649085404797,
          -0.6074217475972259,
          -0.4055653581522224,
          -0.5055791555860649,
          -0.419798516052044,
          -0.5909112369696774,
          -0.47936551439480685,
          -0.015449488260397076,
          -0.5909152536648995,
          -0.08965840637012096,
          -0.4576568134801769,
          -0.2291244486374767,
          -0.5159459462232594,
          -0.6339193055183778,
          -0.5909564250109766,
          -0.18613344296190346,
          -0.16014535576023867,
          -0.5954787169941252,
          -0.5909210461318336,
          -0.45765323605155,
          -0.16015465571752943,
          -0.5911469864714226,
          -0.5909103095539523,
          -0.1384339358616,
          -0.026639049593017744,
          0.10841529051795958,
          -0.45121715055993533,
          -0.5909960767183943,
          -0.31476484093354307,
          -0.4255295801478451,
          -0.4576384100910752,
          -0.5111715604463662,
          -0.271719841352417,
          0.013891723719348634,
          -0.5053398924766362,
          -0.5909097355071269,
          -0.5909099615997124,
          -0.2718175405909959,
          -0.04297900695937187,
          -0.032722575457250706,
          -0.5909141769846445,
          -0.08043274042442625,
          -0.4793992339072292,
          -0.03271874682011219,
          0.007891885672740713,
          -0.5916560428730053,
          -0.09767689451347343,
          -0.2717179253798752,
          -0.594686170479715,
          -0.27170941229260037,
          -0.6612286095699298,
          -0.590921095775565,
          -0.28283212889127574,
          -0.5705873633958667,
          -0.16017938724888092,
          -0.08634986188743085,
          -0.16011008879883162,
          -0.31132538515176805,
          -0.1601423631938311,
          -0.47934595940454294,
          -0.27273451490010026,
          -0.2343968715392237,
          -0.16016542120230254,
          -0.5909719707611124,
          -0.1384406066588231,
          -0.45764878155449984,
          -0.271753558917975,
          -0.032726137284383804,
          -0.41587261745283904,
          -0.13843878565700252,
          -0.5923352609808638,
          0.29057174890063503,
          -0.19196799706557582,
          -0.424233266176931,
          -0.14375386924973765,
          -0.4793580300008907,
          0.12752308027643708,
          -0.5909151424357008,
          -0.4793506246540234,
          -0.16014030565296883,
          -0.6050063140283077,
          -0.13843271483780673,
          -0.5909207701686167,
          -0.511259800886991,
          -0.6617944927893474,
          -0.45766660709359414,
          -0.4576453979622196,
          -0.22937512781543823,
          -0.597782320136016,
          -0.45771123622779203,
          -0.590922586607309,
          -0.5909189648166838,
          -0.08632850519973363,
          -0.590912269625194,
          -0.45780167142550554,
          -0.5918531956423156,
          -0.41109066603047223,
          -0.45785007864729965,
          -0.590928762501142,
          -0.5910587388432612,
          -0.4577111809056256,
          -0.5909510998433344,
          -0.032712171738072705,
          -0.07438199152879157,
          -0.4055602896455866,
          -0.22905171850388462,
          -0.2754078059494837,
          -0.5910055322209387,
          -0.31140391069468104,
          -0.6338497823251074,
          -0.22932047313810236,
          -0.2293519688839246,
          -0.08669614791686772,
          -0.032713838637234094,
          0.244500334058209,
          -0.15596791729299983,
          -0.5909291608682273,
          -0.27170446885403265
         ]
        },
        {
         "customdata": [
          [
           "SHA-256"
          ],
          [
           "Ethash"
          ],
          [
           "Scrypt"
          ],
          [
           "CryptoNight-V7"
          ],
          [
           "Ethash"
          ],
          [
           "Equihash"
          ],
          [
           "Multiple"
          ],
          [
           "Scrypt"
          ],
          [
           "X11"
          ],
          [
           "Scrypt"
          ],
          [
           "Multiple"
          ],
          [
           "Scrypt"
          ],
          [
           "SHA-256"
          ],
          [
           "Scrypt"
          ],
          [
           "Scrypt"
          ],
          [
           "Quark"
          ],
          [
           "Groestl"
          ],
          [
           "Scrypt"
          ],
          [
           "Scrypt"
          ],
          [
           "Scrypt"
          ],
          [
           "X11"
          ],
          [
           "Multiple"
          ],
          [
           "SHA-256"
          ],
          [
           "Scrypt"
          ],
          [
           "Scrypt"
          ],
          [
           "Scrypt"
          ],
          [
           "Scrypt"
          ],
          [
           "Scrypt"
          ],
          [
           "NeoScrypt"
          ],
          [
           "Scrypt"
          ],
          [
           "Scrypt"
          ],
          [
           "Scrypt"
          ],
          [
           "Scrypt"
          ],
          [
           "SHA-256"
          ],
          [
           "Scrypt"
          ],
          [
           "Scrypt"
          ],
          [
           "Scrypt"
          ],
          [
           "Scrypt"
          ],
          [
           "HybridScryptHash256"
          ],
          [
           "Scrypt"
          ],
          [
           "Scrypt"
          ],
          [
           "SHA-256"
          ],
          [
           "Scrypt"
          ],
          [
           "Scrypt"
          ],
          [
           "Scrypt"
          ],
          [
           "Scrypt"
          ],
          [
           "SHA-256"
          ],
          [
           "SHA-256"
          ],
          [
           "SHA-256"
          ],
          [
           "SHA-256"
          ],
          [
           "SHA-256"
          ],
          [
           "X11"
          ],
          [
           "Scrypt"
          ],
          [
           "Lyra2REv2"
          ],
          [
           "Scrypt"
          ],
          [
           "SHA-256"
          ],
          [
           "CryptoNight"
          ],
          [
           "CryptoNight"
          ],
          [
           "Scrypt"
          ],
          [
           "Scrypt"
          ],
          [
           "Scrypt"
          ],
          [
           "Scrypt"
          ],
          [
           "Scrypt"
          ],
          [
           "Scrypt"
          ],
          [
           "Stanford Folding"
          ],
          [
           "Multiple"
          ],
          [
           "QuBit"
          ],
          [
           "Scrypt"
          ],
          [
           "Scrypt"
          ],
          [
           "M7 POW"
          ],
          [
           "Scrypt"
          ],
          [
           "SHA-256"
          ],
          [
           "Scrypt"
          ],
          [
           "X11"
          ],
          [
           "Lyra2RE"
          ],
          [
           "SHA-256"
          ],
          [
           "X11"
          ],
          [
           "Scrypt"
          ],
          [
           "Scrypt"
          ],
          [
           "Ethash"
          ],
          [
           "Blake2b"
          ],
          [
           "X11"
          ],
          [
           "SHA-256"
          ],
          [
           "Scrypt"
          ],
          [
           "1GB AES Pattern Search"
          ],
          [
           "Scrypt"
          ],
          [
           "SHA-256"
          ],
          [
           "X11"
          ],
          [
           "Dagger"
          ],
          [
           "Scrypt"
          ],
          [
           "X11GOST"
          ],
          [
           "Scrypt"
          ],
          [
           "X11"
          ],
          [
           "Scrypt"
          ],
          [
           "X11"
          ],
          [
           "Equihash"
          ],
          [
           "CryptoNight"
          ],
          [
           "SHA-256"
          ],
          [
           "Multiple"
          ],
          [
           "Scrypt"
          ],
          [
           "SHA-256"
          ],
          [
           "Scrypt"
          ],
          [
           "Lyra2Z"
          ],
          [
           "Ethash"
          ],
          [
           "Equihash"
          ],
          [
           "Scrypt"
          ],
          [
           "X11"
          ],
          [
           "X11"
          ],
          [
           "CryptoNight"
          ],
          [
           "Scrypt"
          ],
          [
           "CryptoNight"
          ],
          [
           "Lyra2RE"
          ],
          [
           "X11"
          ],
          [
           "CryptoNight-V7"
          ],
          [
           "Scrypt"
          ],
          [
           "X11"
          ],
          [
           "Equihash"
          ],
          [
           "Scrypt"
          ],
          [
           "Lyra2RE"
          ],
          [
           "Dagger-Hashimoto"
          ],
          [
           "Scrypt"
          ],
          [
           "NIST5"
          ],
          [
           "Scrypt"
          ],
          [
           "SHA-256"
          ],
          [
           "Scrypt"
          ],
          [
           "CryptoNight-V7"
          ],
          [
           "Argon2d"
          ],
          [
           "Blake2b"
          ],
          [
           "Cloverhash"
          ],
          [
           "CryptoNight"
          ],
          [
           "X11"
          ],
          [
           "Scrypt"
          ],
          [
           "Scrypt"
          ],
          [
           "X11"
          ],
          [
           "X11"
          ],
          [
           "CryptoNight"
          ],
          [
           "Time Travel"
          ],
          [
           "Scrypt"
          ],
          [
           "Keccak"
          ],
          [
           "X11"
          ],
          [
           "SHA-256"
          ],
          [
           "Scrypt"
          ],
          [
           "Scrypt"
          ],
          [
           "Scrypt"
          ],
          [
           "Scrypt"
          ],
          [
           "Scrypt"
          ],
          [
           "Scrypt"
          ],
          [
           "CryptoNight"
          ],
          [
           "Equihash"
          ],
          [
           "X11"
          ],
          [
           "NeoScrypt"
          ],
          [
           "Equihash"
          ],
          [
           "Dagger"
          ],
          [
           "Scrypt"
          ],
          [
           "X11"
          ],
          [
           "NeoScrypt"
          ],
          [
           "Ethash"
          ],
          [
           "NeoScrypt"
          ],
          [
           "Multiple"
          ],
          [
           "CryptoNight"
          ],
          [
           "CryptoNight"
          ],
          [
           "Ethash"
          ],
          [
           "X11"
          ],
          [
           "CryptoNight-V7"
          ],
          [
           "Scrypt"
          ],
          [
           "BLAKE256"
          ],
          [
           "X11"
          ],
          [
           "NeoScrypt"
          ],
          [
           "NeoScrypt"
          ],
          [
           "Scrypt"
          ],
          [
           "X11"
          ],
          [
           "SHA-256"
          ],
          [
           "C11"
          ],
          [
           "CryptoNight"
          ],
          [
           "SkunkHash"
          ],
          [
           "CryptoNight"
          ],
          [
           "Scrypt"
          ],
          [
           "Dagger"
          ],
          [
           "Lyra2REv2"
          ],
          [
           "Scrypt"
          ],
          [
           "Scrypt"
          ],
          [
           "X11"
          ],
          [
           "Ethash"
          ],
          [
           "CryptoNight"
          ],
          [
           "Scrypt"
          ],
          [
           "IMesh"
          ],
          [
           "Equihash"
          ],
          [
           "Lyra2Z"
          ],
          [
           "X11"
          ],
          [
           "CryptoNight"
          ],
          [
           "NIST5"
          ],
          [
           "Lyra2RE"
          ],
          [
           "Tribus"
          ],
          [
           "Lyra2Z"
          ],
          [
           "CryptoNight"
          ],
          [
           "CryptoNight Heavy"
          ],
          [
           "CryptoNight"
          ],
          [
           "Jump Consistent Hash"
          ],
          [
           "CryptoNight"
          ],
          [
           "X16R"
          ],
          [
           "HMQ1725"
          ],
          [
           "X11"
          ],
          [
           "Scrypt"
          ],
          [
           "CryptoNight-V7"
          ],
          [
           "Cryptonight-GPU"
          ],
          [
           "XEVAN"
          ],
          [
           "CryptoNight Heavy"
          ],
          [
           "SHA-256"
          ],
          [
           "X11"
          ],
          [
           "X16R"
          ],
          [
           "Equihash"
          ],
          [
           "Lyra2Z"
          ],
          [
           "SHA-256"
          ],
          [
           "CryptoNight"
          ],
          [
           "Blake"
          ],
          [
           "Blake"
          ],
          [
           "Exosis"
          ],
          [
           "Scrypt"
          ],
          [
           "Equihash"
          ],
          [
           "Equihash"
          ],
          [
           "QuBit"
          ],
          [
           "SHA-256"
          ],
          [
           "X13"
          ],
          [
           "SHA-256"
          ],
          [
           "Scrypt"
          ],
          [
           "NeoScrypt"
          ],
          [
           "Blake"
          ],
          [
           "Scrypt"
          ],
          [
           "SHA-256"
          ],
          [
           "Scrypt"
          ],
          [
           "Groestl"
          ],
          [
           "Scrypt"
          ],
          [
           "Scrypt"
          ],
          [
           "Multiple"
          ],
          [
           "Equihash+Scrypt"
          ],
          [
           "Ethash"
          ],
          [
           "CryptoNight"
          ],
          [
           "Equihash"
          ]
         ],
         "hovertemplate": "<b>%{hovertext}</b><br><br>Class=%{marker.color}<br>principal component 1=%{x}<br>principal component 2=%{y}<br>principal component 3=%{z}<br>Algorithm=%{customdata[0]}<extra></extra>",
         "hovertext": [
          "Bitcoin",
          "Ethereum",
          "Litecoin",
          "Monero",
          "Ethereum Classic",
          "ZCash",
          "DigiByte",
          "ProsperCoin",
          "Spreadcoin",
          "Argentum",
          "MyriadCoin",
          "MoonCoin",
          "ZetaCoin",
          "SexCoin",
          "Quatloo",
          "QuarkCoin",
          "Riecoin",
          "Digitalcoin ",
          "Catcoin",
          "CannaCoin",
          "CryptCoin",
          "Verge",
          "DevCoin",
          "EarthCoin",
          "E-Gulden",
          "Einsteinium",
          "Emerald",
          "Franko",
          "FeatherCoin",
          "GrandCoin",
          "GlobalCoin",
          "GoldCoin",
          "Infinite Coin",
          "IXcoin",
          "KrugerCoin",
          "LuckyCoin",
          "Litebar ",
          "MegaCoin",
          "MediterraneanCoin",
          "MinCoin",
          "NobleCoin",
          "Namecoin",
          "NyanCoin",
          "RonPaulCoin",
          "StableCoin",
          "SmartCoin",
          "SysCoin",
          "TigerCoin",
          "TerraCoin",
          "UnbreakableCoin",
          "Unobtanium",
          "UroCoin",
          "ViaCoin",
          "Vertcoin",
          "WorldCoin",
          "JouleCoin",
          "ByteCoin",
          "DigitalNote ",
          "MonaCoin",
          "Gulden",
          "PesetaCoin",
          "Wild Beast Coin",
          "Flo",
          "ArtByte",
          "Folding Coin",
          "Unitus",
          "CypherPunkCoin",
          "OmniCron",
          "GreenCoin",
          "Cryptonite",
          "MasterCoin",
          "SoonCoin",
          "1Credit",
          "MarsCoin ",
          "Crypto",
          "Anarchists Prime",
          "BowsCoin",
          "Song Coin",
          "BitZeny",
          "Expanse",
          "Siacoin",
          "MindCoin",
          "I0coin",
          "Revolution VR",
          "HOdlcoin",
          "Gamecredits",
          "CarpeDiemCoin",
          "Adzcoin",
          "SoilCoin",
          "YoCoin",
          "SibCoin",
          "Francs",
          "BolivarCoin",
          "Omni",
          "PizzaCoin",
          "Komodo",
          "Karbo",
          "ZayedCoin",
          "Circuits of Value",
          "DopeCoin",
          "DollarCoin",
          "Shilling",
          "ZCoin",
          "Elementrem",
          "ZClassic",
          "KiloCoin",
          "ArtexCoin",
          "Kurrent",
          "Cannabis Industry Coin",
          "OsmiumCoin",
          "Bikercoins",
          "HexxCoin",
          "PacCoin",
          "Citadel",
          "BeaverCoin",
          "VaultCoin",
          "Zero",
          "Canada eCoin",
          "Zoin",
          "DubaiCoin",
          "EB3coin",
          "Coinonat",
          "BenjiRolls",
          "ILCoin",
          "EquiTrader",
          "Quantum Resistant Ledger",
          "Dynamic",
          "Nano",
          "ChanCoin",
          "Dinastycoin",
          "DigitalPrice",
          "Unify",
          "SocialCoin",
          "ArcticCoin",
          "DAS",
          "LeviarCoin",
          "Bitcore",
          "gCn Coin",
          "SmartCash",
          "Onix",
          "Bitcoin Cash",
          "Sojourn Coin",
          "NewYorkCoin",
          "FrazCoin",
          "Kronecoin",
          "AdCoin",
          "Linx",
          "Sumokoin",
          "BitcoinZ",
          "Elements",
          "VIVO Coin",
          "Bitcoin Gold",
          "Pirl",
          "eBoost",
          "Pura",
          "Innova",
          "Ellaism",
          "GoByte",
          "SHIELD",
          "UltraNote",
          "BitCoal",
          "DaxxCoin",
          "AC3",
          "Lethean",
          "PopularCoin",
          "Photon",
          "Sucre",
          "SparksPay",
          "GunCoin",
          "IrishCoin",
          "Pioneer Coin",
          "UnitedBitcoin",
          "Interzone",
          "TurtleCoin",
          "MUNcoin",
          "Niobio Cash",
          "ShareChain",
          "Travelflex",
          "KREDS",
          "BitFlip",
          "LottoCoin",
          "Crypto Improvement Fund",
          "Callisto Network",
          "BitTube",
          "Poseidon",
          "Aidos Kuneen",
          "Bitrolium",
          "Alpenschillling",
          "FuturoCoin",
          "Monero Classic",
          "Jumpcoin",
          "Infinex",
          "KEYCO",
          "GINcoin",
          "PlatinCoin",
          "Loki",
          "Newton Coin",
          "MassGrid",
          "PluraCoin",
          "Motion",
          "PlusOneCoin",
          "Axe",
          "HexCoin",
          "Webchain",
          "Ryo",
          "Urals Coin",
          "Qwertycoin",
          "Project Pai",
          "Azart",
          "Xchange",
          "CrypticCoin",
          "Actinium",
          "Bitcoin SV",
          "FREDEnergy",
          "Universal Molecule",
          "Lithium",
          "Exosis",
          "Block-Logic",
          "Beam",
          "Bithereum",
          "SLICE",
          "BLAST",
          "Bitcoin Rhodium",
          "GlobalToken",
          "SolarCoin",
          "UFO Coin",
          "BlakeCoin",
          "Crypto Escudo",
          "Crown Coin",
          "SmileyCoin",
          "Groestlcoin",
          "Bata",
          "Pakcoin",
          "JoinCoin",
          "Vollar",
          "Reality Clash",
          "Beldex",
          "Horizen"
         ],
         "legendgroup": "1",
         "marker": {
          "color": [
           1,
           1,
           1,
           1,
           1,
           1,
           1,
           1,
           1,
           1,
           1,
           1,
           1,
           1,
           1,
           1,
           1,
           1,
           1,
           1,
           1,
           1,
           1,
           1,
           1,
           1,
           1,
           1,
           1,
           1,
           1,
           1,
           1,
           1,
           1,
           1,
           1,
           1,
           1,
           1,
           1,
           1,
           1,
           1,
           1,
           1,
           1,
           1,
           1,
           1,
           1,
           1,
           1,
           1,
           1,
           1,
           1,
           1,
           1,
           1,
           1,
           1,
           1,
           1,
           1,
           1,
           1,
           1,
           1,
           1,
           1,
           1,
           1,
           1,
           1,
           1,
           1,
           1,
           1,
           1,
           1,
           1,
           1,
           1,
           1,
           1,
           1,
           1,
           1,
           1,
           1,
           1,
           1,
           1,
           1,
           1,
           1,
           1,
           1,
           1,
           1,
           1,
           1,
           1,
           1,
           1,
           1,
           1,
           1,
           1,
           1,
           1,
           1,
           1,
           1,
           1,
           1,
           1,
           1,
           1,
           1,
           1,
           1,
           1,
           1,
           1,
           1,
           1,
           1,
           1,
           1,
           1,
           1,
           1,
           1,
           1,
           1,
           1,
           1,
           1,
           1,
           1,
           1,
           1,
           1,
           1,
           1,
           1,
           1,
           1,
           1,
           1,
           1,
           1,
           1,
           1,
           1,
           1,
           1,
           1,
           1,
           1,
           1,
           1,
           1,
           1,
           1,
           1,
           1,
           1,
           1,
           1,
           1,
           1,
           1,
           1,
           1,
           1,
           1,
           1,
           1,
           1,
           1,
           1,
           1,
           1,
           1,
           1,
           1,
           1,
           1,
           1,
           1,
           1,
           1,
           1,
           1,
           1,
           1,
           1,
           1,
           1,
           1,
           1,
           1,
           1,
           1,
           1,
           1,
           1,
           1,
           1,
           1,
           1,
           1,
           1,
           1,
           1,
           1,
           1,
           1,
           1,
           1,
           1,
           1,
           1,
           1,
           1,
           1,
           1,
           1,
           1,
           1,
           1,
           1,
           1,
           1,
           1
          ],
          "coloraxis": "coloraxis",
          "symbol": "diamond"
         },
         "mode": "markers",
         "name": "1",
         "scene": "scene",
         "showlegend": true,
         "type": "scatter3d",
         "x": [
          -0.14911319910676907,
          -0.13893122956796708,
          -0.17469202996770616,
          -0.13278344737210335,
          -0.137364751278882,
          -0.13622065126003732,
          0.16249007570539725,
          -0.1758437419235101,
          -0.21727047631352714,
          -0.17545826330595518,
          -0.09216873014639113,
          2.561025093730118,
          -0.1461843162134779,
          -0.17270025968369182,
          -0.17526114140344315,
          -0.20961361179489787,
          -0.19326570350419853,
          -0.1753105659210849,
          -0.17582593164131852,
          -0.17591282623913168,
          -0.2173602201745609,
          0.1863034426234845,
          0.23053857706969202,
          0.07400302941190232,
          -0.17565796234682912,
          -0.1712419825795087,
          -0.17559690076514167,
          -0.17597009076251596,
          -0.17632278952924269,
          -0.15509096724673063,
          -0.17475950949652197,
          -0.17503813165662313,
          1.5812389406498635,
          -0.14907440232973937,
          -0.1723142075970635,
          -0.1756845262706033,
          -0.17604102620533885,
          -0.1752967412025618,
          -0.1308639179716897,
          -0.1759217077320394,
          -0.04011733202081358,
          -0.14915234679006134,
          -0.1695555627784637,
          -0.1759009665062405,
          -0.17398514227656542,
          -0.1753852426870806,
          -0.1362417260981611,
          -0.14861358503740738,
          -0.14890206857100083,
          -0.14888465494741684,
          -0.14947858560157354,
          -0.2175350168494122,
          -0.17561621899639387,
          -0.17585880306112642,
          -0.172704861900141,
          -0.14868118657789653,
          3.885102554468732,
          0.4679445302669691,
          -0.1744782379620459,
          -0.15899739116811223,
          -0.17319101887489222,
          -0.17604323408093203,
          -0.17305553225516077,
          -0.15921270569243778,
          -0.1005291221334876,
          -0.12633875279862708,
          -0.19634625415948256,
          -0.17591575925582648,
          -0.04822146808521041,
          -0.12714025954653083,
          -0.17605218208047418,
          -0.1491802438430709,
          0.47969786016702715,
          -0.21691928359338555,
          -0.14162744178361497,
          -0.14891870635453047,
          -0.21720551104520003,
          -0.17416609729279586,
          -0.17335452299652676,
          -0.14000313666771003,
          0.36908182560460145,
          -0.21724110290092633,
          -0.14907552951081732,
          -0.17199085803490494,
          -0.1702127817569723,
          -0.17460863919478267,
          0.2713939168175392,
          -0.21639763159647182,
          -0.13710426640648032,
          -0.1748564086608912,
          -0.17411433677648225,
          -0.1758410239001517,
          -0.21720411122742087,
          -0.17605224085295093,
          -0.21735472775130293,
          -0.22267108528992044,
          0.31209635158393656,
          -0.1493368301337447,
          -0.10631520487633127,
          -0.17320505419185736,
          -0.14929527404168877,
          -0.17571394121515274,
          -0.14553940925214404,
          -0.1397441043907895,
          -0.13624236136816423,
          -0.1023774472686806,
          -0.20387623827443266,
          -0.21517179645674173,
          0.31209078508245003,
          -0.17603388219615482,
          0.312222097851104,
          -0.1421706888377343,
          0.5018220840557533,
          -0.13154125596651559,
          -0.17600202731168169,
          -0.21004919185839788,
          -0.13625482356162227,
          -0.17412643353237814,
          -0.14188776283029128,
          -0.14593515639892277,
          -0.1467664554649505,
          -0.16720431456651022,
          -0.17556224652382343,
          -0.1154957699694084,
          -0.1753832344633805,
          -0.1313990614009276,
          -0.16671304183805283,
          -0.0329415436740602,
          -0.14638954671084536,
          0.34838516215470183,
          -0.21640592489279944,
          -0.17570431958645755,
          -0.17546620671812568,
          -0.21680264486114015,
          -0.21738293300518766,
          0.31248775426118,
          -0.1460260731085624,
          3.2500294443959175,
          -0.088998684578151,
          -0.2082065529010995,
          -0.1491123597260766,
          -0.10121595961483212,
          1.578487538082744,
          -0.1758025821843464,
          -0.17525131931833357,
          -0.17495087093062212,
          -0.17493774559480876,
          0.3126724517760036,
          0.07716430467483859,
          -0.1715583322035734,
          -0.1810343440680164,
          -0.136100178009499,
          -0.13585694423703137,
          -0.1741246349777041,
          -0.21290535958388548,
          -0.18087893716565337,
          -0.13810010708330672,
          -0.18097968610116147,
          -0.11652289489821036,
          1.1543642772685203,
          0.31207340818108503,
          -0.06258321070922056,
          -0.2126441180031751,
          -0.12045663944480006,
          -0.09178814889074954,
          1.0997851366754003,
          -0.21735681200992663,
          -0.18103194330631048,
          -0.17403576247692693,
          -0.17504998400192714,
          -0.2172818710819882,
          -0.149091675533168,
          -0.21144236585463505,
          8.091739511767594,
          -0.12447732646129661,
          0.3159672729281335,
          0.017904372076917058,
          -0.1353585005115202,
          -0.1613460273199265,
          -0.17562638308511994,
          0.13292829863115288,
          -0.211393495994068,
          -0.0908835087540313,
          0.3200390601496942,
          -0.1758645759205354,
          -0.15240201819057259,
          -0.13508650833229707,
          -0.143311008175316,
          -0.2164468729175718,
          0.31225676305595096,
          -0.16726426388137824,
          -0.14201512246943393,
          -0.12833690641847337,
          -0.14562424178861222,
          0.3162068396182759,
          0.6078665111266579,
          2.130094356347087,
          -0.1314026164433453,
          0.32592864225301577,
          -0.18480424346552402,
          -0.14988057558155443,
          -0.2173388851946905,
          -0.17588925423397414,
          -0.12032962054972296,
          -0.1548589296104701,
          -0.1386422242366883,
          3.142853509735582,
          -0.10874943283404734,
          -0.2173100934925073,
          -0.18422883918236618,
          -0.030328690745772637,
          -0.14501877581983838,
          -0.1491123974533138,
          0.39242895428946,
          -0.1208227510198548,
          -0.12121714267763081,
          -0.11741284787566764,
          -0.17477594869155108,
          -0.13414987230660277,
          -0.1359321928108374,
          -0.19555297951573994,
          -0.14838505685927555,
          -0.10368186889723113,
          -0.14724723614421092,
          0.523858310766827,
          -0.10584142311524948,
          -0.07140997139518317,
          -0.15936394038478846,
          -0.1489014363105288,
          0.5432942026845683,
          -0.19282463437877176,
          -0.1759665689119705,
          -0.17391197172893264,
          -0.127076779586971,
          -0.1352020016108007,
          -0.13977742033422694,
          0.3339360286611426,
          -0.13622171276033854
         ],
         "y": [
          -1.3011930387410504,
          -2.04115237851445,
          -1.1447451784424105,
          -2.191797477261526,
          -2.0412417950232205,
          -1.9320834242993996,
          -1.7821059937093033,
          -1.1447464991404974,
          -0.905492384654337,
          -1.1447621362340055,
          -1.7786780439247687,
          -1.3135011908680678,
          -1.3011813024243366,
          -1.1447847528306856,
          -1.144780413117252,
          -0.42536974132900573,
          -1.233202301877437,
          -1.1447444207221442,
          -1.1447457638733145,
          -1.1447435839538154,
          -0.9054946220921277,
          -1.7778614145418392,
          -1.3009129426697341,
          -1.1443221139348878,
          -1.1447388295469143,
          -1.1447610851790777,
          -1.1447443798895638,
          -1.144744550839497,
          -1.6579896902269555,
          -1.144916709044097,
          -1.1447376918266639,
          -1.1447508420335128,
          -1.138669981997941,
          -1.3011914370821507,
          -1.1447801302218312,
          -1.1447391924509158,
          -1.1447402256486108,
          -1.144739325736698,
          -2.1753735822086333,
          -1.144741646660079,
          -1.1501339923576461,
          -1.301194654886515,
          -1.1447187649584456,
          -1.1447488615599863,
          -1.1448377970213655,
          -1.1447497297996723,
          -1.3012978165259115,
          -1.3011914991077926,
          -1.3011997311661163,
          -1.3012268944845,
          -1.301192897946266,
          -0.9054886309125826,
          -1.1447385737284959,
          -1.2428704230355774,
          -1.1447962577197501,
          -1.3011928136561435,
          -2.3356129419255676,
          -2.3486703401036406,
          -1.1447518490423085,
          -1.1452683048235361,
          -1.144743661853693,
          -1.1447412545197495,
          -1.1447333828404302,
          -1.1447782489031946,
          -2.1777984064675038,
          -1.7786212103977463,
          -1.5420389419943235,
          -1.1447365373564415,
          -1.1467998459525754,
          -2.185198021139655,
          -1.1447401501849799,
          -1.3011958065688618,
          -1.185172469751283,
          -0.9054874249115523,
          -2.216545507029429,
          -1.3012090468390003,
          -0.9054904364161935,
          -1.1448160938444139,
          -1.144811762977849,
          -2.0412090353142887,
          -2.2139619773993515,
          -0.9054882370535043,
          -1.3011914836159029,
          -1.144726116696242,
          -2.1509589274402536,
          -1.1447417357963015,
          -1.299685827687126,
          -0.9055033102578791,
          -2.1998136503912824,
          -1.1448138566600166,
          -2.2292906171637537,
          -1.1447456531891567,
          -0.9054933135965931,
          -1.1447401503880619,
          -0.9054995315433974,
          -0.943232644764183,
          -2.347774180559963,
          -1.3011940060932314,
          -1.7786750631546473,
          -1.1447689052940047,
          -1.3011929525749857,
          -1.1447477442205654,
          -2.262625818935612,
          -2.0412051647821916,
          -1.9320843205642584,
          -1.149035583367184,
          -0.905291622676247,
          -0.9055583626425701,
          -2.347782481529609,
          -1.1447409317548,
          -2.3477799954749736,
          -2.2165269992319443,
          -0.9491654348611683,
          -2.1918819378429357,
          -1.144740090467842,
          -0.9059133337439067,
          -1.9320819000752079,
          -1.1447335686343296,
          -2.2165233902801744,
          -2.2042006161139738,
          -1.1464656537693718,
          -0.652150791904273,
          -1.1447455323148519,
          -1.301624147747586,
          -1.1447649087349436,
          -2.191817368192464,
          -2.222806436703896,
          -2.2308085074550363,
          -2.1729491649713024,
          -2.3477362061107,
          -0.9055153925104766,
          -1.144739478941784,
          -1.144770535330363,
          -0.9055024207241215,
          -0.9054962201208142,
          -2.3477903068311234,
          -2.257926958840589,
          -1.150048222375783,
          -1.2551071842751045,
          -0.9059106377684991,
          -1.3011930040886464,
          -1.1493545045132532,
          -1.0723065099324987,
          -1.1447440661883566,
          -1.1447682677512117,
          -1.1447676041289334,
          -1.144767062271787,
          -2.3478082813641103,
          -1.9386673708772402,
          -0.9049112980221683,
          -1.6579574723425308,
          -1.9320784507663242,
          -2.1998548334205914,
          -1.1447334943840617,
          -0.9055543132238372,
          -1.6579642639958274,
          -2.0413235149020044,
          -1.6579587378448024,
          -1.7787002493796784,
          -2.375363347304263,
          -2.3477769620952276,
          -2.045337904252579,
          -0.9056902767845663,
          -2.1920219479191143,
          -1.1449297103409692,
          -1.3316273625374924,
          -0.9054958021281251,
          -1.6579529707769292,
          -1.6580156079573984,
          -1.1447452811179242,
          -0.905495056295077,
          -1.3011915382358121,
          -1.262990512391751,
          -2.7603398914927246,
          -2.1218871103316053,
          -2.347853576175222,
          -1.14406995320293,
          -2.1997929413841484,
          -1.2430167700446488,
          -1.1447514669559458,
          -1.1454899435339843,
          -0.9056019598650937,
          -2.0439381355765516,
          -2.3481726843068906,
          -1.144747359236601,
          -2.211066211540205,
          -1.9320725565155017,
          -2.26273824381566,
          -0.9055170829799759,
          -2.3477737216813352,
          -0.6521332708625277,
          -2.2165325222658128,
          -2.232740159501353,
          -2.2626213233106056,
          -2.3480373944388937,
          -2.1716871947112844,
          -2.4077224868814864,
          -2.372686442598725,
          -2.3479295429351836,
          -1.2437510170188621,
          -2.2317652620086745,
          -0.9054959425409218,
          -1.1447491890170596,
          -2.1925673913740344,
          -2.2726482629947884,
          -0.6314514004895085,
          -2.2022779658859495,
          -1.301052139753386,
          -0.9054976888940008,
          -1.2437844387933363,
          -1.9332728884107073,
          -2.2626502577431773,
          -1.301193005646151,
          -2.350379086755852,
          -2.213886655775546,
          -2.213844318004027,
          -2.2435349151564026,
          -1.1447750576095213,
          -1.932175354621157,
          -1.9320787695604515,
          -1.5420795672383414,
          -1.3011945295498868,
          -0.38190326951791703,
          -1.3012238657653408,
          -1.1878252091977561,
          -1.6577684190465276,
          -2.216905798895675,
          -1.1447844923700317,
          -1.301199705064319,
          -1.151729823320124,
          -1.233199501679238,
          -1.1447398299656608,
          -1.1447848818184634,
          -1.7786537330560568,
          -2.155298253653888,
          -2.0412052799019733,
          -2.347892631905524,
          -1.9320834681216328
         ],
         "z": [
          0.14605235884008555,
          0.3407676357780528,
          -0.039343939225050105,
          0.29412747800387135,
          0.34075306870359173,
          0.3599151393924543,
          0.3362238428643383,
          -0.03932238328964203,
          0.09394908990853316,
          -0.039326997602930125,
          0.3403885169104103,
          -0.06274660480128909,
          0.14599618569072692,
          -0.03937444831404683,
          -0.039327694551721366,
          0.07215081508685793,
          0.19701339515367516,
          -0.039332599699653234,
          -0.03932283224584122,
          -0.03932157456196387,
          0.0939511148090217,
          0.33509608439910793,
          0.13897174341120203,
          -0.04402092189313693,
          -0.03932706636494249,
          -0.03940529936068213,
          -0.039327300241114534,
          -0.039320357020864616,
          0.2401050446593186,
          -0.039679424369020666,
          -0.039343899570583804,
          -0.03933660965530554,
          -0.07286558166132352,
          0.14605138086268052,
          -0.03938234984587086,
          -0.0393265154173872,
          -0.03931974202928331,
          -0.03933367989456085,
          0.6092127634230582,
          -0.039321723296839695,
          -0.04096620870238863,
          0.14605334566302872,
          -0.03944339478348392,
          -0.0393209407896927,
          -0.039342059382808436,
          -0.03933035723228046,
          0.14583078362050286,
          0.14604285150269097,
          0.1460495287490667,
          0.14605359916772012,
          0.14605910703554567,
          0.09395338501044745,
          -0.03932788128309806,
          0.3171794762553481,
          -0.03937250235051953,
          0.1460443168260534,
          0.37556560286157026,
          0.4410006218145559,
          -0.03934682216546536,
          -0.03955017113424611,
          -0.039371999693549806,
          -0.03931953471638902,
          -0.039376172811728116,
          -0.03962543764781842,
          0.6269474171916919,
          0.3410125289129958,
          0.24832618860931585,
          -0.03932265985301234,
          -0.04135526104274406,
          0.3939450382994624,
          -0.03931954750479268,
          0.14605404888349152,
          -0.044932132831822624,
          0.09394177983007648,
          0.4253245771061651,
          0.1460513436824797,
          0.09394757095151536,
          -0.03934221615487876,
          -0.03935795584261898,
          0.34079666233232175,
          0.48210328192502133,
          0.0939478748012868,
          0.1460514092763197,
          -0.039397077407528784,
          0.44720573688663484,
          -0.03934604131440124,
          0.13801619364425907,
          0.0939346822418017,
          0.4082679697758988,
          -0.039329785834427713,
          0.3166526647005292,
          -0.03932257047254118,
          0.09394801033649089,
          -0.039319546382837266,
          0.09395180703220642,
          0.315665302750418,
          0.4437437042822908,
          0.14605665938929896,
          0.34065018272911307,
          -0.03936765699645305,
          0.14605571892962588,
          -0.0393245872564787,
          0.4960870664776051,
          0.34079123623376617,
          0.35991568665428314,
          -0.039990113522147035,
          0.09366841255184435,
          0.09392086992257191,
          0.4437451499466592,
          -0.03931976021649906,
          0.4437423145253167,
          0.42533165074407175,
          0.08768682804236695,
          0.29411811876021726,
          -0.03932048657932574,
          0.09388335239090664,
          0.35991552612632316,
          -0.039356297924056954,
          0.4253258241767716,
          0.4312954794499612,
          -0.03958317558523547,
          0.046251320372621176,
          -0.03932775603664736,
          0.14549911831864404,
          -0.03932793956495287,
          0.29410504093951245,
          0.6297953101475378,
          0.492277745810036,
          0.2213638555064493,
          0.44306509583769393,
          0.09393678998133642,
          -0.03932610229402149,
          -0.03932549202211709,
          0.09394204366655895,
          0.09395179414818738,
          0.4437390593048898,
          0.4111873987962305,
          -0.10194969106395452,
          0.13474300149650018,
          0.09384877048512008,
          0.14605233768123088,
          -0.03996005805636596,
          -0.08354752687109954,
          -0.03932353949967007,
          -0.0393298408285006,
          -0.03933551575582608,
          -0.03933584661531583,
          0.4437385436930954,
          0.35702572760964135,
          0.09300802069039842,
          0.24018714375213746,
          0.359912102539242,
          0.40825151619721234,
          -0.039356343261478334,
          0.09387821573865894,
          0.24018536232222373,
          0.3407799120752542,
          0.24018633555605337,
          0.340843414481147,
          0.4325976449491686,
          0.4437445793021145,
          0.3400297559382017,
          0.09389536399792477,
          0.29393535382535063,
          -0.04085038429621145,
          0.0596787624280199,
          0.09395124249906096,
          0.24018637122772624,
          0.24006685549155887,
          -0.039337289383967265,
          0.0939497331477739,
          0.1460517173114244,
          0.12605996367879715,
          0.36630341864627247,
          0.3057073035632394,
          0.4436848129688535,
          -0.04302214119348218,
          0.40823226978324056,
          0.3169342090742388,
          -0.039325607717405744,
          -0.044923991781510964,
          0.0938579053076283,
          0.3403278040163839,
          0.4436609680020823,
          -0.039321858112555244,
          0.39270786384169437,
          0.35989236498272503,
          0.4960639544643601,
          0.09393782218674257,
          0.4437406574879214,
          0.04624959762219248,
          0.42532966118590987,
          0.3629569315518575,
          0.4960879114315844,
          0.4437101024021965,
          0.37295124228265225,
          0.4197498478075123,
          0.39273092377550206,
          0.44351250520024726,
          0.2402771831485026,
          0.34679121239450816,
          0.09395093300667949,
          -0.0393211048699876,
          0.2940212143410201,
          0.41115826531104444,
          0.04040483016744117,
          0.33092290478182085,
          0.1452815915796374,
          0.09395068190532947,
          0.2402719256360427,
          0.3581452301010907,
          0.49608137111135714,
          0.14605233863224765,
          0.44267635342586564,
          0.41174970414429113,
          0.4117501653374691,
          0.4262672896202208,
          -0.0393375517868576,
          0.3598916336952992,
          0.35990904116900063,
          0.24831805876131588,
          0.14603910676579887,
          -0.08226024869911429,
          0.14602276637594674,
          -0.045321442579113476,
          0.2387631705028925,
          0.41132232193013557,
          -0.03962162536949932,
          0.14604951281123627,
          -0.05151929733275678,
          0.1970047688403319,
          -0.03932118578875127,
          -0.03935197325350021,
          0.3410314651385549,
          0.4654995694159604,
          0.3407918722287756,
          0.4433581509613858,
          0.359915166150431
         ]
        },
        {
         "customdata": [
          [
           "VeChainThor Authority"
          ],
          [
           "Proof-of-BibleHash"
          ],
          [
           "SHA-256 + Hive"
          ],
          [
           "Proof-of-Authority"
          ],
          [
           "ECC 256K1"
          ],
          [
           "Leased POS"
          ]
         ],
         "hovertemplate": "<b>%{hovertext}</b><br><br>Class=%{marker.color}<br>principal component 1=%{x}<br>principal component 2=%{y}<br>principal component 3=%{z}<br>Algorithm=%{customdata[0]}<extra></extra>",
         "hovertext": [
          "Vechain",
          "BiblePay",
          "LitecoinCash",
          "Poa Network",
          "Acute Angle Cloud",
          "Waves"
         ],
         "legendgroup": "3",
         "marker": {
          "color": [
           3,
           3,
           3,
           3,
           3,
           3
          ],
          "coloraxis": "coloraxis",
          "symbol": "square"
         },
         "mode": "markers",
         "name": "3",
         "scene": "scene",
         "showlegend": true,
         "type": "scatter3d",
         "x": [
          4.469236685998792,
          -0.21867391291272456,
          -0.7759647913769795,
          -0.5163245164983775,
          -0.2858737527282629,
          -0.22654803582766972
         ],
         "y": [
          3.195502447804138,
          3.262470917924148,
          0.733038048881337,
          2.3333525962855397,
          3.3948261692322794,
          4.660759518947066
         ],
         "z": [
          6.396363394575211,
          14.382050645787341,
          6.872675583427485,
          13.70115002006037,
          20.78376719682783,
          8.950928783253742
         ]
        },
        {
         "customdata": [
          [
           "TRC10"
          ]
         ],
         "hovertemplate": "<b>%{hovertext}</b><br><br>Class=%{marker.color}<br>principal component 1=%{x}<br>principal component 2=%{y}<br>principal component 3=%{z}<br>Algorithm=%{customdata[0]}<extra></extra>",
         "hovertext": [
          "BitTorrent"
         ],
         "legendgroup": "2",
         "marker": {
          "color": [
           2
          ],
          "coloraxis": "coloraxis",
          "symbol": "x"
         },
         "mode": "markers",
         "name": "2",
         "scene": "scene",
         "showlegend": true,
         "type": "scatter3d",
         "x": [
          34.13859131986569
         ],
         "y": [
          1.8608879036262254
         ],
         "z": [
          -0.9096699865228076
         ]
        }
       ],
       "layout": {
        "coloraxis": {
         "colorbar": {
          "title": {
           "text": "Class"
          }
         },
         "colorscale": [
          [
           0,
           "#0d0887"
          ],
          [
           0.1111111111111111,
           "#46039f"
          ],
          [
           0.2222222222222222,
           "#7201a8"
          ],
          [
           0.3333333333333333,
           "#9c179e"
          ],
          [
           0.4444444444444444,
           "#bd3786"
          ],
          [
           0.5555555555555556,
           "#d8576b"
          ],
          [
           0.6666666666666666,
           "#ed7953"
          ],
          [
           0.7777777777777778,
           "#fb9f3a"
          ],
          [
           0.8888888888888888,
           "#fdca26"
          ],
          [
           1,
           "#f0f921"
          ]
         ]
        },
        "legend": {
         "title": {
          "text": "Class"
         },
         "tracegroupgap": 0,
         "x": 0,
         "y": 1
        },
        "margin": {
         "t": 60
        },
        "scene": {
         "domain": {
          "x": [
           0,
           1
          ],
          "y": [
           0,
           1
          ]
         },
         "xaxis": {
          "title": {
           "text": "principal component 1"
          }
         },
         "yaxis": {
          "title": {
           "text": "principal component 2"
          }
         },
         "zaxis": {
          "title": {
           "text": "principal component 3"
          }
         }
        },
        "template": {
         "data": {
          "bar": [
           {
            "error_x": {
             "color": "#2a3f5f"
            },
            "error_y": {
             "color": "#2a3f5f"
            },
            "marker": {
             "line": {
              "color": "#E5ECF6",
              "width": 0.5
             },
             "pattern": {
              "fillmode": "overlay",
              "size": 10,
              "solidity": 0.2
             }
            },
            "type": "bar"
           }
          ],
          "barpolar": [
           {
            "marker": {
             "line": {
              "color": "#E5ECF6",
              "width": 0.5
             },
             "pattern": {
              "fillmode": "overlay",
              "size": 10,
              "solidity": 0.2
             }
            },
            "type": "barpolar"
           }
          ],
          "carpet": [
           {
            "aaxis": {
             "endlinecolor": "#2a3f5f",
             "gridcolor": "white",
             "linecolor": "white",
             "minorgridcolor": "white",
             "startlinecolor": "#2a3f5f"
            },
            "baxis": {
             "endlinecolor": "#2a3f5f",
             "gridcolor": "white",
             "linecolor": "white",
             "minorgridcolor": "white",
             "startlinecolor": "#2a3f5f"
            },
            "type": "carpet"
           }
          ],
          "choropleth": [
           {
            "colorbar": {
             "outlinewidth": 0,
             "ticks": ""
            },
            "type": "choropleth"
           }
          ],
          "contour": [
           {
            "colorbar": {
             "outlinewidth": 0,
             "ticks": ""
            },
            "colorscale": [
             [
              0,
              "#0d0887"
             ],
             [
              0.1111111111111111,
              "#46039f"
             ],
             [
              0.2222222222222222,
              "#7201a8"
             ],
             [
              0.3333333333333333,
              "#9c179e"
             ],
             [
              0.4444444444444444,
              "#bd3786"
             ],
             [
              0.5555555555555556,
              "#d8576b"
             ],
             [
              0.6666666666666666,
              "#ed7953"
             ],
             [
              0.7777777777777778,
              "#fb9f3a"
             ],
             [
              0.8888888888888888,
              "#fdca26"
             ],
             [
              1,
              "#f0f921"
             ]
            ],
            "type": "contour"
           }
          ],
          "contourcarpet": [
           {
            "colorbar": {
             "outlinewidth": 0,
             "ticks": ""
            },
            "type": "contourcarpet"
           }
          ],
          "heatmap": [
           {
            "colorbar": {
             "outlinewidth": 0,
             "ticks": ""
            },
            "colorscale": [
             [
              0,
              "#0d0887"
             ],
             [
              0.1111111111111111,
              "#46039f"
             ],
             [
              0.2222222222222222,
              "#7201a8"
             ],
             [
              0.3333333333333333,
              "#9c179e"
             ],
             [
              0.4444444444444444,
              "#bd3786"
             ],
             [
              0.5555555555555556,
              "#d8576b"
             ],
             [
              0.6666666666666666,
              "#ed7953"
             ],
             [
              0.7777777777777778,
              "#fb9f3a"
             ],
             [
              0.8888888888888888,
              "#fdca26"
             ],
             [
              1,
              "#f0f921"
             ]
            ],
            "type": "heatmap"
           }
          ],
          "heatmapgl": [
           {
            "colorbar": {
             "outlinewidth": 0,
             "ticks": ""
            },
            "colorscale": [
             [
              0,
              "#0d0887"
             ],
             [
              0.1111111111111111,
              "#46039f"
             ],
             [
              0.2222222222222222,
              "#7201a8"
             ],
             [
              0.3333333333333333,
              "#9c179e"
             ],
             [
              0.4444444444444444,
              "#bd3786"
             ],
             [
              0.5555555555555556,
              "#d8576b"
             ],
             [
              0.6666666666666666,
              "#ed7953"
             ],
             [
              0.7777777777777778,
              "#fb9f3a"
             ],
             [
              0.8888888888888888,
              "#fdca26"
             ],
             [
              1,
              "#f0f921"
             ]
            ],
            "type": "heatmapgl"
           }
          ],
          "histogram": [
           {
            "marker": {
             "pattern": {
              "fillmode": "overlay",
              "size": 10,
              "solidity": 0.2
             }
            },
            "type": "histogram"
           }
          ],
          "histogram2d": [
           {
            "colorbar": {
             "outlinewidth": 0,
             "ticks": ""
            },
            "colorscale": [
             [
              0,
              "#0d0887"
             ],
             [
              0.1111111111111111,
              "#46039f"
             ],
             [
              0.2222222222222222,
              "#7201a8"
             ],
             [
              0.3333333333333333,
              "#9c179e"
             ],
             [
              0.4444444444444444,
              "#bd3786"
             ],
             [
              0.5555555555555556,
              "#d8576b"
             ],
             [
              0.6666666666666666,
              "#ed7953"
             ],
             [
              0.7777777777777778,
              "#fb9f3a"
             ],
             [
              0.8888888888888888,
              "#fdca26"
             ],
             [
              1,
              "#f0f921"
             ]
            ],
            "type": "histogram2d"
           }
          ],
          "histogram2dcontour": [
           {
            "colorbar": {
             "outlinewidth": 0,
             "ticks": ""
            },
            "colorscale": [
             [
              0,
              "#0d0887"
             ],
             [
              0.1111111111111111,
              "#46039f"
             ],
             [
              0.2222222222222222,
              "#7201a8"
             ],
             [
              0.3333333333333333,
              "#9c179e"
             ],
             [
              0.4444444444444444,
              "#bd3786"
             ],
             [
              0.5555555555555556,
              "#d8576b"
             ],
             [
              0.6666666666666666,
              "#ed7953"
             ],
             [
              0.7777777777777778,
              "#fb9f3a"
             ],
             [
              0.8888888888888888,
              "#fdca26"
             ],
             [
              1,
              "#f0f921"
             ]
            ],
            "type": "histogram2dcontour"
           }
          ],
          "mesh3d": [
           {
            "colorbar": {
             "outlinewidth": 0,
             "ticks": ""
            },
            "type": "mesh3d"
           }
          ],
          "parcoords": [
           {
            "line": {
             "colorbar": {
              "outlinewidth": 0,
              "ticks": ""
             }
            },
            "type": "parcoords"
           }
          ],
          "pie": [
           {
            "automargin": true,
            "type": "pie"
           }
          ],
          "scatter": [
           {
            "fillpattern": {
             "fillmode": "overlay",
             "size": 10,
             "solidity": 0.2
            },
            "type": "scatter"
           }
          ],
          "scatter3d": [
           {
            "line": {
             "colorbar": {
              "outlinewidth": 0,
              "ticks": ""
             }
            },
            "marker": {
             "colorbar": {
              "outlinewidth": 0,
              "ticks": ""
             }
            },
            "type": "scatter3d"
           }
          ],
          "scattercarpet": [
           {
            "marker": {
             "colorbar": {
              "outlinewidth": 0,
              "ticks": ""
             }
            },
            "type": "scattercarpet"
           }
          ],
          "scattergeo": [
           {
            "marker": {
             "colorbar": {
              "outlinewidth": 0,
              "ticks": ""
             }
            },
            "type": "scattergeo"
           }
          ],
          "scattergl": [
           {
            "marker": {
             "colorbar": {
              "outlinewidth": 0,
              "ticks": ""
             }
            },
            "type": "scattergl"
           }
          ],
          "scattermapbox": [
           {
            "marker": {
             "colorbar": {
              "outlinewidth": 0,
              "ticks": ""
             }
            },
            "type": "scattermapbox"
           }
          ],
          "scatterpolar": [
           {
            "marker": {
             "colorbar": {
              "outlinewidth": 0,
              "ticks": ""
             }
            },
            "type": "scatterpolar"
           }
          ],
          "scatterpolargl": [
           {
            "marker": {
             "colorbar": {
              "outlinewidth": 0,
              "ticks": ""
             }
            },
            "type": "scatterpolargl"
           }
          ],
          "scatterternary": [
           {
            "marker": {
             "colorbar": {
              "outlinewidth": 0,
              "ticks": ""
             }
            },
            "type": "scatterternary"
           }
          ],
          "surface": [
           {
            "colorbar": {
             "outlinewidth": 0,
             "ticks": ""
            },
            "colorscale": [
             [
              0,
              "#0d0887"
             ],
             [
              0.1111111111111111,
              "#46039f"
             ],
             [
              0.2222222222222222,
              "#7201a8"
             ],
             [
              0.3333333333333333,
              "#9c179e"
             ],
             [
              0.4444444444444444,
              "#bd3786"
             ],
             [
              0.5555555555555556,
              "#d8576b"
             ],
             [
              0.6666666666666666,
              "#ed7953"
             ],
             [
              0.7777777777777778,
              "#fb9f3a"
             ],
             [
              0.8888888888888888,
              "#fdca26"
             ],
             [
              1,
              "#f0f921"
             ]
            ],
            "type": "surface"
           }
          ],
          "table": [
           {
            "cells": {
             "fill": {
              "color": "#EBF0F8"
             },
             "line": {
              "color": "white"
             }
            },
            "header": {
             "fill": {
              "color": "#C8D4E3"
             },
             "line": {
              "color": "white"
             }
            },
            "type": "table"
           }
          ]
         },
         "layout": {
          "annotationdefaults": {
           "arrowcolor": "#2a3f5f",
           "arrowhead": 0,
           "arrowwidth": 1
          },
          "autotypenumbers": "strict",
          "coloraxis": {
           "colorbar": {
            "outlinewidth": 0,
            "ticks": ""
           }
          },
          "colorscale": {
           "diverging": [
            [
             0,
             "#8e0152"
            ],
            [
             0.1,
             "#c51b7d"
            ],
            [
             0.2,
             "#de77ae"
            ],
            [
             0.3,
             "#f1b6da"
            ],
            [
             0.4,
             "#fde0ef"
            ],
            [
             0.5,
             "#f7f7f7"
            ],
            [
             0.6,
             "#e6f5d0"
            ],
            [
             0.7,
             "#b8e186"
            ],
            [
             0.8,
             "#7fbc41"
            ],
            [
             0.9,
             "#4d9221"
            ],
            [
             1,
             "#276419"
            ]
           ],
           "sequential": [
            [
             0,
             "#0d0887"
            ],
            [
             0.1111111111111111,
             "#46039f"
            ],
            [
             0.2222222222222222,
             "#7201a8"
            ],
            [
             0.3333333333333333,
             "#9c179e"
            ],
            [
             0.4444444444444444,
             "#bd3786"
            ],
            [
             0.5555555555555556,
             "#d8576b"
            ],
            [
             0.6666666666666666,
             "#ed7953"
            ],
            [
             0.7777777777777778,
             "#fb9f3a"
            ],
            [
             0.8888888888888888,
             "#fdca26"
            ],
            [
             1,
             "#f0f921"
            ]
           ],
           "sequentialminus": [
            [
             0,
             "#0d0887"
            ],
            [
             0.1111111111111111,
             "#46039f"
            ],
            [
             0.2222222222222222,
             "#7201a8"
            ],
            [
             0.3333333333333333,
             "#9c179e"
            ],
            [
             0.4444444444444444,
             "#bd3786"
            ],
            [
             0.5555555555555556,
             "#d8576b"
            ],
            [
             0.6666666666666666,
             "#ed7953"
            ],
            [
             0.7777777777777778,
             "#fb9f3a"
            ],
            [
             0.8888888888888888,
             "#fdca26"
            ],
            [
             1,
             "#f0f921"
            ]
           ]
          },
          "colorway": [
           "#636efa",
           "#EF553B",
           "#00cc96",
           "#ab63fa",
           "#FFA15A",
           "#19d3f3",
           "#FF6692",
           "#B6E880",
           "#FF97FF",
           "#FECB52"
          ],
          "font": {
           "color": "#2a3f5f"
          },
          "geo": {
           "bgcolor": "white",
           "lakecolor": "white",
           "landcolor": "#E5ECF6",
           "showlakes": true,
           "showland": true,
           "subunitcolor": "white"
          },
          "hoverlabel": {
           "align": "left"
          },
          "hovermode": "closest",
          "mapbox": {
           "style": "light"
          },
          "paper_bgcolor": "white",
          "plot_bgcolor": "#E5ECF6",
          "polar": {
           "angularaxis": {
            "gridcolor": "white",
            "linecolor": "white",
            "ticks": ""
           },
           "bgcolor": "#E5ECF6",
           "radialaxis": {
            "gridcolor": "white",
            "linecolor": "white",
            "ticks": ""
           }
          },
          "scene": {
           "xaxis": {
            "backgroundcolor": "#E5ECF6",
            "gridcolor": "white",
            "gridwidth": 2,
            "linecolor": "white",
            "showbackground": true,
            "ticks": "",
            "zerolinecolor": "white"
           },
           "yaxis": {
            "backgroundcolor": "#E5ECF6",
            "gridcolor": "white",
            "gridwidth": 2,
            "linecolor": "white",
            "showbackground": true,
            "ticks": "",
            "zerolinecolor": "white"
           },
           "zaxis": {
            "backgroundcolor": "#E5ECF6",
            "gridcolor": "white",
            "gridwidth": 2,
            "linecolor": "white",
            "showbackground": true,
            "ticks": "",
            "zerolinecolor": "white"
           }
          },
          "shapedefaults": {
           "line": {
            "color": "#2a3f5f"
           }
          },
          "ternary": {
           "aaxis": {
            "gridcolor": "white",
            "linecolor": "white",
            "ticks": ""
           },
           "baxis": {
            "gridcolor": "white",
            "linecolor": "white",
            "ticks": ""
           },
           "bgcolor": "#E5ECF6",
           "caxis": {
            "gridcolor": "white",
            "linecolor": "white",
            "ticks": ""
           }
          },
          "title": {
           "x": 0.05
          },
          "xaxis": {
           "automargin": true,
           "gridcolor": "white",
           "linecolor": "white",
           "ticks": "",
           "title": {
            "standoff": 15
           },
           "zerolinecolor": "white",
           "zerolinewidth": 2
          },
          "yaxis": {
           "automargin": true,
           "gridcolor": "white",
           "linecolor": "white",
           "ticks": "",
           "title": {
            "standoff": 15
           },
           "zerolinecolor": "white",
           "zerolinewidth": 2
          }
         }
        },
        "width": 800
       }
      },
      "text/html": [
       "<div>                            <div id=\"6c12fa4a-14aa-49c7-8842-70ae0c0d707c\" class=\"plotly-graph-div\" style=\"height:525px; width:800px;\"></div>            <script type=\"text/javascript\">                require([\"plotly\"], function(Plotly) {                    window.PLOTLYENV=window.PLOTLYENV || {};                                    if (document.getElementById(\"6c12fa4a-14aa-49c7-8842-70ae0c0d707c\")) {                    Plotly.newPlot(                        \"6c12fa4a-14aa-49c7-8842-70ae0c0d707c\",                        [{\"customdata\":[[\"Scrypt\"],[\"Scrypt\"],[\"X13\"],[\"X11\"],[\"SHA-512\"],[\"SHA-256\"],[\"SHA-256\"],[\"X15\"],[\"Scrypt\"],[\"Scrypt\"],[\"Scrypt\"],[\"Scrypt\"],[\"Scrypt\"],[\"Scrypt\"],[\"Groestl\"],[\"PoS\"],[\"Scrypt\"],[\"Scrypt\"],[\"X11\"],[\"X11\"],[\"SHA3\"],[\"Scrypt\"],[\"SHA-256\"],[\"Scrypt\"],[\"X13\"],[\"X13\"],[\"NeoScrypt\"],[\"Scrypt\"],[\"Scrypt\"],[\"Scrypt\"],[\"X11\"],[\"X11\"],[\"Multiple\"],[\"PHI1612\"],[\"X11\"],[\"Scrypt\"],[\"Scrypt\"],[\"Scrypt\"],[\"X11\"],[\"Multiple\"],[\"X13\"],[\"Scrypt\"],[\"Shabal256\"],[\"Counterparty\"],[\"SHA-256\"],[\"Groestl\"],[\"Scrypt\"],[\"X13\"],[\"Scrypt\"],[\"Scrypt\"],[\"X13\"],[\"X11\"],[\"Scrypt\"],[\"X11\"],[\"SHA3\"],[\"QUAIT\"],[\"X11\"],[\"Scrypt\"],[\"X13\"],[\"SHA-256\"],[\"X15\"],[\"BLAKE256\"],[\"SHA-256\"],[\"X11\"],[\"SHA-256\"],[\"NIST5\"],[\"Scrypt\"],[\"Scrypt\"],[\"X11\"],[\"Scrypt\"],[\"SHA-256\"],[\"Scrypt\"],[\"PoS\"],[\"X11\"],[\"SHA-256\"],[\"SHA-256\"],[\"NIST5\"],[\"X11\"],[\"POS 3.0\"],[\"Scrypt\"],[\"Scrypt\"],[\"Scrypt\"],[\"X13\"],[\"X11\"],[\"X11\"],[\"Scrypt\"],[\"SHA-256\"],[\"X11\"],[\"Scrypt\"],[\"Scrypt\"],[\"Scrypt\"],[\"Scrypt\"],[\"SHA-256D\"],[\"PoS\"],[\"Scrypt\"],[\"X11\"],[\"PoS\"],[\"X13\"],[\"X14\"],[\"PoS\"],[\"SHA-256D\"],[\"DPoS\"],[\"X11\"],[\"X13\"],[\"X11\"],[\"PoS\"],[\"Scrypt\"],[\"Scrypt\"],[\"PoS\"],[\"X11\"],[\"SHA-256\"],[\"Scrypt\"],[\"X11\"],[\"Scrypt\"],[\"Scrypt\"],[\"X11\"],[\"Scrypt\"],[\"Scrypt\"],[\"Scrypt\"],[\"Scrypt\"],[\"Quark\"],[\"QuBit\"],[\"Scrypt\"],[\"SHA-256\"],[\"X11\"],[\"Scrypt\"],[\"Scrypt\"],[\"Scrypt\"],[\"Scrypt\"],[\"X13\"],[\"Scrypt\"],[\"Scrypt\"],[\"X11\"],[\"Blake2S\"],[\"X11\"],[\"PoS\"],[\"X11\"],[\"PoS\"],[\"X11\"],[\"Scrypt\"],[\"Scrypt\"],[\"Scrypt\"],[\"SHA-256\"],[\"X11\"],[\"Scrypt\"],[\"PoS\"],[\"Scrypt\"],[\"X15\"],[\"SHA-256\"],[\"POS 3.0\"],[\"536\"],[\"NIST5\"],[\"NIST5\"],[\"Skein\"],[\"X13\"],[\"Scrypt\"],[\"X13\"],[\"SkunkHash v2 Raptor\"],[\"Skein\"],[\"X11\"],[\"Scrypt\"],[\"PoS\"],[\"Scrypt\"],[\"Scrypt\"],[\"SHA-512\"],[\"Ouroboros\"],[\"X11\"],[\"NeoScrypt\"],[\"Scrypt\"],[\"Lyra2REv2\"],[\"Scrypt\"],[\"SHA-256\"],[\"NIST5\"],[\"PHI1612\"],[\"Scrypt\"],[\"Quark\"],[\"POS 2.0\"],[\"Scrypt\"],[\"SHA-256\"],[\"X11\"],[\"DPoS\"],[\"NIST5\"],[\"X13\"],[\"Scrypt\"],[\"NIST5\"],[\"Quark\"],[\"Scrypt\"],[\"Scrypt\"],[\"X11\"],[\"Quark\"],[\"Scrypt\"],[\"Scrypt\"],[\"X11\"],[\"POS 3.0\"],[\"Ethash\"],[\"Scrypt\"],[\"Scrypt\"],[\"X13\"],[\"C11\"],[\"X11\"],[\"XEVAN\"],[\"Scrypt\"],[\"VBFT\"],[\"NIST5\"],[\"Scrypt\"],[\"Scrypt\"],[\"Scrypt\"],[\"Green Protocol\"],[\"PoS\"],[\"Scrypt\"],[\"Semux BFT consensus\"],[\"Quark\"],[\"PoS\"],[\"X16R\"],[\"Scrypt\"],[\"XEVAN\"],[\"Scrypt\"],[\"Scrypt\"],[\"Scrypt\"],[\"SHA-256D\"],[\"Scrypt\"],[\"X15\"],[\"Scrypt\"],[\"Quark\"],[\"SHA-256\"],[\"DPoS\"],[\"X16R\"],[\"Quark\"],[\"Quark\"],[\"Scrypt\"],[\"Lyra2REv2\"],[\"Quark\"],[\"Scrypt\"],[\"X11\"],[\"X11\"],[\"Scrypt\"],[\"PoS\"],[\"Keccak\"],[\"X11\"],[\"Scrypt\"],[\"SHA-512\"],[\"XEVAN\"],[\"XEVAN\"],[\"X11\"],[\"Quark\"],[\"Equihash\"],[\"Scrypt\"],[\"Quark\"],[\"Quark\"],[\"Scrypt\"],[\"X11\"],[\"Scrypt\"],[\"XEVAN\"],[\"SHA-256D\"],[\"X11\"],[\"X11\"],[\"DPoS\"],[\"Scrypt\"],[\"X11\"],[\"Scrypt\"],[\"Scrypt\"],[\"SHA-256\"],[\"Scrypt\"],[\"X11\"],[\"Scrypt\"],[\"SHA-256\"],[\"X11\"],[\"Scrypt\"],[\"Scrypt\"],[\"X11\"],[\"Scrypt\"],[\"PoS\"],[\"X11\"],[\"SHA-256\"],[\"DPoS\"],[\"Scrypt\"],[\"Scrypt\"],[\"NeoScrypt\"],[\"X13\"],[\"DPoS\"],[\"DPoS\"],[\"SHA-256\"],[\"PoS\"],[\"PoS\"],[\"SHA-256\"],[\"Scrypt\"],[\"Scrypt\"]],\"hovertemplate\":\"<b>%{hovertext}</b><br><br>Class=%{marker.color}<br>principal component 1=%{x}<br>principal component 2=%{y}<br>principal component 3=%{z}<br>Algorithm=%{customdata[0]}<extra></extra>\",\"hovertext\":[\"42 Coin\",\"404Coin\",\"EliteCoin\",\"Dash\",\"Bitshares\",\"BitcoinDark\",\"PayCoin\",\"KoboCoin\",\"Aurora Coin\",\"BlueCoin\",\"EnergyCoin\",\"BitBar\",\"CryptoBullion\",\"CasinoCoin\",\"Diamond\",\"Exclusive Coin\",\"FlutterCoin\",\"HoboNickels\",\"HyperStake\",\"IOCoin\",\"MaxCoin\",\"MintCoin\",\"MazaCoin\",\"Nautilus Coin\",\"NavCoin\",\"OpalCoin\",\"Orbitcoin\",\"PotCoin\",\"PhoenixCoin\",\"Reddcoin\",\"SuperCoin\",\"SyncCoin\",\"TeslaCoin\",\"TittieCoin\",\"TorCoin\",\"UnitaryStatus Dollar\",\"UltraCoin\",\"VeriCoin\",\"X11 Coin\",\"Crypti\",\"StealthCoin\",\"ZCC Coin\",\"BurstCoin\",\"StorjCoin\",\"Neutron\",\"FairCoin\",\"RubyCoin\",\"Kore\",\"Dnotes\",\"8BIT Coin\",\"Sativa Coin\",\"Ucoin\",\"Vtorrent\",\"IslaCoin\",\"Nexus\",\"Droidz\",\"Squall Coin\",\"Diggits\",\"Paycon\",\"Emercoin\",\"EverGreenCoin\",\"Decred\",\"EDRCoin\",\"Hitcoin\",\"DubaiCoin\",\"PWR Coin\",\"BillaryCoin\",\"GPU Coin\",\"EuropeCoin\",\"ZeitCoin\",\"SwingCoin\",\"SafeExchangeCoin\",\"Nebuchadnezzar\",\"Ratecoin\",\"Revenu\",\"Clockcoin\",\"VIP Tokens\",\"BitSend\",\"Let it Ride\",\"PutinCoin\",\"iBankCoin\",\"Frankywillcoin\",\"MudraCoin\",\"Lutetium Coin\",\"GoldBlocks\",\"CarterCoin\",\"BitTokens\",\"MustangCoin\",\"ZoneCoin\",\"RootCoin\",\"BitCurrency\",\"Swiscoin\",\"BuzzCoin\",\"Opair\",\"PesoBit\",\"Halloween Coin\",\"CoffeeCoin\",\"RoyalCoin\",\"GanjaCoin V2\",\"TeamUP\",\"LanaCoin\",\"ARK\",\"InsaneCoin\",\"EmberCoin\",\"XenixCoin\",\"FreeCoin\",\"PLNCoin\",\"AquariusCoin\",\"Creatio\",\"Eternity\",\"Eurocoin\",\"BitcoinFast\",\"Stakenet\",\"BitConnect Coin\",\"MoneyCoin\",\"Enigma\",\"Russiacoin\",\"PandaCoin\",\"GameUnits\",\"GAKHcoin\",\"Allsafe\",\"LiteCreed\",\"Klingon Empire Darsek\",\"Internet of People\",\"KushCoin\",\"Printerium\",\"Impeach\",\"Zilbercoin\",\"FirstCoin\",\"FindCoin\",\"OpenChat\",\"RenosCoin\",\"VirtacoinPlus\",\"TajCoin\",\"Impact\",\"Atmos\",\"HappyCoin\",\"MacronCoin\",\"Condensate\",\"Independent Money System\",\"ArgusCoin\",\"LomoCoin\",\"ProCurrency\",\"GoldReserve\",\"GrowthCoin\",\"Phreak\",\"Degas Coin\",\"HTML5 Coin\",\"Ultimate Secure Cash\",\"QTUM\",\"Espers\",\"Denarius\",\"Virta Unique Coin\",\"Bitcoin Planet\",\"BritCoin\",\"Linda\",\"DeepOnion\",\"Signatum\",\"Cream\",\"Monoeci\",\"Draftcoin\",\"Stakecoin\",\"CoinonatX\",\"Ethereum Dark\",\"Obsidian\",\"Cardano\",\"Regalcoin\",\"TrezarCoin\",\"TerraNovaCoin\",\"Rupee\",\"WomenCoin\",\"Theresa May Coin\",\"NamoCoin\",\"LUXCoin\",\"Xios\",\"Bitcloud 2.0\",\"KekCoin\",\"BlackholeCoin\",\"Infinity Economics\",\"Magnet\",\"Lamden Tau\",\"Electra\",\"Bitcoin Diamond\",\"Cash & Back Coin\",\"Bulwark\",\"Kalkulus\",\"GermanCoin\",\"LiteCoin Ultra\",\"PhantomX\",\"Digiwage\",\"Trollcoin\",\"Litecoin Plus\",\"Monkey Project\",\"TokenPay\",\"1717 Masonic Commemorative Token\",\"My Big Coin\",\"Unified Society USDEX\",\"Tokyo Coin\",\"Stipend\",\"Pushi\",\"Ellerium\",\"Velox\",\"Ontology\",\"Bitspace\",\"Briacoin\",\"Ignition\",\"MedicCoin\",\"Bitcoin Green\",\"Deviant Coin\",\"Abjcoin\",\"Semux\",\"Carebit\",\"Zealium\",\"Proton\",\"iDealCash\",\"Bitcoin Incognito\",\"HollyWoodCoin\",\"Swisscoin\",\"Xt3ch\",\"TheVig\",\"EmaratCoin\",\"Dekado\",\"Lynx\",\"Poseidon Quark\",\"BitcoinWSpectrum\",\"Muse\",\"Trivechain\",\"Dystem\",\"Giant\",\"Peony Coin\",\"Absolute Coin\",\"Vitae\",\"TPCash\",\"ARENON\",\"EUNO\",\"MMOCoin\",\"Ketan\",\"XDNA\",\"PAXEX\",\"ThunderStake\",\"Kcash\",\"Bettex coin\",\"BitMoney\",\"Junson Ming Chan Coin\",\"HerbCoin\",\"PirateCash\",\"Oduwa\",\"Galilel\",\"Crypto Sports\",\"Credit\",\"Dash Platinum\",\"Nasdacoin\",\"Beetle Coin\",\"Titan Coin\",\"Award\",\"Insane Coin\",\"ALAX\",\"LiteDoge\",\"TruckCoin\",\"OrangeCoin\",\"BitstarCoin\",\"NeosCoin\",\"HyperCoin\",\"PinkCoin\",\"AudioCoin\",\"IncaKoin\",\"Piggy Coin\",\"Genstake\",\"XiaoMiCoin\",\"CapriCoin\",\" ClubCoin\",\"Radium\",\"Creditbit \",\"OKCash\",\"Lisk\",\"HiCoin\",\"WhiteCoin\",\"FriendshipCoin\",\"Triangles Coin\",\"EOS\",\"Oxycoin\",\"TigerCash\",\"Particl\",\"Nxt\",\"ZEPHYR\",\"Gapcoin\",\"BitcoinPlus\"],\"legendgroup\":\"0\",\"marker\":{\"color\":[0,0,0,0,0,0,0,0,0,0,0,0,0,0,0,0,0,0,0,0,0,0,0,0,0,0,0,0,0,0,0,0,0,0,0,0,0,0,0,0,0,0,0,0,0,0,0,0,0,0,0,0,0,0,0,0,0,0,0,0,0,0,0,0,0,0,0,0,0,0,0,0,0,0,0,0,0,0,0,0,0,0,0,0,0,0,0,0,0,0,0,0,0,0,0,0,0,0,0,0,0,0,0,0,0,0,0,0,0,0,0,0,0,0,0,0,0,0,0,0,0,0,0,0,0,0,0,0,0,0,0,0,0,0,0,0,0,0,0,0,0,0,0,0,0,0,0,0,0,0,0,0,0,0,0,0,0,0,0,0,0,0,0,0,0,0,0,0,0,0,0,0,0,0,0,0,0,0,0,0,0,0,0,0,0,0,0,0,0,0,0,0,0,0,0,0,0,0,0,0,0,0,0,0,0,0,0,0,0,0,0,0,0,0,0,0,0,0,0,0,0,0,0,0,0,0,0,0,0,0,0,0,0,0,0,0,0,0,0,0,0,0,0,0,0,0,0,0,0,0,0,0,0,0,0,0,0,0,0,0,0,0,0,0,0,0,0,0,0,0,0,0,0,0,0,0,0,0,0,0,0,0,0,0,0,0,0],\"coloraxis\":\"coloraxis\",\"symbol\":\"circle\"},\"mode\":\"markers\",\"name\":\"0\",\"scene\":\"scene\",\"showlegend\":true,\"x\":[-0.3513147397674375,-0.33457664646258883,2.3195440567194905,-0.39253275439433866,-0.2552391657988703,-0.3245607496457061,-0.25633041759585995,-0.24363368308460814,-0.35097271694354637,-0.3435187118450418,-0.3498048805751648,-0.35131065425528973,-0.3512948638021044,0.6123464501885733,-0.36965113420757745,-0.313084527811897,-0.3162761886448127,-0.3493641823560328,-0.3040398862796162,-0.39242700010638326,-0.4068304670242084,-0.021892448162688663,-0.28768952470163645,-0.28283421087057997,-0.27815091434632755,-0.27877578453033064,-0.35646206482412335,-0.3455890177610277,-0.34970880474327204,0.00835854853006586,-0.32401155003856746,-0.39280035036729744,-0.23252398230449742,-0.2708657595914953,-0.392711526159821,-0.3264271301883684,-0.3499856200866869,-0.3435217836810466,-0.3926758889460234,-0.23299458120249378,-0.2785557106828411,-0.34237120865166354,-0.10872947308031894,-0.27513350236560513,-0.3237686973734207,-0.3690702607664833,-0.28281452495213344,-0.27885139056907376,-0.2774413969501505,-0.351296731611057,-0.2788033887047342,-0.3244581252786854,-0.3510298052782598,-0.3927818002706458,-0.37968282203066495,-0.433729836202718,-0.3507301684040068,-0.28120836631613916,-0.2783226362609062,-0.31707723693544976,-0.2460883532947141,-0.08586464610361359,-0.3245315391959743,-0.0686422575637763,-0.32459560486479516,-0.21938071654171967,-0.3509049656773124,-0.28107581130466164,-0.3899355956406703,0.8761086268202423,-0.32439455915608284,-0.12187336378897805,-0.31276627508775234,-0.3906149268773651,-0.3231311597787675,-0.320786824385405,-0.3412576312724638,-0.3915103891479325,-0.2920149741014764,-0.32708322077417207,-0.3509432062632571,-0.34937505488126797,-0.20930813726660646,-0.31188994831615163,-0.39225302662704975,-0.35014363688324457,-0.32457638522596366,-0.3927709198720059,-0.35113337776914066,-0.3512909400445557,-0.2810672431520553,-0.2787927676942519,0.013446727237561087,-0.3117184300330466,-0.35090344674168733,-0.37886127151273696,-0.31104448985065525,-0.21074655515932897,-0.43104083949922806,-0.3107901156094434,-0.3025316586467618,3.5917956144590013,-0.3923614884896271,0.8582125377058537,-0.3927256295072695,-0.3121843693775012,-0.350830361106344,-0.3509853175258689,-0.31276627508775234,-0.39229823513520556,-0.3244384794398996,-0.350831147633904,-0.35973671833787607,-0.3509792115467239,-0.3465430343327045,-0.3927547375372507,-0.3501855438040826,0.36346711419278194,-0.3511794686060995,-0.35125042469700096,-0.3214065932798918,-0.370742103235729,-0.34745679059899526,-0.3245526980483328,-0.39266426657580383,-0.35102714282723724,-0.3511546223119042,-0.282720163388685,-0.3269299199261013,-0.21051331323978228,-0.33191788357374563,-0.28246036343534814,-0.3919260942304082,-0.409562860954264,-0.39065898342350897,-0.3110045550646591,-0.39182354272940684,-0.3053780302268321,-0.3877437376908387,-0.35109767248736334,-0.35109679564216034,-0.3441807693775269,0.27925466330743737,-0.3923045824334183,-0.26527135559597853,-0.31280063021322835,-0.350304266619793,0.8939098370069205,-0.25501361919567334,-0.2907875300763355,0.5833587139654223,-0.3428005341271355,-0.34129541326446805,-0.42585373814639893,-0.2784869645185698,0.1160495356196825,-0.27855813473733376,-0.2999825850787015,-0.4253565061559097,-0.3925783931232892,-0.2827950052927019,-0.3126660616557619,-0.35073107660382663,-0.35123327378266866,-0.3135816913753425,0.738377949511084,-0.39251881778683273,-0.35143652165754174,-0.3511886002539537,-0.28370372224261764,0.4214314287192373,-0.32289121832248685,-0.32749202569784497,-0.3748012552933624,-0.3511386814457801,-0.3880068741866295,-0.30535470765327005,-0.35100857976895344,-0.08199497360938432,-0.39130530411578995,3.5966756086776392,0.21934186036854467,-0.27521310988668957,-0.34845631608748373,-0.2743962168083658,-0.32129196623979167,0.06533639071617771,-0.35014226725983316,-0.3918897367504945,-0.3204522728658874,-0.3376484174559146,-0.3512555016429221,-0.32442992613574306,-0.29229816916930945,-0.24730487873917809,-0.35485058551063065,-0.3467797488634645,-0.2022672381624213,-0.3867271539939898,-0.39259557890368385,-0.3151377190700325,-0.2819504812562884,-0.25397604167354726,-0.34239743596134037,-0.3512829819245086,-0.3512645975333259,-0.27630465304921886,-0.34171618506941226,-0.31225855831031035,-0.3509796813969595,3.7465713585008853,-0.3866692068757449,-0.31244810277491675,-0.2917703629004573,-0.2975786714762434,-0.2732208910154896,-0.2824878336312875,-0.1534667990968551,-0.28274081457723643,-0.36818969261272794,-0.3504509995625591,-0.17726205652758567,2.2237036927914793,-0.3169761338364426,-0.2551427495924018,0.9678965074182855,-0.3592704454836686,-0.3214059750127636,-0.3896999003358049,-0.16281738414322897,-0.3517981457891305,-0.32011935356185744,-0.34412060452508914,-0.32400523434355577,-0.39206644853136663,-0.2799726573918354,-0.3115429317550556,-0.3247172820037944,-0.3238656321938028,-0.2100090819378605,-0.34000312688005047,-0.24696417815796776,0.5430710539265087,-0.11348477954647655,-0.3889910930571132,-0.2426310135189014,-0.3509837499578149,-0.38944946287660087,-0.3215235175269426,0.5600487063424078,-0.32448448454752593,-0.35046391652783215,-0.3095658388882305,-0.32267361938254574,-0.389617489353311,-0.3922948290947799,3.6089739583139497,0.08610728050647287,-0.3898242253111447,-0.3498457758780163,-0.35067555793710015,-0.2563631132856804,-0.3511965751937407,-0.3838828221056291,-0.26443982797010623,-0.1032762351474354,-0.37960868646987284,-0.3504716818128514,-0.34350303885260886,-0.38884723887962136,-0.3489029478073348,-0.3130431787560423,-0.3450910238259026,-0.32306875011630637,3.592189404928804,-0.08911350101435254,-0.34608452818747376,-0.35608583583686215,-0.27895915572667024,3.602098182790444,3.6033476323402636,-0.2371698295535556,-0.3129787744847521,-0.33804645952734313,2.40425973948422,-0.349349592099919,-0.2831393497337557],\"y\":[0.9952187882915321,0.9955194410696498,1.6348189641030428,1.2344646433740476,1.511134719146946,0.8387570743716533,0.6854986126525019,1.8902531645929106,0.9952206043318056,0.9955406340644833,0.9952811202889706,0.9952185901145746,0.9952188751253687,0.5806187815090728,0.9067682467593152,1.6126141817740276,0.23737358605089706,0.9952112646799607,1.0820518577444893,1.2344690092598083,2.1220772619957633,0.8527362214918491,0.8385203129124349,0.8419518130499808,1.7580895141131345,1.7580637174112612,0.48201123798671036,0.9951469932120207,0.9952131798635465,1.0100672877827264,1.081227361602584,1.234469737728289,0.208033433856771,1.7008240663327996,1.2344660679945032,0.9950722431217995,0.9952002845285507,0.3470421505061815,1.2344708410568925,0.20808738021968273,1.7580728027854386,0.9948542644070307,1.2408295428260316,1.6119731375101554,0.8387560207522791,0.9067954409221461,0.8419644977012166,1.7580517912361695,0.8418194469577361,0.9952195317584289,1.7580552403961751,1.0811942506565007,0.995215876510239,1.2344705042711956,2.5188204396313143,1.8931939324984017,0.9929170534563111,0.841957430989103,1.7580457377475276,0.8383484184139703,1.8903893415854804,0.8326404097799756,0.8387582802753477,1.228371193515724,0.8387640734705597,1.4929244990203037,0.9952048879684418,0.8418740818515937,1.234306247913032,0.8171681722932475,0.8387507279004002,0.5780817614915397,1.612612645448534,1.234504929272707,0.838668812117902,0.8385438020380742,1.4878269812446812,1.2344210021252482,1.6627463794340307,0.9947516605893919,0.9952015972056516,0.9952254906737331,1.6047026171172756,1.0812457125565553,1.2344556466723027,0.9952010984978208,0.8387571626257114,1.234468752222812,0.9952108669538839,0.9952197708533935,0.8420366312560558,0.25605335147280045,1.9267846660797603,1.6126162818597767,0.9952357678547994,1.233944576044798,1.612669051648545,1.6047881485108717,1.8242523589975963,1.6124880462217697,1.9229074135009028,1.6090437328557923,1.2344658438564031,1.8043786638606798,1.234469995836411,1.6126146561640402,0.995210506639772,0.9952015707791515,1.612612645448534,1.2344464428922641,0.8387635895737148,0.9952145391020695,0.7476769401918695,0.9952120952473353,0.9949383633684846,1.2344679527982092,0.9951597463537613,0.8447875627546368,0.9952148341111247,0.9952190105256599,1.561296998898735,0.5978974778386394,0.9950111859999077,0.8387581405105188,1.234468493023556,0.9952159864249972,0.9952093050831279,0.8419280374271975,0.25499593941801413,1.6047889544544043,0.9952858121389001,0.8419538585312503,1.23443245640111,1.981291297598264,1.2344774294901224,1.61261912543992,1.2344366900652621,1.6126388344591984,1.234311620922119,0.995212185343497,0.9952068007426862,0.9947795597727538,0.6525878247971104,1.234460855702331,0.8412212528386093,1.612603889731925,0.9951834610369737,1.8714347086760654,0.6854153359568241,1.6627482585033793,1.7652467014818063,1.4878219845165812,1.4878034092082508,1.8896687393264586,1.7580536285826038,0.9778260081960083,1.7580588363114351,1.6457430640109325,1.8896892667027823,1.2344719257014394,0.8419525320972101,1.6125862589324327,0.9952074793255222,0.9952190697888855,1.5113009824948276,1.6636228176838959,1.2344615500112988,0.48192797824106554,0.9952124515643442,0.7438331025356129,1.0087767391590245,0.8387687662252736,1.4875808168040325,1.8542590546181434,0.9952106480006214,1.7144939827180614,1.7053780767211673,0.9952205768320036,0.6861012451166911,1.234425799999831,1.6089700417201775,1.4890241425966473,1.7580567104709992,0.9951827075798466,1.3345507358618751,1.5612980623690966,0.975732402334149,0.9951571304979828,1.2344706444764526,1.5612593534433385,0.995122611039614,0.9952182988979866,1.081194681067742,1.6627409250178926,-0.05451589242264489,0.41606867067020614,0.9952357794715695,1.6045530432274704,0.8769697388931761,1.2344598485440015,1.5085662451252373,0.8419091842200866,1.672368960376304,1.4878092760432513,0.9952178981637125,0.9952171896472609,0.8418663754946859,1.6739093195529176,1.6125837111900438,0.995210608365621,1.5486764354715774,1.714549206035973,1.6125817561084588,0.7429279432312438,0.9936789977855636,1.2670358451170032,0.8419589072945837,0.9959024315606023,0.8419352560441392,1.925630929351713,0.995192812007048,1.7371017718459894,0.24566042533749535,1.5610139764680353,0.6854832486557412,1.5797994206069617,0.896195973104135,1.5612926219686003,1.7145670579831436,0.8345328041324014,0.8970832339008807,1.56128777229757,0.9947820435762723,1.0811872665047615,1.234463349231384,0.8418910463488253,1.6125237380446515,0.8857556371631781,1.0811600113350717,0.987844989148421,1.4366394931811028,1.3553058057518204,1.2225829257311076,1.0899186009571775,1.7145604773038887,0.05457366561061383,0.9952170440833729,1.7145672088552226,1.5612933678802958,0.9779589473079922,1.0811933825816686,0.9951922787521242,1.5084734240695867,1.9239146453261238,1.23429296566417,1.2344685957760493,1.6091108869635435,0.9875960287644274,1.2345926027189231,0.9951326835213107,0.9952053658426467,0.6854910260564286,0.9952236665456285,1.234471012249885,0.9911009762532458,0.8477691601566336,1.2342805914773034,0.9952425863993207,0.9952477841479068,1.2344803175270092,0.9952009562682368,1.6126092851180513,0.7781187471300041,0.8387577684154987,1.6090343687153208,0.842617207936067,0.995214585992355,0.4819853882512488,1.7580560591944754,1.60956077464869,1.609612356046502,0.685565054320276,1.6126122123857454,1.5716332338919716,0.7148777898877172,0.9951164805052963,0.841950354120661],\"z\":[-0.5909092909634298,-0.5912680884908071,-0.6620714929311259,-0.457640349755649,0.041814612472805476,-0.4055325291998754,-0.08633033805899087,-0.6020514474359818,-0.5909159226853662,-0.5911058108790312,-0.5909473510416251,-0.5909093346208676,-0.5909096733279344,-0.21771186129638517,-0.3545574180843558,-0.032712197433702565,-0.2796200200318939,-0.5909442198941103,-0.13895041383417717,-0.45764301557770704,-0.6999892043862809,-0.27829002029066097,-0.406177497445693,-0.2717103593250303,-0.633870170469159,-0.6338544189308203,-0.31140111947152305,-0.5910037827629445,-0.5909381434487213,-0.5999758262826518,-0.13844697418312105,-0.4576362148501118,0.10861669340336297,-0.10122942666961675,-0.45763726734460336,-0.5913467818295027,-0.5909309282358067,-0.4543982789021613,-0.4576386996817479,0.10861668933889558,-0.6338599664857122,-0.5910160690024361,0.18942209963166223,-0.14458717122993564,-0.40554703629534083,-0.35457258033104316,-0.27171277560653495,-0.6338510890632204,-0.27178888589503597,-0.5909097449125614,-0.6338525364152571,-0.1384333436939351,-0.5909141001549216,-0.45763668257399737,-0.6415595283926684,-0.7703854045970697,-0.04414078669097964,-0.2717413963880068,-0.6338599083656702,-0.405605114223513,-0.6020279838536012,-0.4771189814125962,-0.40553326552804503,-0.46265686417949026,-0.40553301525964913,-0.5084467940701729,-0.5909146363824014,-0.27173037274633083,-0.45766286040707355,-0.28917844823948663,-0.4055345824591906,-0.20369574504888804,-0.03271784649618986,-0.45768240437798124,-0.4055447462761942,-0.40556797126665894,-0.5053638776164298,-0.45765223709775027,-0.02664517961230305,-0.5912827761809147,-0.5909133955338238,-0.5909463191785781,-0.314658556755183,-0.13867456711024395,-0.45764407835037435,-0.5909281316741545,-0.4055322537306934,-0.4576366008404223,-0.5909113706631517,-0.5909098909046154,-0.27175682055693806,-0.34366657386768606,-0.6684872958403518,-0.03273785219632456,-0.590919658718431,-0.45780958536239325,-0.032758875393270076,-0.31464573442632804,-0.6886650355982888,-0.03273431527692278,-0.6620048437544285,-0.2290459356423332,-0.457643717632384,-0.6624144085677808,-0.4576376412438166,-0.03272895496540129,-0.5909169275823821,-0.5909126108973395,-0.03271784649618986,-0.45764175207009805,-0.4055358486857695,-0.5909175651753876,-0.053732238479879825,-0.5909144261640661,-0.5909523623096387,-0.4576367714242366,-0.5909206672365513,-0.28414557410617525,-0.5909111581616101,-0.590910518725874,-0.160143059615478,-0.3032759738714462,-0.5909472070877894,-0.40553285082989293,-0.4576385353092753,-0.5909141672691806,-0.5909107243805883,-0.2717086275158216,-0.35530013079904854,-0.3146501869701618,-0.591279573254917,-0.2717176178952633,-0.45764638617373116,-0.517950761100472,-0.457677140441276,-0.03275154088266791,-0.4576489712609079,-0.03285899337488095,-0.45770434663482035,-0.5909122455391504,-0.590911390939128,-0.5909704541437347,-0.09093260369325985,-0.4576439654251181,-0.27191766292714276,-0.03271579380469726,-0.5909223025515637,-0.6200877326211467,-0.08634127131186659,-0.026668229241518508,-0.8940612297557341,-0.505334478011744,-0.5053593651857324,-0.7537066543732865,-0.6338581393845132,-0.5967570785909522,-0.6338576627747292,-0.13928405328953727,-0.7537191884467022,-0.4576406817929263,-0.2717112021335645,-0.03271543607014006,-0.5909182778144784,-0.5909108461335633,0.042868866368519075,-0.15566717561319907,-0.45764010772648017,-0.31148078210328983,-0.5909106036152114,0.08480649085404797,-0.6074217475972259,-0.4055653581522224,-0.5055791555860649,-0.419798516052044,-0.5909112369696774,-0.47936551439480685,-0.015449488260397076,-0.5909152536648995,-0.08965840637012096,-0.4576568134801769,-0.2291244486374767,-0.5159459462232594,-0.6339193055183778,-0.5909564250109766,-0.18613344296190346,-0.16014535576023867,-0.5954787169941252,-0.5909210461318336,-0.45765323605155,-0.16015465571752943,-0.5911469864714226,-0.5909103095539523,-0.1384339358616,-0.026639049593017744,0.10841529051795958,-0.45121715055993533,-0.5909960767183943,-0.31476484093354307,-0.4255295801478451,-0.4576384100910752,-0.5111715604463662,-0.271719841352417,0.013891723719348634,-0.5053398924766362,-0.5909097355071269,-0.5909099615997124,-0.2718175405909959,-0.04297900695937187,-0.032722575457250706,-0.5909141769846445,-0.08043274042442625,-0.4793992339072292,-0.03271874682011219,0.007891885672740713,-0.5916560428730053,-0.09767689451347343,-0.2717179253798752,-0.594686170479715,-0.27170941229260037,-0.6612286095699298,-0.590921095775565,-0.28283212889127574,-0.5705873633958667,-0.16017938724888092,-0.08634986188743085,-0.16011008879883162,-0.31132538515176805,-0.1601423631938311,-0.47934595940454294,-0.27273451490010026,-0.2343968715392237,-0.16016542120230254,-0.5909719707611124,-0.1384406066588231,-0.45764878155449984,-0.271753558917975,-0.032726137284383804,-0.41587261745283904,-0.13843878565700252,-0.5923352609808638,0.29057174890063503,-0.19196799706557582,-0.424233266176931,-0.14375386924973765,-0.4793580300008907,0.12752308027643708,-0.5909151424357008,-0.4793506246540234,-0.16014030565296883,-0.6050063140283077,-0.13843271483780673,-0.5909207701686167,-0.511259800886991,-0.6617944927893474,-0.45766660709359414,-0.4576453979622196,-0.22937512781543823,-0.597782320136016,-0.45771123622779203,-0.590922586607309,-0.5909189648166838,-0.08632850519973363,-0.590912269625194,-0.45780167142550554,-0.5918531956423156,-0.41109066603047223,-0.45785007864729965,-0.590928762501142,-0.5910587388432612,-0.4577111809056256,-0.5909510998433344,-0.032712171738072705,-0.07438199152879157,-0.4055602896455866,-0.22905171850388462,-0.2754078059494837,-0.5910055322209387,-0.31140391069468104,-0.6338497823251074,-0.22932047313810236,-0.2293519688839246,-0.08669614791686772,-0.032713838637234094,0.244500334058209,-0.15596791729299983,-0.5909291608682273,-0.27170446885403265],\"type\":\"scatter3d\"},{\"customdata\":[[\"SHA-256\"],[\"Ethash\"],[\"Scrypt\"],[\"CryptoNight-V7\"],[\"Ethash\"],[\"Equihash\"],[\"Multiple\"],[\"Scrypt\"],[\"X11\"],[\"Scrypt\"],[\"Multiple\"],[\"Scrypt\"],[\"SHA-256\"],[\"Scrypt\"],[\"Scrypt\"],[\"Quark\"],[\"Groestl\"],[\"Scrypt\"],[\"Scrypt\"],[\"Scrypt\"],[\"X11\"],[\"Multiple\"],[\"SHA-256\"],[\"Scrypt\"],[\"Scrypt\"],[\"Scrypt\"],[\"Scrypt\"],[\"Scrypt\"],[\"NeoScrypt\"],[\"Scrypt\"],[\"Scrypt\"],[\"Scrypt\"],[\"Scrypt\"],[\"SHA-256\"],[\"Scrypt\"],[\"Scrypt\"],[\"Scrypt\"],[\"Scrypt\"],[\"HybridScryptHash256\"],[\"Scrypt\"],[\"Scrypt\"],[\"SHA-256\"],[\"Scrypt\"],[\"Scrypt\"],[\"Scrypt\"],[\"Scrypt\"],[\"SHA-256\"],[\"SHA-256\"],[\"SHA-256\"],[\"SHA-256\"],[\"SHA-256\"],[\"X11\"],[\"Scrypt\"],[\"Lyra2REv2\"],[\"Scrypt\"],[\"SHA-256\"],[\"CryptoNight\"],[\"CryptoNight\"],[\"Scrypt\"],[\"Scrypt\"],[\"Scrypt\"],[\"Scrypt\"],[\"Scrypt\"],[\"Scrypt\"],[\"Stanford Folding\"],[\"Multiple\"],[\"QuBit\"],[\"Scrypt\"],[\"Scrypt\"],[\"M7 POW\"],[\"Scrypt\"],[\"SHA-256\"],[\"Scrypt\"],[\"X11\"],[\"Lyra2RE\"],[\"SHA-256\"],[\"X11\"],[\"Scrypt\"],[\"Scrypt\"],[\"Ethash\"],[\"Blake2b\"],[\"X11\"],[\"SHA-256\"],[\"Scrypt\"],[\"1GB AES Pattern Search\"],[\"Scrypt\"],[\"SHA-256\"],[\"X11\"],[\"Dagger\"],[\"Scrypt\"],[\"X11GOST\"],[\"Scrypt\"],[\"X11\"],[\"Scrypt\"],[\"X11\"],[\"Equihash\"],[\"CryptoNight\"],[\"SHA-256\"],[\"Multiple\"],[\"Scrypt\"],[\"SHA-256\"],[\"Scrypt\"],[\"Lyra2Z\"],[\"Ethash\"],[\"Equihash\"],[\"Scrypt\"],[\"X11\"],[\"X11\"],[\"CryptoNight\"],[\"Scrypt\"],[\"CryptoNight\"],[\"Lyra2RE\"],[\"X11\"],[\"CryptoNight-V7\"],[\"Scrypt\"],[\"X11\"],[\"Equihash\"],[\"Scrypt\"],[\"Lyra2RE\"],[\"Dagger-Hashimoto\"],[\"Scrypt\"],[\"NIST5\"],[\"Scrypt\"],[\"SHA-256\"],[\"Scrypt\"],[\"CryptoNight-V7\"],[\"Argon2d\"],[\"Blake2b\"],[\"Cloverhash\"],[\"CryptoNight\"],[\"X11\"],[\"Scrypt\"],[\"Scrypt\"],[\"X11\"],[\"X11\"],[\"CryptoNight\"],[\"Time Travel\"],[\"Scrypt\"],[\"Keccak\"],[\"X11\"],[\"SHA-256\"],[\"Scrypt\"],[\"Scrypt\"],[\"Scrypt\"],[\"Scrypt\"],[\"Scrypt\"],[\"Scrypt\"],[\"CryptoNight\"],[\"Equihash\"],[\"X11\"],[\"NeoScrypt\"],[\"Equihash\"],[\"Dagger\"],[\"Scrypt\"],[\"X11\"],[\"NeoScrypt\"],[\"Ethash\"],[\"NeoScrypt\"],[\"Multiple\"],[\"CryptoNight\"],[\"CryptoNight\"],[\"Ethash\"],[\"X11\"],[\"CryptoNight-V7\"],[\"Scrypt\"],[\"BLAKE256\"],[\"X11\"],[\"NeoScrypt\"],[\"NeoScrypt\"],[\"Scrypt\"],[\"X11\"],[\"SHA-256\"],[\"C11\"],[\"CryptoNight\"],[\"SkunkHash\"],[\"CryptoNight\"],[\"Scrypt\"],[\"Dagger\"],[\"Lyra2REv2\"],[\"Scrypt\"],[\"Scrypt\"],[\"X11\"],[\"Ethash\"],[\"CryptoNight\"],[\"Scrypt\"],[\"IMesh\"],[\"Equihash\"],[\"Lyra2Z\"],[\"X11\"],[\"CryptoNight\"],[\"NIST5\"],[\"Lyra2RE\"],[\"Tribus\"],[\"Lyra2Z\"],[\"CryptoNight\"],[\"CryptoNight Heavy\"],[\"CryptoNight\"],[\"Jump Consistent Hash\"],[\"CryptoNight\"],[\"X16R\"],[\"HMQ1725\"],[\"X11\"],[\"Scrypt\"],[\"CryptoNight-V7\"],[\"Cryptonight-GPU\"],[\"XEVAN\"],[\"CryptoNight Heavy\"],[\"SHA-256\"],[\"X11\"],[\"X16R\"],[\"Equihash\"],[\"Lyra2Z\"],[\"SHA-256\"],[\"CryptoNight\"],[\"Blake\"],[\"Blake\"],[\"Exosis\"],[\"Scrypt\"],[\"Equihash\"],[\"Equihash\"],[\"QuBit\"],[\"SHA-256\"],[\"X13\"],[\"SHA-256\"],[\"Scrypt\"],[\"NeoScrypt\"],[\"Blake\"],[\"Scrypt\"],[\"SHA-256\"],[\"Scrypt\"],[\"Groestl\"],[\"Scrypt\"],[\"Scrypt\"],[\"Multiple\"],[\"Equihash+Scrypt\"],[\"Ethash\"],[\"CryptoNight\"],[\"Equihash\"]],\"hovertemplate\":\"<b>%{hovertext}</b><br><br>Class=%{marker.color}<br>principal component 1=%{x}<br>principal component 2=%{y}<br>principal component 3=%{z}<br>Algorithm=%{customdata[0]}<extra></extra>\",\"hovertext\":[\"Bitcoin\",\"Ethereum\",\"Litecoin\",\"Monero\",\"Ethereum Classic\",\"ZCash\",\"DigiByte\",\"ProsperCoin\",\"Spreadcoin\",\"Argentum\",\"MyriadCoin\",\"MoonCoin\",\"ZetaCoin\",\"SexCoin\",\"Quatloo\",\"QuarkCoin\",\"Riecoin\",\"Digitalcoin \",\"Catcoin\",\"CannaCoin\",\"CryptCoin\",\"Verge\",\"DevCoin\",\"EarthCoin\",\"E-Gulden\",\"Einsteinium\",\"Emerald\",\"Franko\",\"FeatherCoin\",\"GrandCoin\",\"GlobalCoin\",\"GoldCoin\",\"Infinite Coin\",\"IXcoin\",\"KrugerCoin\",\"LuckyCoin\",\"Litebar \",\"MegaCoin\",\"MediterraneanCoin\",\"MinCoin\",\"NobleCoin\",\"Namecoin\",\"NyanCoin\",\"RonPaulCoin\",\"StableCoin\",\"SmartCoin\",\"SysCoin\",\"TigerCoin\",\"TerraCoin\",\"UnbreakableCoin\",\"Unobtanium\",\"UroCoin\",\"ViaCoin\",\"Vertcoin\",\"WorldCoin\",\"JouleCoin\",\"ByteCoin\",\"DigitalNote \",\"MonaCoin\",\"Gulden\",\"PesetaCoin\",\"Wild Beast Coin\",\"Flo\",\"ArtByte\",\"Folding Coin\",\"Unitus\",\"CypherPunkCoin\",\"OmniCron\",\"GreenCoin\",\"Cryptonite\",\"MasterCoin\",\"SoonCoin\",\"1Credit\",\"MarsCoin \",\"Crypto\",\"Anarchists Prime\",\"BowsCoin\",\"Song Coin\",\"BitZeny\",\"Expanse\",\"Siacoin\",\"MindCoin\",\"I0coin\",\"Revolution VR\",\"HOdlcoin\",\"Gamecredits\",\"CarpeDiemCoin\",\"Adzcoin\",\"SoilCoin\",\"YoCoin\",\"SibCoin\",\"Francs\",\"BolivarCoin\",\"Omni\",\"PizzaCoin\",\"Komodo\",\"Karbo\",\"ZayedCoin\",\"Circuits of Value\",\"DopeCoin\",\"DollarCoin\",\"Shilling\",\"ZCoin\",\"Elementrem\",\"ZClassic\",\"KiloCoin\",\"ArtexCoin\",\"Kurrent\",\"Cannabis Industry Coin\",\"OsmiumCoin\",\"Bikercoins\",\"HexxCoin\",\"PacCoin\",\"Citadel\",\"BeaverCoin\",\"VaultCoin\",\"Zero\",\"Canada eCoin\",\"Zoin\",\"DubaiCoin\",\"EB3coin\",\"Coinonat\",\"BenjiRolls\",\"ILCoin\",\"EquiTrader\",\"Quantum Resistant Ledger\",\"Dynamic\",\"Nano\",\"ChanCoin\",\"Dinastycoin\",\"DigitalPrice\",\"Unify\",\"SocialCoin\",\"ArcticCoin\",\"DAS\",\"LeviarCoin\",\"Bitcore\",\"gCn Coin\",\"SmartCash\",\"Onix\",\"Bitcoin Cash\",\"Sojourn Coin\",\"NewYorkCoin\",\"FrazCoin\",\"Kronecoin\",\"AdCoin\",\"Linx\",\"Sumokoin\",\"BitcoinZ\",\"Elements\",\"VIVO Coin\",\"Bitcoin Gold\",\"Pirl\",\"eBoost\",\"Pura\",\"Innova\",\"Ellaism\",\"GoByte\",\"SHIELD\",\"UltraNote\",\"BitCoal\",\"DaxxCoin\",\"AC3\",\"Lethean\",\"PopularCoin\",\"Photon\",\"Sucre\",\"SparksPay\",\"GunCoin\",\"IrishCoin\",\"Pioneer Coin\",\"UnitedBitcoin\",\"Interzone\",\"TurtleCoin\",\"MUNcoin\",\"Niobio Cash\",\"ShareChain\",\"Travelflex\",\"KREDS\",\"BitFlip\",\"LottoCoin\",\"Crypto Improvement Fund\",\"Callisto Network\",\"BitTube\",\"Poseidon\",\"Aidos Kuneen\",\"Bitrolium\",\"Alpenschillling\",\"FuturoCoin\",\"Monero Classic\",\"Jumpcoin\",\"Infinex\",\"KEYCO\",\"GINcoin\",\"PlatinCoin\",\"Loki\",\"Newton Coin\",\"MassGrid\",\"PluraCoin\",\"Motion\",\"PlusOneCoin\",\"Axe\",\"HexCoin\",\"Webchain\",\"Ryo\",\"Urals Coin\",\"Qwertycoin\",\"Project Pai\",\"Azart\",\"Xchange\",\"CrypticCoin\",\"Actinium\",\"Bitcoin SV\",\"FREDEnergy\",\"Universal Molecule\",\"Lithium\",\"Exosis\",\"Block-Logic\",\"Beam\",\"Bithereum\",\"SLICE\",\"BLAST\",\"Bitcoin Rhodium\",\"GlobalToken\",\"SolarCoin\",\"UFO Coin\",\"BlakeCoin\",\"Crypto Escudo\",\"Crown Coin\",\"SmileyCoin\",\"Groestlcoin\",\"Bata\",\"Pakcoin\",\"JoinCoin\",\"Vollar\",\"Reality Clash\",\"Beldex\",\"Horizen\"],\"legendgroup\":\"1\",\"marker\":{\"color\":[1,1,1,1,1,1,1,1,1,1,1,1,1,1,1,1,1,1,1,1,1,1,1,1,1,1,1,1,1,1,1,1,1,1,1,1,1,1,1,1,1,1,1,1,1,1,1,1,1,1,1,1,1,1,1,1,1,1,1,1,1,1,1,1,1,1,1,1,1,1,1,1,1,1,1,1,1,1,1,1,1,1,1,1,1,1,1,1,1,1,1,1,1,1,1,1,1,1,1,1,1,1,1,1,1,1,1,1,1,1,1,1,1,1,1,1,1,1,1,1,1,1,1,1,1,1,1,1,1,1,1,1,1,1,1,1,1,1,1,1,1,1,1,1,1,1,1,1,1,1,1,1,1,1,1,1,1,1,1,1,1,1,1,1,1,1,1,1,1,1,1,1,1,1,1,1,1,1,1,1,1,1,1,1,1,1,1,1,1,1,1,1,1,1,1,1,1,1,1,1,1,1,1,1,1,1,1,1,1,1,1,1,1,1,1,1,1,1,1,1,1,1,1,1,1,1,1,1,1,1,1,1,1,1,1,1,1,1],\"coloraxis\":\"coloraxis\",\"symbol\":\"diamond\"},\"mode\":\"markers\",\"name\":\"1\",\"scene\":\"scene\",\"showlegend\":true,\"x\":[-0.14911319910676907,-0.13893122956796708,-0.17469202996770616,-0.13278344737210335,-0.137364751278882,-0.13622065126003732,0.16249007570539725,-0.1758437419235101,-0.21727047631352714,-0.17545826330595518,-0.09216873014639113,2.561025093730118,-0.1461843162134779,-0.17270025968369182,-0.17526114140344315,-0.20961361179489787,-0.19326570350419853,-0.1753105659210849,-0.17582593164131852,-0.17591282623913168,-0.2173602201745609,0.1863034426234845,0.23053857706969202,0.07400302941190232,-0.17565796234682912,-0.1712419825795087,-0.17559690076514167,-0.17597009076251596,-0.17632278952924269,-0.15509096724673063,-0.17475950949652197,-0.17503813165662313,1.5812389406498635,-0.14907440232973937,-0.1723142075970635,-0.1756845262706033,-0.17604102620533885,-0.1752967412025618,-0.1308639179716897,-0.1759217077320394,-0.04011733202081358,-0.14915234679006134,-0.1695555627784637,-0.1759009665062405,-0.17398514227656542,-0.1753852426870806,-0.1362417260981611,-0.14861358503740738,-0.14890206857100083,-0.14888465494741684,-0.14947858560157354,-0.2175350168494122,-0.17561621899639387,-0.17585880306112642,-0.172704861900141,-0.14868118657789653,3.885102554468732,0.4679445302669691,-0.1744782379620459,-0.15899739116811223,-0.17319101887489222,-0.17604323408093203,-0.17305553225516077,-0.15921270569243778,-0.1005291221334876,-0.12633875279862708,-0.19634625415948256,-0.17591575925582648,-0.04822146808521041,-0.12714025954653083,-0.17605218208047418,-0.1491802438430709,0.47969786016702715,-0.21691928359338555,-0.14162744178361497,-0.14891870635453047,-0.21720551104520003,-0.17416609729279586,-0.17335452299652676,-0.14000313666771003,0.36908182560460145,-0.21724110290092633,-0.14907552951081732,-0.17199085803490494,-0.1702127817569723,-0.17460863919478267,0.2713939168175392,-0.21639763159647182,-0.13710426640648032,-0.1748564086608912,-0.17411433677648225,-0.1758410239001517,-0.21720411122742087,-0.17605224085295093,-0.21735472775130293,-0.22267108528992044,0.31209635158393656,-0.1493368301337447,-0.10631520487633127,-0.17320505419185736,-0.14929527404168877,-0.17571394121515274,-0.14553940925214404,-0.1397441043907895,-0.13624236136816423,-0.1023774472686806,-0.20387623827443266,-0.21517179645674173,0.31209078508245003,-0.17603388219615482,0.312222097851104,-0.1421706888377343,0.5018220840557533,-0.13154125596651559,-0.17600202731168169,-0.21004919185839788,-0.13625482356162227,-0.17412643353237814,-0.14188776283029128,-0.14593515639892277,-0.1467664554649505,-0.16720431456651022,-0.17556224652382343,-0.1154957699694084,-0.1753832344633805,-0.1313990614009276,-0.16671304183805283,-0.0329415436740602,-0.14638954671084536,0.34838516215470183,-0.21640592489279944,-0.17570431958645755,-0.17546620671812568,-0.21680264486114015,-0.21738293300518766,0.31248775426118,-0.1460260731085624,3.2500294443959175,-0.088998684578151,-0.2082065529010995,-0.1491123597260766,-0.10121595961483212,1.578487538082744,-0.1758025821843464,-0.17525131931833357,-0.17495087093062212,-0.17493774559480876,0.3126724517760036,0.07716430467483859,-0.1715583322035734,-0.1810343440680164,-0.136100178009499,-0.13585694423703137,-0.1741246349777041,-0.21290535958388548,-0.18087893716565337,-0.13810010708330672,-0.18097968610116147,-0.11652289489821036,1.1543642772685203,0.31207340818108503,-0.06258321070922056,-0.2126441180031751,-0.12045663944480006,-0.09178814889074954,1.0997851366754003,-0.21735681200992663,-0.18103194330631048,-0.17403576247692693,-0.17504998400192714,-0.2172818710819882,-0.149091675533168,-0.21144236585463505,8.091739511767594,-0.12447732646129661,0.3159672729281335,0.017904372076917058,-0.1353585005115202,-0.1613460273199265,-0.17562638308511994,0.13292829863115288,-0.211393495994068,-0.0908835087540313,0.3200390601496942,-0.1758645759205354,-0.15240201819057259,-0.13508650833229707,-0.143311008175316,-0.2164468729175718,0.31225676305595096,-0.16726426388137824,-0.14201512246943393,-0.12833690641847337,-0.14562424178861222,0.3162068396182759,0.6078665111266579,2.130094356347087,-0.1314026164433453,0.32592864225301577,-0.18480424346552402,-0.14988057558155443,-0.2173388851946905,-0.17588925423397414,-0.12032962054972296,-0.1548589296104701,-0.1386422242366883,3.142853509735582,-0.10874943283404734,-0.2173100934925073,-0.18422883918236618,-0.030328690745772637,-0.14501877581983838,-0.1491123974533138,0.39242895428946,-0.1208227510198548,-0.12121714267763081,-0.11741284787566764,-0.17477594869155108,-0.13414987230660277,-0.1359321928108374,-0.19555297951573994,-0.14838505685927555,-0.10368186889723113,-0.14724723614421092,0.523858310766827,-0.10584142311524948,-0.07140997139518317,-0.15936394038478846,-0.1489014363105288,0.5432942026845683,-0.19282463437877176,-0.1759665689119705,-0.17391197172893264,-0.127076779586971,-0.1352020016108007,-0.13977742033422694,0.3339360286611426,-0.13622171276033854],\"y\":[-1.3011930387410504,-2.04115237851445,-1.1447451784424105,-2.191797477261526,-2.0412417950232205,-1.9320834242993996,-1.7821059937093033,-1.1447464991404974,-0.905492384654337,-1.1447621362340055,-1.7786780439247687,-1.3135011908680678,-1.3011813024243366,-1.1447847528306856,-1.144780413117252,-0.42536974132900573,-1.233202301877437,-1.1447444207221442,-1.1447457638733145,-1.1447435839538154,-0.9054946220921277,-1.7778614145418392,-1.3009129426697341,-1.1443221139348878,-1.1447388295469143,-1.1447610851790777,-1.1447443798895638,-1.144744550839497,-1.6579896902269555,-1.144916709044097,-1.1447376918266639,-1.1447508420335128,-1.138669981997941,-1.3011914370821507,-1.1447801302218312,-1.1447391924509158,-1.1447402256486108,-1.144739325736698,-2.1753735822086333,-1.144741646660079,-1.1501339923576461,-1.301194654886515,-1.1447187649584456,-1.1447488615599863,-1.1448377970213655,-1.1447497297996723,-1.3012978165259115,-1.3011914991077926,-1.3011997311661163,-1.3012268944845,-1.301192897946266,-0.9054886309125826,-1.1447385737284959,-1.2428704230355774,-1.1447962577197501,-1.3011928136561435,-2.3356129419255676,-2.3486703401036406,-1.1447518490423085,-1.1452683048235361,-1.144743661853693,-1.1447412545197495,-1.1447333828404302,-1.1447782489031946,-2.1777984064675038,-1.7786212103977463,-1.5420389419943235,-1.1447365373564415,-1.1467998459525754,-2.185198021139655,-1.1447401501849799,-1.3011958065688618,-1.185172469751283,-0.9054874249115523,-2.216545507029429,-1.3012090468390003,-0.9054904364161935,-1.1448160938444139,-1.144811762977849,-2.0412090353142887,-2.2139619773993515,-0.9054882370535043,-1.3011914836159029,-1.144726116696242,-2.1509589274402536,-1.1447417357963015,-1.299685827687126,-0.9055033102578791,-2.1998136503912824,-1.1448138566600166,-2.2292906171637537,-1.1447456531891567,-0.9054933135965931,-1.1447401503880619,-0.9054995315433974,-0.943232644764183,-2.347774180559963,-1.3011940060932314,-1.7786750631546473,-1.1447689052940047,-1.3011929525749857,-1.1447477442205654,-2.262625818935612,-2.0412051647821916,-1.9320843205642584,-1.149035583367184,-0.905291622676247,-0.9055583626425701,-2.347782481529609,-1.1447409317548,-2.3477799954749736,-2.2165269992319443,-0.9491654348611683,-2.1918819378429357,-1.144740090467842,-0.9059133337439067,-1.9320819000752079,-1.1447335686343296,-2.2165233902801744,-2.2042006161139738,-1.1464656537693718,-0.652150791904273,-1.1447455323148519,-1.301624147747586,-1.1447649087349436,-2.191817368192464,-2.222806436703896,-2.2308085074550363,-2.1729491649713024,-2.3477362061107,-0.9055153925104766,-1.144739478941784,-1.144770535330363,-0.9055024207241215,-0.9054962201208142,-2.3477903068311234,-2.257926958840589,-1.150048222375783,-1.2551071842751045,-0.9059106377684991,-1.3011930040886464,-1.1493545045132532,-1.0723065099324987,-1.1447440661883566,-1.1447682677512117,-1.1447676041289334,-1.144767062271787,-2.3478082813641103,-1.9386673708772402,-0.9049112980221683,-1.6579574723425308,-1.9320784507663242,-2.1998548334205914,-1.1447334943840617,-0.9055543132238372,-1.6579642639958274,-2.0413235149020044,-1.6579587378448024,-1.7787002493796784,-2.375363347304263,-2.3477769620952276,-2.045337904252579,-0.9056902767845663,-2.1920219479191143,-1.1449297103409692,-1.3316273625374924,-0.9054958021281251,-1.6579529707769292,-1.6580156079573984,-1.1447452811179242,-0.905495056295077,-1.3011915382358121,-1.262990512391751,-2.7603398914927246,-2.1218871103316053,-2.347853576175222,-1.14406995320293,-2.1997929413841484,-1.2430167700446488,-1.1447514669559458,-1.1454899435339843,-0.9056019598650937,-2.0439381355765516,-2.3481726843068906,-1.144747359236601,-2.211066211540205,-1.9320725565155017,-2.26273824381566,-0.9055170829799759,-2.3477737216813352,-0.6521332708625277,-2.2165325222658128,-2.232740159501353,-2.2626213233106056,-2.3480373944388937,-2.1716871947112844,-2.4077224868814864,-2.372686442598725,-2.3479295429351836,-1.2437510170188621,-2.2317652620086745,-0.9054959425409218,-1.1447491890170596,-2.1925673913740344,-2.2726482629947884,-0.6314514004895085,-2.2022779658859495,-1.301052139753386,-0.9054976888940008,-1.2437844387933363,-1.9332728884107073,-2.2626502577431773,-1.301193005646151,-2.350379086755852,-2.213886655775546,-2.213844318004027,-2.2435349151564026,-1.1447750576095213,-1.932175354621157,-1.9320787695604515,-1.5420795672383414,-1.3011945295498868,-0.38190326951791703,-1.3012238657653408,-1.1878252091977561,-1.6577684190465276,-2.216905798895675,-1.1447844923700317,-1.301199705064319,-1.151729823320124,-1.233199501679238,-1.1447398299656608,-1.1447848818184634,-1.7786537330560568,-2.155298253653888,-2.0412052799019733,-2.347892631905524,-1.9320834681216328],\"z\":[0.14605235884008555,0.3407676357780528,-0.039343939225050105,0.29412747800387135,0.34075306870359173,0.3599151393924543,0.3362238428643383,-0.03932238328964203,0.09394908990853316,-0.039326997602930125,0.3403885169104103,-0.06274660480128909,0.14599618569072692,-0.03937444831404683,-0.039327694551721366,0.07215081508685793,0.19701339515367516,-0.039332599699653234,-0.03932283224584122,-0.03932157456196387,0.0939511148090217,0.33509608439910793,0.13897174341120203,-0.04402092189313693,-0.03932706636494249,-0.03940529936068213,-0.039327300241114534,-0.039320357020864616,0.2401050446593186,-0.039679424369020666,-0.039343899570583804,-0.03933660965530554,-0.07286558166132352,0.14605138086268052,-0.03938234984587086,-0.0393265154173872,-0.03931974202928331,-0.03933367989456085,0.6092127634230582,-0.039321723296839695,-0.04096620870238863,0.14605334566302872,-0.03944339478348392,-0.0393209407896927,-0.039342059382808436,-0.03933035723228046,0.14583078362050286,0.14604285150269097,0.1460495287490667,0.14605359916772012,0.14605910703554567,0.09395338501044745,-0.03932788128309806,0.3171794762553481,-0.03937250235051953,0.1460443168260534,0.37556560286157026,0.4410006218145559,-0.03934682216546536,-0.03955017113424611,-0.039371999693549806,-0.03931953471638902,-0.039376172811728116,-0.03962543764781842,0.6269474171916919,0.3410125289129958,0.24832618860931585,-0.03932265985301234,-0.04135526104274406,0.3939450382994624,-0.03931954750479268,0.14605404888349152,-0.044932132831822624,0.09394177983007648,0.4253245771061651,0.1460513436824797,0.09394757095151536,-0.03934221615487876,-0.03935795584261898,0.34079666233232175,0.48210328192502133,0.0939478748012868,0.1460514092763197,-0.039397077407528784,0.44720573688663484,-0.03934604131440124,0.13801619364425907,0.0939346822418017,0.4082679697758988,-0.039329785834427713,0.3166526647005292,-0.03932257047254118,0.09394801033649089,-0.039319546382837266,0.09395180703220642,0.315665302750418,0.4437437042822908,0.14605665938929896,0.34065018272911307,-0.03936765699645305,0.14605571892962588,-0.0393245872564787,0.4960870664776051,0.34079123623376617,0.35991568665428314,-0.039990113522147035,0.09366841255184435,0.09392086992257191,0.4437451499466592,-0.03931976021649906,0.4437423145253167,0.42533165074407175,0.08768682804236695,0.29411811876021726,-0.03932048657932574,0.09388335239090664,0.35991552612632316,-0.039356297924056954,0.4253258241767716,0.4312954794499612,-0.03958317558523547,0.046251320372621176,-0.03932775603664736,0.14549911831864404,-0.03932793956495287,0.29410504093951245,0.6297953101475378,0.492277745810036,0.2213638555064493,0.44306509583769393,0.09393678998133642,-0.03932610229402149,-0.03932549202211709,0.09394204366655895,0.09395179414818738,0.4437390593048898,0.4111873987962305,-0.10194969106395452,0.13474300149650018,0.09384877048512008,0.14605233768123088,-0.03996005805636596,-0.08354752687109954,-0.03932353949967007,-0.0393298408285006,-0.03933551575582608,-0.03933584661531583,0.4437385436930954,0.35702572760964135,0.09300802069039842,0.24018714375213746,0.359912102539242,0.40825151619721234,-0.039356343261478334,0.09387821573865894,0.24018536232222373,0.3407799120752542,0.24018633555605337,0.340843414481147,0.4325976449491686,0.4437445793021145,0.3400297559382017,0.09389536399792477,0.29393535382535063,-0.04085038429621145,0.0596787624280199,0.09395124249906096,0.24018637122772624,0.24006685549155887,-0.039337289383967265,0.0939497331477739,0.1460517173114244,0.12605996367879715,0.36630341864627247,0.3057073035632394,0.4436848129688535,-0.04302214119348218,0.40823226978324056,0.3169342090742388,-0.039325607717405744,-0.044923991781510964,0.0938579053076283,0.3403278040163839,0.4436609680020823,-0.039321858112555244,0.39270786384169437,0.35989236498272503,0.4960639544643601,0.09393782218674257,0.4437406574879214,0.04624959762219248,0.42532966118590987,0.3629569315518575,0.4960879114315844,0.4437101024021965,0.37295124228265225,0.4197498478075123,0.39273092377550206,0.44351250520024726,0.2402771831485026,0.34679121239450816,0.09395093300667949,-0.0393211048699876,0.2940212143410201,0.41115826531104444,0.04040483016744117,0.33092290478182085,0.1452815915796374,0.09395068190532947,0.2402719256360427,0.3581452301010907,0.49608137111135714,0.14605233863224765,0.44267635342586564,0.41174970414429113,0.4117501653374691,0.4262672896202208,-0.0393375517868576,0.3598916336952992,0.35990904116900063,0.24831805876131588,0.14603910676579887,-0.08226024869911429,0.14602276637594674,-0.045321442579113476,0.2387631705028925,0.41132232193013557,-0.03962162536949932,0.14604951281123627,-0.05151929733275678,0.1970047688403319,-0.03932118578875127,-0.03935197325350021,0.3410314651385549,0.4654995694159604,0.3407918722287756,0.4433581509613858,0.359915166150431],\"type\":\"scatter3d\"},{\"customdata\":[[\"VeChainThor Authority\"],[\"Proof-of-BibleHash\"],[\"SHA-256 + Hive\"],[\"Proof-of-Authority\"],[\"ECC 256K1\"],[\"Leased POS\"]],\"hovertemplate\":\"<b>%{hovertext}</b><br><br>Class=%{marker.color}<br>principal component 1=%{x}<br>principal component 2=%{y}<br>principal component 3=%{z}<br>Algorithm=%{customdata[0]}<extra></extra>\",\"hovertext\":[\"Vechain\",\"BiblePay\",\"LitecoinCash\",\"Poa Network\",\"Acute Angle Cloud\",\"Waves\"],\"legendgroup\":\"3\",\"marker\":{\"color\":[3,3,3,3,3,3],\"coloraxis\":\"coloraxis\",\"symbol\":\"square\"},\"mode\":\"markers\",\"name\":\"3\",\"scene\":\"scene\",\"showlegend\":true,\"x\":[4.469236685998792,-0.21867391291272456,-0.7759647913769795,-0.5163245164983775,-0.2858737527282629,-0.22654803582766972],\"y\":[3.195502447804138,3.262470917924148,0.733038048881337,2.3333525962855397,3.3948261692322794,4.660759518947066],\"z\":[6.396363394575211,14.382050645787341,6.872675583427485,13.70115002006037,20.78376719682783,8.950928783253742],\"type\":\"scatter3d\"},{\"customdata\":[[\"TRC10\"]],\"hovertemplate\":\"<b>%{hovertext}</b><br><br>Class=%{marker.color}<br>principal component 1=%{x}<br>principal component 2=%{y}<br>principal component 3=%{z}<br>Algorithm=%{customdata[0]}<extra></extra>\",\"hovertext\":[\"BitTorrent\"],\"legendgroup\":\"2\",\"marker\":{\"color\":[2],\"coloraxis\":\"coloraxis\",\"symbol\":\"x\"},\"mode\":\"markers\",\"name\":\"2\",\"scene\":\"scene\",\"showlegend\":true,\"x\":[34.13859131986569],\"y\":[1.8608879036262254],\"z\":[-0.9096699865228076],\"type\":\"scatter3d\"}],                        {\"template\":{\"data\":{\"histogram2dcontour\":[{\"type\":\"histogram2dcontour\",\"colorbar\":{\"outlinewidth\":0,\"ticks\":\"\"},\"colorscale\":[[0.0,\"#0d0887\"],[0.1111111111111111,\"#46039f\"],[0.2222222222222222,\"#7201a8\"],[0.3333333333333333,\"#9c179e\"],[0.4444444444444444,\"#bd3786\"],[0.5555555555555556,\"#d8576b\"],[0.6666666666666666,\"#ed7953\"],[0.7777777777777778,\"#fb9f3a\"],[0.8888888888888888,\"#fdca26\"],[1.0,\"#f0f921\"]]}],\"choropleth\":[{\"type\":\"choropleth\",\"colorbar\":{\"outlinewidth\":0,\"ticks\":\"\"}}],\"histogram2d\":[{\"type\":\"histogram2d\",\"colorbar\":{\"outlinewidth\":0,\"ticks\":\"\"},\"colorscale\":[[0.0,\"#0d0887\"],[0.1111111111111111,\"#46039f\"],[0.2222222222222222,\"#7201a8\"],[0.3333333333333333,\"#9c179e\"],[0.4444444444444444,\"#bd3786\"],[0.5555555555555556,\"#d8576b\"],[0.6666666666666666,\"#ed7953\"],[0.7777777777777778,\"#fb9f3a\"],[0.8888888888888888,\"#fdca26\"],[1.0,\"#f0f921\"]]}],\"heatmap\":[{\"type\":\"heatmap\",\"colorbar\":{\"outlinewidth\":0,\"ticks\":\"\"},\"colorscale\":[[0.0,\"#0d0887\"],[0.1111111111111111,\"#46039f\"],[0.2222222222222222,\"#7201a8\"],[0.3333333333333333,\"#9c179e\"],[0.4444444444444444,\"#bd3786\"],[0.5555555555555556,\"#d8576b\"],[0.6666666666666666,\"#ed7953\"],[0.7777777777777778,\"#fb9f3a\"],[0.8888888888888888,\"#fdca26\"],[1.0,\"#f0f921\"]]}],\"heatmapgl\":[{\"type\":\"heatmapgl\",\"colorbar\":{\"outlinewidth\":0,\"ticks\":\"\"},\"colorscale\":[[0.0,\"#0d0887\"],[0.1111111111111111,\"#46039f\"],[0.2222222222222222,\"#7201a8\"],[0.3333333333333333,\"#9c179e\"],[0.4444444444444444,\"#bd3786\"],[0.5555555555555556,\"#d8576b\"],[0.6666666666666666,\"#ed7953\"],[0.7777777777777778,\"#fb9f3a\"],[0.8888888888888888,\"#fdca26\"],[1.0,\"#f0f921\"]]}],\"contourcarpet\":[{\"type\":\"contourcarpet\",\"colorbar\":{\"outlinewidth\":0,\"ticks\":\"\"}}],\"contour\":[{\"type\":\"contour\",\"colorbar\":{\"outlinewidth\":0,\"ticks\":\"\"},\"colorscale\":[[0.0,\"#0d0887\"],[0.1111111111111111,\"#46039f\"],[0.2222222222222222,\"#7201a8\"],[0.3333333333333333,\"#9c179e\"],[0.4444444444444444,\"#bd3786\"],[0.5555555555555556,\"#d8576b\"],[0.6666666666666666,\"#ed7953\"],[0.7777777777777778,\"#fb9f3a\"],[0.8888888888888888,\"#fdca26\"],[1.0,\"#f0f921\"]]}],\"surface\":[{\"type\":\"surface\",\"colorbar\":{\"outlinewidth\":0,\"ticks\":\"\"},\"colorscale\":[[0.0,\"#0d0887\"],[0.1111111111111111,\"#46039f\"],[0.2222222222222222,\"#7201a8\"],[0.3333333333333333,\"#9c179e\"],[0.4444444444444444,\"#bd3786\"],[0.5555555555555556,\"#d8576b\"],[0.6666666666666666,\"#ed7953\"],[0.7777777777777778,\"#fb9f3a\"],[0.8888888888888888,\"#fdca26\"],[1.0,\"#f0f921\"]]}],\"mesh3d\":[{\"type\":\"mesh3d\",\"colorbar\":{\"outlinewidth\":0,\"ticks\":\"\"}}],\"scatter\":[{\"fillpattern\":{\"fillmode\":\"overlay\",\"size\":10,\"solidity\":0.2},\"type\":\"scatter\"}],\"parcoords\":[{\"type\":\"parcoords\",\"line\":{\"colorbar\":{\"outlinewidth\":0,\"ticks\":\"\"}}}],\"scatterpolargl\":[{\"type\":\"scatterpolargl\",\"marker\":{\"colorbar\":{\"outlinewidth\":0,\"ticks\":\"\"}}}],\"bar\":[{\"error_x\":{\"color\":\"#2a3f5f\"},\"error_y\":{\"color\":\"#2a3f5f\"},\"marker\":{\"line\":{\"color\":\"#E5ECF6\",\"width\":0.5},\"pattern\":{\"fillmode\":\"overlay\",\"size\":10,\"solidity\":0.2}},\"type\":\"bar\"}],\"scattergeo\":[{\"type\":\"scattergeo\",\"marker\":{\"colorbar\":{\"outlinewidth\":0,\"ticks\":\"\"}}}],\"scatterpolar\":[{\"type\":\"scatterpolar\",\"marker\":{\"colorbar\":{\"outlinewidth\":0,\"ticks\":\"\"}}}],\"histogram\":[{\"marker\":{\"pattern\":{\"fillmode\":\"overlay\",\"size\":10,\"solidity\":0.2}},\"type\":\"histogram\"}],\"scattergl\":[{\"type\":\"scattergl\",\"marker\":{\"colorbar\":{\"outlinewidth\":0,\"ticks\":\"\"}}}],\"scatter3d\":[{\"type\":\"scatter3d\",\"line\":{\"colorbar\":{\"outlinewidth\":0,\"ticks\":\"\"}},\"marker\":{\"colorbar\":{\"outlinewidth\":0,\"ticks\":\"\"}}}],\"scattermapbox\":[{\"type\":\"scattermapbox\",\"marker\":{\"colorbar\":{\"outlinewidth\":0,\"ticks\":\"\"}}}],\"scatterternary\":[{\"type\":\"scatterternary\",\"marker\":{\"colorbar\":{\"outlinewidth\":0,\"ticks\":\"\"}}}],\"scattercarpet\":[{\"type\":\"scattercarpet\",\"marker\":{\"colorbar\":{\"outlinewidth\":0,\"ticks\":\"\"}}}],\"carpet\":[{\"aaxis\":{\"endlinecolor\":\"#2a3f5f\",\"gridcolor\":\"white\",\"linecolor\":\"white\",\"minorgridcolor\":\"white\",\"startlinecolor\":\"#2a3f5f\"},\"baxis\":{\"endlinecolor\":\"#2a3f5f\",\"gridcolor\":\"white\",\"linecolor\":\"white\",\"minorgridcolor\":\"white\",\"startlinecolor\":\"#2a3f5f\"},\"type\":\"carpet\"}],\"table\":[{\"cells\":{\"fill\":{\"color\":\"#EBF0F8\"},\"line\":{\"color\":\"white\"}},\"header\":{\"fill\":{\"color\":\"#C8D4E3\"},\"line\":{\"color\":\"white\"}},\"type\":\"table\"}],\"barpolar\":[{\"marker\":{\"line\":{\"color\":\"#E5ECF6\",\"width\":0.5},\"pattern\":{\"fillmode\":\"overlay\",\"size\":10,\"solidity\":0.2}},\"type\":\"barpolar\"}],\"pie\":[{\"automargin\":true,\"type\":\"pie\"}]},\"layout\":{\"autotypenumbers\":\"strict\",\"colorway\":[\"#636efa\",\"#EF553B\",\"#00cc96\",\"#ab63fa\",\"#FFA15A\",\"#19d3f3\",\"#FF6692\",\"#B6E880\",\"#FF97FF\",\"#FECB52\"],\"font\":{\"color\":\"#2a3f5f\"},\"hovermode\":\"closest\",\"hoverlabel\":{\"align\":\"left\"},\"paper_bgcolor\":\"white\",\"plot_bgcolor\":\"#E5ECF6\",\"polar\":{\"bgcolor\":\"#E5ECF6\",\"angularaxis\":{\"gridcolor\":\"white\",\"linecolor\":\"white\",\"ticks\":\"\"},\"radialaxis\":{\"gridcolor\":\"white\",\"linecolor\":\"white\",\"ticks\":\"\"}},\"ternary\":{\"bgcolor\":\"#E5ECF6\",\"aaxis\":{\"gridcolor\":\"white\",\"linecolor\":\"white\",\"ticks\":\"\"},\"baxis\":{\"gridcolor\":\"white\",\"linecolor\":\"white\",\"ticks\":\"\"},\"caxis\":{\"gridcolor\":\"white\",\"linecolor\":\"white\",\"ticks\":\"\"}},\"coloraxis\":{\"colorbar\":{\"outlinewidth\":0,\"ticks\":\"\"}},\"colorscale\":{\"sequential\":[[0.0,\"#0d0887\"],[0.1111111111111111,\"#46039f\"],[0.2222222222222222,\"#7201a8\"],[0.3333333333333333,\"#9c179e\"],[0.4444444444444444,\"#bd3786\"],[0.5555555555555556,\"#d8576b\"],[0.6666666666666666,\"#ed7953\"],[0.7777777777777778,\"#fb9f3a\"],[0.8888888888888888,\"#fdca26\"],[1.0,\"#f0f921\"]],\"sequentialminus\":[[0.0,\"#0d0887\"],[0.1111111111111111,\"#46039f\"],[0.2222222222222222,\"#7201a8\"],[0.3333333333333333,\"#9c179e\"],[0.4444444444444444,\"#bd3786\"],[0.5555555555555556,\"#d8576b\"],[0.6666666666666666,\"#ed7953\"],[0.7777777777777778,\"#fb9f3a\"],[0.8888888888888888,\"#fdca26\"],[1.0,\"#f0f921\"]],\"diverging\":[[0,\"#8e0152\"],[0.1,\"#c51b7d\"],[0.2,\"#de77ae\"],[0.3,\"#f1b6da\"],[0.4,\"#fde0ef\"],[0.5,\"#f7f7f7\"],[0.6,\"#e6f5d0\"],[0.7,\"#b8e186\"],[0.8,\"#7fbc41\"],[0.9,\"#4d9221\"],[1,\"#276419\"]]},\"xaxis\":{\"gridcolor\":\"white\",\"linecolor\":\"white\",\"ticks\":\"\",\"title\":{\"standoff\":15},\"zerolinecolor\":\"white\",\"automargin\":true,\"zerolinewidth\":2},\"yaxis\":{\"gridcolor\":\"white\",\"linecolor\":\"white\",\"ticks\":\"\",\"title\":{\"standoff\":15},\"zerolinecolor\":\"white\",\"automargin\":true,\"zerolinewidth\":2},\"scene\":{\"xaxis\":{\"backgroundcolor\":\"#E5ECF6\",\"gridcolor\":\"white\",\"linecolor\":\"white\",\"showbackground\":true,\"ticks\":\"\",\"zerolinecolor\":\"white\",\"gridwidth\":2},\"yaxis\":{\"backgroundcolor\":\"#E5ECF6\",\"gridcolor\":\"white\",\"linecolor\":\"white\",\"showbackground\":true,\"ticks\":\"\",\"zerolinecolor\":\"white\",\"gridwidth\":2},\"zaxis\":{\"backgroundcolor\":\"#E5ECF6\",\"gridcolor\":\"white\",\"linecolor\":\"white\",\"showbackground\":true,\"ticks\":\"\",\"zerolinecolor\":\"white\",\"gridwidth\":2}},\"shapedefaults\":{\"line\":{\"color\":\"#2a3f5f\"}},\"annotationdefaults\":{\"arrowcolor\":\"#2a3f5f\",\"arrowhead\":0,\"arrowwidth\":1},\"geo\":{\"bgcolor\":\"white\",\"landcolor\":\"#E5ECF6\",\"subunitcolor\":\"white\",\"showland\":true,\"showlakes\":true,\"lakecolor\":\"white\"},\"title\":{\"x\":0.05},\"mapbox\":{\"style\":\"light\"}}},\"scene\":{\"domain\":{\"x\":[0.0,1.0],\"y\":[0.0,1.0]},\"xaxis\":{\"title\":{\"text\":\"principal component 1\"}},\"yaxis\":{\"title\":{\"text\":\"principal component 2\"}},\"zaxis\":{\"title\":{\"text\":\"principal component 3\"}}},\"coloraxis\":{\"colorbar\":{\"title\":{\"text\":\"Class\"}},\"colorscale\":[[0.0,\"#0d0887\"],[0.1111111111111111,\"#46039f\"],[0.2222222222222222,\"#7201a8\"],[0.3333333333333333,\"#9c179e\"],[0.4444444444444444,\"#bd3786\"],[0.5555555555555556,\"#d8576b\"],[0.6666666666666666,\"#ed7953\"],[0.7777777777777778,\"#fb9f3a\"],[0.8888888888888888,\"#fdca26\"],[1.0,\"#f0f921\"]]},\"legend\":{\"title\":{\"text\":\"Class\"},\"tracegroupgap\":0,\"x\":0,\"y\":1},\"margin\":{\"t\":60},\"width\":800},                        {\"responsive\": true}                    ).then(function(){\n",
       "                            \n",
       "var gd = document.getElementById('6c12fa4a-14aa-49c7-8842-70ae0c0d707c');\n",
       "var x = new MutationObserver(function (mutations, observer) {{\n",
       "        var display = window.getComputedStyle(gd).display;\n",
       "        if (!display || display === 'none') {{\n",
       "            console.log([gd, 'removed!']);\n",
       "            Plotly.purge(gd);\n",
       "            observer.disconnect();\n",
       "        }}\n",
       "}});\n",
       "\n",
       "// Listen for the removal of the full notebook cells\n",
       "var notebookContainer = gd.closest('#notebook-container');\n",
       "if (notebookContainer) {{\n",
       "    x.observe(notebookContainer, {childList: true});\n",
       "}}\n",
       "\n",
       "// Listen for the clearing of the current output cell\n",
       "var outputEl = gd.closest('.output');\n",
       "if (outputEl) {{\n",
       "    x.observe(outputEl, {childList: true});\n",
       "}}\n",
       "\n",
       "                        })                };                });            </script>        </div>"
      ]
     },
     "metadata": {},
     "output_type": "display_data"
    }
   ],
   "source": [
    "# Creating a 3D-Scatter with the PCA data and the clusters\n",
    "fig = px.scatter_3d(clustered_df, x=\"principal component 1\", y=\"principal component 2\", z=\"principal component 3\", color=\"Class\", symbol=\"Class\", width=800,hover_name=\"CoinName\", \n",
    "                    hover_data=[\"Algorithm\"])\n",
    "\n",
    "fig.update_layout(legend=dict(x=0, y=1))\n",
    "fig.show()\n",
    "\n",
    "\n"
   ]
  },
  {
   "cell_type": "code",
   "execution_count": 104,
   "metadata": {},
   "outputs": [
    {
     "data": {},
     "metadata": {},
     "output_type": "display_data"
    },
    {
     "data": {
      "application/vnd.holoviews_exec.v0+json": "",
      "text/html": [
       "<div id='1306'>\n",
       "\n",
       "\n",
       "\n",
       "\n",
       "\n",
       "  <div class=\"bk-root\" id=\"ab0d1b92-eb40-4ff5-983c-0c93668974ea\" data-root-id=\"1306\"></div>\n",
       "</div>\n",
       "<script type=\"application/javascript\">(function(root) {\n",
       "  function embed_document(root) {\n",
       "    var docs_json = {\"b4260eb2-4a17-4959-a991-4f5f8680995a\":{\"defs\":[{\"extends\":null,\"module\":null,\"name\":\"ReactiveHTML1\",\"overrides\":[],\"properties\":[]},{\"extends\":null,\"module\":null,\"name\":\"FlexBox1\",\"overrides\":[],\"properties\":[{\"default\":\"flex-start\",\"kind\":null,\"name\":\"align_content\"},{\"default\":\"flex-start\",\"kind\":null,\"name\":\"align_items\"},{\"default\":\"row\",\"kind\":null,\"name\":\"flex_direction\"},{\"default\":\"wrap\",\"kind\":null,\"name\":\"flex_wrap\"},{\"default\":\"flex-start\",\"kind\":null,\"name\":\"justify_content\"}]},{\"extends\":null,\"module\":null,\"name\":\"GridStack1\",\"overrides\":[],\"properties\":[{\"default\":\"warn\",\"kind\":null,\"name\":\"mode\"},{\"default\":null,\"kind\":null,\"name\":\"ncols\"},{\"default\":null,\"kind\":null,\"name\":\"nrows\"},{\"default\":true,\"kind\":null,\"name\":\"allow_resize\"},{\"default\":true,\"kind\":null,\"name\":\"allow_drag\"},{\"default\":[],\"kind\":null,\"name\":\"state\"}]},{\"extends\":null,\"module\":null,\"name\":\"click1\",\"overrides\":[],\"properties\":[{\"default\":\"\",\"kind\":null,\"name\":\"terminal_output\"},{\"default\":\"\",\"kind\":null,\"name\":\"debug_name\"},{\"default\":0,\"kind\":null,\"name\":\"clears\"}]},{\"extends\":null,\"module\":null,\"name\":\"TemplateActions1\",\"overrides\":[],\"properties\":[{\"default\":0,\"kind\":null,\"name\":\"open_modal\"},{\"default\":0,\"kind\":null,\"name\":\"close_modal\"}]},{\"extends\":null,\"module\":null,\"name\":\"MaterialTemplateActions1\",\"overrides\":[],\"properties\":[{\"default\":0,\"kind\":null,\"name\":\"open_modal\"},{\"default\":0,\"kind\":null,\"name\":\"close_modal\"}]}],\"roots\":{\"references\":[{\"attributes\":{\"editor\":{\"id\":\"1346\"},\"field\":\"CoinName\",\"formatter\":{\"id\":\"1345\"},\"title\":\"CoinName\"},\"id\":\"1347\",\"type\":\"TableColumn\"},{\"attributes\":{},\"id\":\"1321\",\"type\":\"NumberEditor\"},{\"attributes\":{},\"id\":\"1350\",\"type\":\"NumberFormatter\"},{\"attributes\":{\"editor\":{\"id\":\"1321\"},\"field\":\"TotalCoinsMined\",\"formatter\":{\"id\":\"1320\"},\"title\":\"TotalCoinsMined\"},\"id\":\"1322\",\"type\":\"TableColumn\"},{\"attributes\":{\"data\":{\"Algorithm\":[\"Scrypt\",\"Scrypt\",\"X13\",\"SHA-256\",\"Ethash\",\"Scrypt\",\"X11\",\"CryptoNight-V7\",\"Ethash\",\"Equihash\",\"SHA-512\",\"Multiple\",\"SHA-256\",\"SHA-256\",\"Scrypt\",\"X15\",\"X11\",\"Scrypt\",\"Scrypt\",\"Scrypt\",\"Multiple\",\"Scrypt\",\"SHA-256\",\"Scrypt\",\"Scrypt\",\"Scrypt\",\"Quark\",\"Groestl\",\"Scrypt\",\"Scrypt\",\"Scrypt\",\"Scrypt\",\"Scrypt\",\"X11\",\"Scrypt\",\"Groestl\",\"Multiple\",\"SHA-256\",\"Scrypt\",\"Scrypt\",\"Scrypt\",\"Scrypt\",\"PoS\",\"Scrypt\",\"Scrypt\",\"NeoScrypt\",\"Scrypt\",\"Scrypt\",\"Scrypt\",\"Scrypt\",\"X11\",\"Scrypt\",\"X11\",\"SHA-256\",\"Scrypt\",\"Scrypt\",\"Scrypt\",\"SHA3\",\"Scrypt\",\"HybridScryptHash256\",\"Scrypt\",\"Scrypt\",\"SHA-256\",\"Scrypt\",\"X13\",\"Scrypt\",\"SHA-256\",\"Scrypt\",\"X13\",\"NeoScrypt\",\"Scrypt\",\"Scrypt\",\"Scrypt\",\"Scrypt\",\"Scrypt\",\"Scrypt\",\"X11\",\"X11\",\"SHA-256\",\"Multiple\",\"SHA-256\",\"PHI1612\",\"X11\",\"SHA-256\",\"SHA-256\",\"SHA-256\",\"X11\",\"Scrypt\",\"Scrypt\",\"Scrypt\",\"Scrypt\",\"Lyra2REv2\",\"Scrypt\",\"X11\",\"Multiple\",\"SHA-256\",\"X13\",\"Scrypt\",\"CryptoNight\",\"CryptoNight\",\"Shabal256\",\"Counterparty\",\"Scrypt\",\"SHA-256\",\"Groestl\",\"Scrypt\",\"Scrypt\",\"Scrypt\",\"X13\",\"Scrypt\",\"Scrypt\",\"Scrypt\",\"Scrypt\",\"X13\",\"Scrypt\",\"Stanford Folding\",\"X11\",\"Multiple\",\"QuBit\",\"Scrypt\",\"Scrypt\",\"Scrypt\",\"M7 POW\",\"Scrypt\",\"SHA-256\",\"Scrypt\",\"X11\",\"SHA3\",\"X11\",\"Lyra2RE\",\"SHA-256\",\"QUAIT\",\"X11\",\"X11\",\"Scrypt\",\"Scrypt\",\"Scrypt\",\"Ethash\",\"X13\",\"Blake2b\",\"SHA-256\",\"X15\",\"X11\",\"SHA-256\",\"BLAKE256\",\"Scrypt\",\"1GB AES Pattern Search\",\"SHA-256\",\"X11\",\"Scrypt\",\"SHA-256\",\"SHA-256\",\"NIST5\",\"Scrypt\",\"Scrypt\",\"X11\",\"Dagger\",\"Scrypt\",\"X11GOST\",\"X11\",\"Scrypt\",\"SHA-256\",\"Scrypt\",\"PoS\",\"Scrypt\",\"X11\",\"X11\",\"SHA-256\",\"SHA-256\",\"NIST5\",\"X11\",\"Scrypt\",\"POS 3.0\",\"Scrypt\",\"Scrypt\",\"Scrypt\",\"X13\",\"X11\",\"X11\",\"Equihash\",\"X11\",\"Scrypt\",\"CryptoNight\",\"SHA-256\",\"SHA-256\",\"X11\",\"Scrypt\",\"Multiple\",\"Scrypt\",\"Scrypt\",\"Scrypt\",\"SHA-256\",\"Scrypt\",\"Scrypt\",\"SHA-256D\",\"PoS\",\"Scrypt\",\"X11\",\"Lyra2Z\",\"PoS\",\"X13\",\"X14\",\"PoS\",\"SHA-256D\",\"Ethash\",\"Equihash\",\"DPoS\",\"X11\",\"Scrypt\",\"X11\",\"X13\",\"X11\",\"PoS\",\"Scrypt\",\"Scrypt\",\"X11\",\"PoS\",\"X11\",\"SHA-256\",\"Scrypt\",\"X11\",\"Scrypt\",\"Scrypt\",\"X11\",\"CryptoNight\",\"Scrypt\",\"Scrypt\",\"Scrypt\",\"Scrypt\",\"Quark\",\"QuBit\",\"Scrypt\",\"CryptoNight\",\"Lyra2RE\",\"Scrypt\",\"SHA-256\",\"X11\",\"Scrypt\",\"X11\",\"Scrypt\",\"CryptoNight-V7\",\"Scrypt\",\"Scrypt\",\"Scrypt\",\"X13\",\"X11\",\"Equihash\",\"Scrypt\",\"Scrypt\",\"Lyra2RE\",\"Scrypt\",\"Dagger-Hashimoto\",\"X11\",\"Blake2S\",\"X11\",\"Scrypt\",\"PoS\",\"X11\",\"NIST5\",\"PoS\",\"X11\",\"Scrypt\",\"Scrypt\",\"Scrypt\",\"SHA-256\",\"X11\",\"Scrypt\",\"Scrypt\",\"SHA-256\",\"PoS\",\"Scrypt\",\"X15\",\"SHA-256\",\"Scrypt\",\"POS 3.0\",\"CryptoNight-V7\",\"536\",\"Argon2d\",\"Blake2b\",\"Cloverhash\",\"CryptoNight\",\"NIST5\",\"X11\",\"NIST5\",\"Skein\",\"Scrypt\",\"X13\",\"Scrypt\",\"X11\",\"X11\",\"Scrypt\",\"CryptoNight\",\"X13\",\"Time Travel\",\"Scrypt\",\"Keccak\",\"SkunkHash v2 Raptor\",\"X11\",\"Skein\",\"SHA-256\",\"X11\",\"Scrypt\",\"VeChainThor Authority\",\"Scrypt\",\"PoS\",\"Scrypt\",\"Scrypt\",\"Scrypt\",\"Scrypt\",\"Scrypt\",\"Scrypt\",\"Scrypt\",\"CryptoNight\",\"SHA-512\",\"Ouroboros\",\"X11\",\"Equihash\",\"NeoScrypt\",\"X11\",\"Scrypt\",\"NeoScrypt\",\"Lyra2REv2\",\"Equihash\",\"Scrypt\",\"SHA-256\",\"NIST5\",\"PHI1612\",\"Dagger\",\"Scrypt\",\"Quark\",\"Scrypt\",\"POS 2.0\",\"Scrypt\",\"SHA-256\",\"X11\",\"NeoScrypt\",\"Ethash\",\"NeoScrypt\",\"X11\",\"DPoS\",\"NIST5\",\"X13\",\"Multiple\",\"Scrypt\",\"CryptoNight\",\"CryptoNight\",\"Ethash\",\"NIST5\",\"Quark\",\"X11\",\"CryptoNight-V7\",\"Scrypt\",\"Scrypt\",\"Scrypt\",\"X11\",\"BLAKE256\",\"X11\",\"NeoScrypt\",\"Quark\",\"NeoScrypt\",\"Scrypt\",\"Scrypt\",\"Scrypt\",\"X11\",\"X11\",\"SHA-256\",\"C11\",\"POS 3.0\",\"Ethash\",\"Scrypt\",\"CryptoNight\",\"SkunkHash\",\"Scrypt\",\"CryptoNight\",\"Scrypt\",\"Dagger\",\"Lyra2REv2\",\"X13\",\"Proof-of-BibleHash\",\"SHA-256 + Hive\",\"Scrypt\",\"Scrypt\",\"X11\",\"C11\",\"Proof-of-Authority\",\"X11\",\"XEVAN\",\"Scrypt\",\"VBFT\",\"Ethash\",\"CryptoNight\",\"Scrypt\",\"IMesh\",\"NIST5\",\"Scrypt\",\"Scrypt\",\"Equihash\",\"Scrypt\",\"Lyra2Z\",\"Green Protocol\",\"PoS\",\"Scrypt\",\"Semux BFT consensus\",\"X11\",\"Quark\",\"PoS\",\"CryptoNight\",\"X16R\",\"Scrypt\",\"NIST5\",\"Lyra2RE\",\"XEVAN\",\"Tribus\",\"Scrypt\",\"Lyra2Z\",\"CryptoNight\",\"CryptoNight Heavy\",\"CryptoNight\",\"Scrypt\",\"Scrypt\",\"Jump Consistent Hash\",\"SHA-256D\",\"CryptoNight\",\"Scrypt\",\"X15\",\"Scrypt\",\"Quark\",\"SHA-256\",\"DPoS\",\"X16R\",\"HMQ1725\",\"X11\",\"X16R\",\"Quark\",\"Quark\",\"Scrypt\",\"Lyra2REv2\",\"Quark\",\"Scrypt\",\"Scrypt\",\"CryptoNight-V7\",\"Cryptonight-GPU\",\"XEVAN\",\"CryptoNight Heavy\",\"X11\",\"X11\",\"Scrypt\",\"PoS\",\"SHA-256\",\"Keccak\",\"X11\",\"X11\",\"Scrypt\",\"SHA-512\",\"X16R\",\"ECC 256K1\",\"Equihash\",\"XEVAN\",\"Lyra2Z\",\"SHA-256\",\"XEVAN\",\"X11\",\"CryptoNight\",\"Quark\",\"Blake\",\"Blake\",\"Equihash\",\"Exosis\",\"Scrypt\",\"Scrypt\",\"Equihash\",\"Quark\",\"Equihash\",\"Quark\",\"Scrypt\",\"QuBit\",\"X11\",\"Scrypt\",\"XEVAN\",\"SHA-256D\",\"X11\",\"SHA-256\",\"X13\",\"SHA-256\",\"X11\",\"DPoS\",\"Scrypt\",\"Scrypt\",\"X11\",\"NeoScrypt\",\"Scrypt\",\"Blake\",\"Scrypt\",\"SHA-256\",\"Scrypt\",\"X11\",\"Scrypt\",\"Scrypt\",\"SHA-256\",\"X11\",\"SHA-256\",\"Scrypt\",\"Scrypt\",\"Scrypt\",\"Groestl\",\"X11\",\"Scrypt\",\"PoS\",\"Scrypt\",\"Scrypt\",\"X11\",\"SHA-256\",\"DPoS\",\"Scrypt\",\"Scrypt\",\"NeoScrypt\",\"Multiple\",\"X13\",\"Equihash+Scrypt\",\"DPoS\",\"Ethash\",\"DPoS\",\"SHA-256\",\"Leased POS\",\"PoS\",\"TRC10\",\"PoS\",\"SHA-256\",\"Scrypt\",\"CryptoNight\",\"Equihash\",\"Scrypt\"],\"Class\":{\"__ndarray__\":\"AAAAAAAAAAAAAAAAAQAAAAEAAAABAAAAAAAAAAEAAAABAAAAAQAAAAAAAAABAAAAAAAAAAAAAAABAAAAAAAAAAEAAAABAAAAAAAAAAAAAAABAAAAAQAAAAEAAAABAAAAAQAAAAAAAAABAAAAAQAAAAEAAAAAAAAAAQAAAAAAAAABAAAAAQAAAAAAAAAAAAAAAQAAAAEAAAABAAAAAQAAAAEAAAABAAAAAAAAAAAAAAABAAAAAQAAAAEAAAABAAAAAQAAAAAAAAAAAAAAAQAAAAAAAAABAAAAAQAAAAEAAAABAAAAAAAAAAEAAAABAAAAAAAAAAEAAAAAAAAAAAAAAAAAAAABAAAAAQAAAAEAAAAAAAAAAAAAAAAAAAAAAAAAAAAAAAEAAAABAAAAAQAAAAAAAAAAAAAAAQAAAAAAAAABAAAAAAAAAAAAAAABAAAAAQAAAAEAAAABAAAAAAAAAAAAAAABAAAAAAAAAAEAAAABAAAAAAAAAAAAAAABAAAAAAAAAAAAAAABAAAAAQAAAAAAAAAAAAAAAQAAAAAAAAAAAAAAAQAAAAAAAAABAAAAAAAAAAEAAAAAAAAAAQAAAAAAAAAAAAAAAQAAAAEAAAAAAAAAAQAAAAEAAAABAAAAAAAAAAEAAAABAAAAAQAAAAEAAAABAAAAAAAAAAAAAAABAAAAAQAAAAEAAAAAAAAAAQAAAAAAAAABAAAAAQAAAAAAAAABAAAAAAAAAAEAAAAAAAAAAAAAAAEAAAABAAAAAAAAAAEAAAABAAAAAAAAAAAAAAABAAAAAAAAAAEAAAAAAAAAAAAAAAAAAAABAAAAAQAAAAEAAAABAAAAAAAAAAAAAAAAAAAAAAAAAAAAAAABAAAAAQAAAAAAAAAAAAAAAAAAAAAAAAAAAAAAAQAAAAAAAAAAAAAAAAAAAAAAAAAAAAAAAQAAAAAAAAABAAAAAAAAAAAAAAABAAAAAAAAAAEAAAAAAAAAAAAAAAEAAAAAAAAAAQAAAAAAAAABAAAAAAAAAAEAAAAAAAAAAAAAAAAAAAAAAAAAAQAAAAAAAAAAAAAAAAAAAAAAAAAAAAAAAQAAAAEAAAAAAAAAAAAAAAEAAAABAAAAAAAAAAAAAAAAAAAAAAAAAAAAAAABAAAAAAAAAAAAAAAAAAAAAAAAAAAAAAAAAAAAAAAAAAAAAAABAAAAAAAAAAAAAAAAAAAAAAAAAAAAAAAAAAAAAQAAAAEAAAABAAAAAAAAAAAAAAAAAAAAAAAAAAEAAAAAAAAAAQAAAAAAAAAAAAAAAQAAAAAAAAABAAAAAQAAAAAAAAABAAAAAQAAAAAAAAABAAAAAAAAAAAAAAAAAAAAAQAAAAAAAAAAAAAAAQAAAAAAAAAAAAAAAAAAAAAAAAAAAAAAAAAAAAAAAAABAAAAAAAAAAEAAAAAAAAAAAAAAAAAAAAAAAAAAQAAAAAAAAABAAAAAAAAAAEAAAABAAAAAQAAAAEAAAAAAAAAAQAAAAAAAAAAAAAAAQAAAAAAAAABAAAAAQAAAAEAAAAAAAAAAQAAAAAAAAABAAAAAQAAAAEAAAAAAAAAAQAAAAAAAAABAAAAAAAAAAAAAAADAAAAAQAAAAAAAAABAAAAAQAAAAEAAAABAAAAAQAAAAAAAAAAAAAAAQAAAAAAAAAAAAAAAAAAAAEAAAAAAAAAAQAAAAAAAAABAAAAAAAAAAEAAAAAAAAAAAAAAAAAAAAAAAAAAQAAAAAAAAAAAAAAAQAAAAAAAAAAAAAAAAAAAAEAAAABAAAAAQAAAAEAAAAAAAAAAAAAAAAAAAAAAAAAAQAAAAAAAAABAAAAAQAAAAEAAAAAAAAAAAAAAAEAAAABAAAAAAAAAAAAAAABAAAAAAAAAAEAAAABAAAAAQAAAAAAAAABAAAAAQAAAAAAAAAAAAAAAAAAAAEAAAABAAAAAQAAAAAAAAAAAAAAAAAAAAEAAAABAAAAAAAAAAEAAAABAAAAAQAAAAEAAAAAAAAAAwAAAAMAAAABAAAAAQAAAAEAAAAAAAAAAwAAAAAAAAAAAAAAAAAAAAAAAAABAAAAAQAAAAEAAAABAAAAAAAAAAAAAAAAAAAAAQAAAAAAAAABAAAAAAAAAAAAAAAAAAAAAAAAAAEAAAAAAAAAAAAAAAEAAAAAAAAAAAAAAAEAAAABAAAAAAAAAAEAAAAAAAAAAQAAAAEAAAABAAAAAQAAAAAAAAAAAAAAAQAAAAAAAAABAAAAAAAAAAAAAAAAAAAAAAAAAAAAAAAAAAAAAQAAAAEAAAABAAAAAAAAAAAAAAAAAAAAAAAAAAAAAAAAAAAAAQAAAAAAAAABAAAAAQAAAAEAAAABAAAAAAAAAAAAAAAAAAAAAAAAAAEAAAAAAAAAAAAAAAEAAAAAAAAAAAAAAAEAAAADAAAAAQAAAAAAAAABAAAAAQAAAAAAAAAAAAAAAQAAAAAAAAABAAAAAQAAAAAAAAABAAAAAQAAAAAAAAABAAAAAAAAAAEAAAAAAAAAAAAAAAEAAAAAAAAAAAAAAAAAAAAAAAAAAAAAAAEAAAABAAAAAQAAAAAAAAAAAAAAAAAAAAEAAAAAAAAAAQAAAAAAAAABAAAAAAAAAAAAAAAAAAAAAAAAAAEAAAAAAAAAAAAAAAAAAAABAAAAAAAAAAEAAAAAAAAAAQAAAAAAAAAAAAAAAAAAAAEAAAABAAAAAAAAAAAAAAAAAAAAAAAAAAAAAAAAAAAAAQAAAAAAAAABAAAAAAAAAAEAAAAAAAAAAAAAAAMAAAAAAAAAAgAAAAAAAAAAAAAAAAAAAAEAAAABAAAAAAAAAA==\",\"dtype\":\"int32\",\"order\":\"little\",\"shape\":[532]},\"CoinName\":[\"42 Coin\",\"404Coin\",\"EliteCoin\",\"Bitcoin\",\"Ethereum\",\"Litecoin\",\"Dash\",\"Monero\",\"Ethereum Classic\",\"ZCash\",\"Bitshares\",\"DigiByte\",\"BitcoinDark\",\"PayCoin\",\"ProsperCoin\",\"KoboCoin\",\"Spreadcoin\",\"Argentum\",\"Aurora Coin\",\"BlueCoin\",\"MyriadCoin\",\"MoonCoin\",\"ZetaCoin\",\"SexCoin\",\"Quatloo\",\"EnergyCoin\",\"QuarkCoin\",\"Riecoin\",\"Digitalcoin \",\"BitBar\",\"Catcoin\",\"CryptoBullion\",\"CannaCoin\",\"CryptCoin\",\"CasinoCoin\",\"Diamond\",\"Verge\",\"DevCoin\",\"EarthCoin\",\"E-Gulden\",\"Einsteinium\",\"Emerald\",\"Exclusive Coin\",\"FlutterCoin\",\"Franko\",\"FeatherCoin\",\"GrandCoin\",\"GlobalCoin\",\"GoldCoin\",\"HoboNickels\",\"HyperStake\",\"Infinite Coin\",\"IOCoin\",\"IXcoin\",\"KrugerCoin\",\"LuckyCoin\",\"Litebar \",\"MaxCoin\",\"MegaCoin\",\"MediterraneanCoin\",\"MintCoin\",\"MinCoin\",\"MazaCoin\",\"Nautilus Coin\",\"NavCoin\",\"NobleCoin\",\"Namecoin\",\"NyanCoin\",\"OpalCoin\",\"Orbitcoin\",\"PotCoin\",\"PhoenixCoin\",\"Reddcoin\",\"RonPaulCoin\",\"StableCoin\",\"SmartCoin\",\"SuperCoin\",\"SyncCoin\",\"SysCoin\",\"TeslaCoin\",\"TigerCoin\",\"TittieCoin\",\"TorCoin\",\"TerraCoin\",\"UnbreakableCoin\",\"Unobtanium\",\"UroCoin\",\"UnitaryStatus Dollar\",\"UltraCoin\",\"ViaCoin\",\"VeriCoin\",\"Vertcoin\",\"WorldCoin\",\"X11 Coin\",\"Crypti\",\"JouleCoin\",\"StealthCoin\",\"ZCC Coin\",\"ByteCoin\",\"DigitalNote \",\"BurstCoin\",\"StorjCoin\",\"MonaCoin\",\"Neutron\",\"FairCoin\",\"Gulden\",\"RubyCoin\",\"PesetaCoin\",\"Kore\",\"Wild Beast Coin\",\"Dnotes\",\"Flo\",\"8BIT Coin\",\"Sativa Coin\",\"ArtByte\",\"Folding Coin\",\"Ucoin\",\"Unitus\",\"CypherPunkCoin\",\"OmniCron\",\"Vtorrent\",\"GreenCoin\",\"Cryptonite\",\"MasterCoin\",\"SoonCoin\",\"1Credit\",\"IslaCoin\",\"Nexus\",\"MarsCoin \",\"Crypto\",\"Anarchists Prime\",\"Droidz\",\"BowsCoin\",\"Squall Coin\",\"Song Coin\",\"BitZeny\",\"Diggits\",\"Expanse\",\"Paycon\",\"Siacoin\",\"Emercoin\",\"EverGreenCoin\",\"MindCoin\",\"I0coin\",\"Decred\",\"Revolution VR\",\"HOdlcoin\",\"EDRCoin\",\"Hitcoin\",\"Gamecredits\",\"DubaiCoin\",\"CarpeDiemCoin\",\"PWR Coin\",\"BillaryCoin\",\"GPU Coin\",\"Adzcoin\",\"SoilCoin\",\"YoCoin\",\"SibCoin\",\"EuropeCoin\",\"ZeitCoin\",\"SwingCoin\",\"SafeExchangeCoin\",\"Nebuchadnezzar\",\"Francs\",\"BolivarCoin\",\"Ratecoin\",\"Revenu\",\"Clockcoin\",\"VIP Tokens\",\"BitSend\",\"Omni\",\"Let it Ride\",\"PutinCoin\",\"iBankCoin\",\"Frankywillcoin\",\"MudraCoin\",\"PizzaCoin\",\"Lutetium Coin\",\"Komodo\",\"GoldBlocks\",\"CarterCoin\",\"Karbo\",\"BitTokens\",\"ZayedCoin\",\"MustangCoin\",\"ZoneCoin\",\"Circuits of Value\",\"RootCoin\",\"DopeCoin\",\"BitCurrency\",\"DollarCoin\",\"Swiscoin\",\"Shilling\",\"BuzzCoin\",\"Opair\",\"PesoBit\",\"Halloween Coin\",\"ZCoin\",\"CoffeeCoin\",\"RoyalCoin\",\"GanjaCoin V2\",\"TeamUP\",\"LanaCoin\",\"Elementrem\",\"ZClassic\",\"ARK\",\"InsaneCoin\",\"KiloCoin\",\"ArtexCoin\",\"EmberCoin\",\"XenixCoin\",\"FreeCoin\",\"PLNCoin\",\"AquariusCoin\",\"Kurrent\",\"Creatio\",\"Eternity\",\"Eurocoin\",\"BitcoinFast\",\"Stakenet\",\"BitConnect Coin\",\"MoneyCoin\",\"Enigma\",\"Cannabis Industry Coin\",\"Russiacoin\",\"PandaCoin\",\"GameUnits\",\"GAKHcoin\",\"Allsafe\",\"LiteCreed\",\"OsmiumCoin\",\"Bikercoins\",\"HexxCoin\",\"Klingon Empire Darsek\",\"Internet of People\",\"KushCoin\",\"Printerium\",\"PacCoin\",\"Impeach\",\"Citadel\",\"Zilbercoin\",\"FirstCoin\",\"BeaverCoin\",\"FindCoin\",\"VaultCoin\",\"Zero\",\"OpenChat\",\"Canada eCoin\",\"Zoin\",\"RenosCoin\",\"DubaiCoin\",\"VirtacoinPlus\",\"TajCoin\",\"Impact\",\"EB3coin\",\"Atmos\",\"HappyCoin\",\"Coinonat\",\"MacronCoin\",\"Condensate\",\"Independent Money System\",\"ArgusCoin\",\"LomoCoin\",\"ProCurrency\",\"GoldReserve\",\"BenjiRolls\",\"GrowthCoin\",\"ILCoin\",\"Phreak\",\"Degas Coin\",\"HTML5 Coin\",\"Ultimate Secure Cash\",\"EquiTrader\",\"QTUM\",\"Quantum Resistant Ledger\",\"Espers\",\"Dynamic\",\"Nano\",\"ChanCoin\",\"Dinastycoin\",\"Denarius\",\"DigitalPrice\",\"Virta Unique Coin\",\"Bitcoin Planet\",\"Unify\",\"BritCoin\",\"SocialCoin\",\"ArcticCoin\",\"DAS\",\"Linda\",\"LeviarCoin\",\"DeepOnion\",\"Bitcore\",\"gCn Coin\",\"SmartCash\",\"Signatum\",\"Onix\",\"Cream\",\"Bitcoin Cash\",\"Monoeci\",\"Draftcoin\",\"Vechain\",\"Sojourn Coin\",\"Stakecoin\",\"NewYorkCoin\",\"FrazCoin\",\"Kronecoin\",\"AdCoin\",\"Linx\",\"CoinonatX\",\"Ethereum Dark\",\"Sumokoin\",\"Obsidian\",\"Cardano\",\"Regalcoin\",\"BitcoinZ\",\"TrezarCoin\",\"Elements\",\"TerraNovaCoin\",\"VIVO Coin\",\"Rupee\",\"Bitcoin Gold\",\"WomenCoin\",\"Theresa May Coin\",\"NamoCoin\",\"LUXCoin\",\"Pirl\",\"Xios\",\"Bitcloud 2.0\",\"eBoost\",\"KekCoin\",\"BlackholeCoin\",\"Infinity Economics\",\"Pura\",\"Innova\",\"Ellaism\",\"GoByte\",\"Magnet\",\"Lamden Tau\",\"Electra\",\"Bitcoin Diamond\",\"SHIELD\",\"Cash & Back Coin\",\"UltraNote\",\"BitCoal\",\"DaxxCoin\",\"Bulwark\",\"Kalkulus\",\"AC3\",\"Lethean\",\"GermanCoin\",\"LiteCoin Ultra\",\"PopularCoin\",\"PhantomX\",\"Photon\",\"Sucre\",\"SparksPay\",\"Digiwage\",\"GunCoin\",\"IrishCoin\",\"Trollcoin\",\"Litecoin Plus\",\"Monkey Project\",\"Pioneer Coin\",\"UnitedBitcoin\",\"Interzone\",\"TokenPay\",\"1717 Masonic Commemorative Token\",\"My Big Coin\",\"TurtleCoin\",\"MUNcoin\",\"Unified Society USDEX\",\"Niobio Cash\",\"ShareChain\",\"Travelflex\",\"KREDS\",\"Tokyo Coin\",\"BiblePay\",\"LitecoinCash\",\"BitFlip\",\"LottoCoin\",\"Crypto Improvement Fund\",\"Stipend\",\"Poa Network\",\"Pushi\",\"Ellerium\",\"Velox\",\"Ontology\",\"Callisto Network\",\"BitTube\",\"Poseidon\",\"Aidos Kuneen\",\"Bitspace\",\"Briacoin\",\"Ignition\",\"Bitrolium\",\"MedicCoin\",\"Alpenschillling\",\"Bitcoin Green\",\"Deviant Coin\",\"Abjcoin\",\"Semux\",\"FuturoCoin\",\"Carebit\",\"Zealium\",\"Monero Classic\",\"Proton\",\"iDealCash\",\"Jumpcoin\",\"Infinex\",\"Bitcoin Incognito\",\"KEYCO\",\"HollyWoodCoin\",\"GINcoin\",\"PlatinCoin\",\"Loki\",\"Newton Coin\",\"Swisscoin\",\"Xt3ch\",\"MassGrid\",\"TheVig\",\"PluraCoin\",\"EmaratCoin\",\"Dekado\",\"Lynx\",\"Poseidon Quark\",\"BitcoinWSpectrum\",\"Muse\",\"Motion\",\"PlusOneCoin\",\"Axe\",\"Trivechain\",\"Dystem\",\"Giant\",\"Peony Coin\",\"Absolute Coin\",\"Vitae\",\"HexCoin\",\"TPCash\",\"Webchain\",\"Ryo\",\"Urals Coin\",\"Qwertycoin\",\"ARENON\",\"EUNO\",\"MMOCoin\",\"Ketan\",\"Project Pai\",\"XDNA\",\"PAXEX\",\"Azart\",\"ThunderStake\",\"Kcash\",\"Xchange\",\"Acute Angle Cloud\",\"CrypticCoin\",\"Bettex coin\",\"Actinium\",\"Bitcoin SV\",\"BitMoney\",\"Junson Ming Chan Coin\",\"FREDEnergy\",\"HerbCoin\",\"Universal Molecule\",\"Lithium\",\"PirateCash\",\"Exosis\",\"Block-Logic\",\"Oduwa\",\"Beam\",\"Galilel\",\"Bithereum\",\"Crypto Sports\",\"Credit\",\"SLICE\",\"Dash Platinum\",\"Nasdacoin\",\"Beetle Coin\",\"Titan Coin\",\"Award\",\"BLAST\",\"Bitcoin Rhodium\",\"GlobalToken\",\"Insane Coin\",\"ALAX\",\"LiteDoge\",\"SolarCoin\",\"TruckCoin\",\"UFO Coin\",\"OrangeCoin\",\"BlakeCoin\",\"BitstarCoin\",\"NeosCoin\",\"HyperCoin\",\"PinkCoin\",\"Crypto Escudo\",\"AudioCoin\",\"IncaKoin\",\"Piggy Coin\",\"Crown Coin\",\"Genstake\",\"SmileyCoin\",\"XiaoMiCoin\",\"Groestlcoin\",\"CapriCoin\",\" ClubCoin\",\"Radium\",\"Bata\",\"Pakcoin\",\"Creditbit \",\"OKCash\",\"Lisk\",\"HiCoin\",\"WhiteCoin\",\"FriendshipCoin\",\"JoinCoin\",\"Triangles Coin\",\"Vollar\",\"EOS\",\"Reality Clash\",\"Oxycoin\",\"TigerCash\",\"Waves\",\"Particl\",\"BitTorrent\",\"Nxt\",\"ZEPHYR\",\"Gapcoin\",\"Beldex\",\"Horizen\",\"BitcoinPlus\"],\"ProofType\":[\"PoW/PoS\",\"PoW/PoS\",\"PoW/PoS\",\"PoW\",\"PoW\",\"PoW\",\"PoW/PoS\",\"PoW\",\"PoW\",\"PoW\",\"PoS\",\"PoW\",\"PoW/PoS\",\"PoS\",\"PoW\",\"PoW/PoS\",\"PoW\",\"PoW\",\"PoW/PoS\",\"PoW/PoS\",\"PoW\",\"PoW\",\"PoW\",\"PoW\",\"PoW\",\"PoW/PoS\",\"PoW\",\"PoW\",\"PoW\",\"PoW/PoS\",\"PoW\",\"PoW/PoS\",\"PoW\",\"PoW\",\"PoC\",\"PoW/PoS\",\"PoW\",\"PoW\",\"PoW\",\"PoW\",\"PoW\",\"PoW\",\"PoS\",\"PoS/PoW/PoT\",\"PoW\",\"PoW\",\"PoW\",\"PoW\",\"PoW\",\"PoW/PoS\",\"PoS\",\"PoW\",\"PoW/PoS\",\"PoW\",\"PoW\",\"PoW\",\"PoW\",\"PoW/PoS\",\"PoW\",\"PoW\",\"PoS\",\"PoW\",\"PoW/PoS\",\"PoS\",\"PoW/PoS\",\"PoW\",\"PoW\",\"PoW\",\"PoW/PoS\",\"PoW/PoS\",\"PoW/PoS\",\"PoW/PoS\",\"PoW/PoS\",\"PoW\",\"PoW\",\"PoW\",\"PoS\",\"PoW/PoS\",\"PoW\",\"PoS\",\"PoW\",\"PoS\",\"PoW/PoS\",\"PoW\",\"PoW\",\"PoW\",\"PoW\",\"PoW/PoS\",\"PoW/PoS\",\"PoW\",\"PoST\",\"PoW\",\"PoW\",\"PoW/PoS\",\"PoS\",\"PoW\",\"PoW/PoS\",\"PoW/PoS\",\"PoW\",\"PoW\",\"PoC\",\"PoS\",\"PoW\",\"PoW/PoS\",\"PoW/PoS\",\"PoW\",\"PoS\",\"PoW\",\"PoW/PoS\",\"PoW\",\"PoS\",\"PoW\",\"PoW/PoS\",\"PoW/PoS\",\"PoW\",\"PoW\",\"PoS\",\"PoW\",\"PoW\",\"PoW\",\"PoW/PoS\",\"PoW\",\"PoW\",\"PoW\",\"PoW\",\"PoW\",\"PoW/PoS\",\"PoW/nPoS\",\"PoW\",\"PoW\",\"PoW\",\"PoW/PoS\",\"PoW\",\"PoS/PoW\",\"PoW\",\"PoW\",\"PoS\",\"PoW\",\"PoW/PoS\",\"PoW\",\"PoW/PoS\",\"PoW/PoS\",\"PoW\",\"PoW\",\"PoW/PoS\",\"PoW\",\"PoW\",\"PoW/PoS\",\"PoW/PoS\",\"PoW\",\"PoW/PoS\",\"PoW\",\"PoW/PoS\",\"PoW/PoS\",\"PoS\",\"PoW\",\"PoW\",\"PoW\",\"PoW\",\"PoW/PoS\",\"PoS\",\"PoW/PoS\",\"PoC\",\"PoS\",\"PoW\",\"PoW\",\"PoW/PoS\",\"PoW/PoS\",\"PoW/PoS\",\"PoW/PoS\",\"PoW/PoS\",\"PoW\",\"PoS\",\"PoW/PoS\",\"PoW/PoS\",\"PoW/PoS\",\"PoS\",\"PoW\",\"PoS\",\"dPoW/PoW\",\"PoW/PoS\",\"PoW/PoS\",\"PoW\",\"PoW/PoS\",\"PoW\",\"PoW/PoS\",\"PoW/PoS\",\"PoW\",\"PoW/PoS\",\"PoW\",\"PoS\",\"PoW\",\"PoW/PoW\",\"PoW\",\"PoW/PoS\",\"PoS\",\"PoW/PoS\",\"PoW/PoS\",\"PoW\",\"PoS\",\"PoS\",\"PoW/PoS\",\"PoS\",\"PoW/PoS\",\"PoW\",\"PoW\",\"DPoS\",\"PoW/PoS\",\"PoW\",\"PoW\",\"PoW/PoS\",\"PoW/PoS\",\"PoS\",\"PoW/PoS\",\"PoW/PoS\",\"PoW\",\"PoS\",\"PoW/PoS\",\"PoW/PoS\",\"PoW/PoS\",\"TPoS\",\"PoW/PoS\",\"PoW/PoS\",\"PoW/PoS\",\"PoW\",\"PoW/PoS\",\"PoS\",\"PoW/PoS\",\"PoW/PoS\",\"PoS\",\"PoW/PoS\",\"PoW\",\"PoW\",\"PoW\",\"PoW/PoS\",\"PoW/PoS\",\"PoW/PoS\",\"PoW/PoS\",\"PoW\",\"PoW/PoS\",\"PoW\",\"PoS\",\"PoW/PoS \",\"PoW\",\"PoS\",\"PoW\",\"PoW\",\"PoW/PoS\",\"PoW\",\"PoW\",\"PoS\",\"PoW\",\"PoW/PoS\",\"PoW/PoS\",\"PoW/PoS\",\"PoW\",\"PoS\",\"PoW/PoS\",\"PoW\",\"PoS\",\"PoW/PoS\",\"PoW/PoS\",\"PoW/PoS\",\"PoW/PoS\",\"PoS\",\"PoW/PoS\",\"PoW\",\"PoS\",\"PoW\",\"PoS\",\"PoW/PoS\",\"PoW/PoS\",\"PoS\",\"PoW\",\"PoS\",\"PoW\",\"PoW/PoS\",\"PoW\",\"PoW\",\"PoW\",\"PoW\",\"PoW/PoS\",\"PoW\",\"PoW/PoS\",\"PoW/PoS\",\"PoW\",\"PoW/PoS\",\"PoW\",\"PoW\",\"PoW\",\"PoW/PoS\",\"PoW\",\"PoW/PoS\",\"PoW\",\"PoW\",\"PoW\",\"PoS\",\"PoW\",\"PoW/PoS\",\"PoW\",\"PoW/PoS\",\"PoS\",\"Proof of Authority\",\"PoW\",\"PoS\",\"PoW\",\"PoW\",\"PoW\",\"PoW\",\"PoW\",\"PoW/PoS\",\"PoW/PoS\",\"PoW\",\"PoS\",\"PoS\",\"PoW/PoS\",\"PoW\",\"PoW/PoS\",\"PoW\",\"PoW/PoS\",\"PoW\",\"PoS\",\"PoW\",\"PoW/PoS\",\"PoW/PoS\",\"PoW/PoS\",\"PoW/PoS\",\"PoW\",\"PoW/PoS\",\"PoW/PoS\",\"PoW\",\"PoS\",\"PoW/PoS\",\"PoS\",\"PoW\",\"PoW\",\"PoW\",\"PoW\",\"PoW/PoS\",\"DPoS\",\"PoW/PoS\",\"PoW/PoS\",\"PoW\",\"PoW/PoS\",\"PoW\",\"PoW\",\"PoW\",\"PoS\",\"PoS\",\"PoW\",\"PoW\",\"PoW/PoS\",\"PoW/PoS\",\"PoW\",\"PoW/PoS\",\"PoW\",\"PoW\",\"PoW\",\"PoS\",\"PoW\",\"PoW\",\"PoW/PoS\",\"PoW/PoS\",\"PoS\",\"PoW\",\"PoW\",\"PoW\",\"PoS\",\"PoS\",\"PoW and PoS\",\"PoW\",\"PoW\",\"PoW/PoS\",\"PoW\",\"PoW\",\"PoW\",\"PoW\",\"PoS\",\"POBh\",\"PoW + Hive\",\"PoW\",\"PoW\",\"PoW\",\"PoW/PoS\",\"PoA\",\"PoW/PoS\",\"PoW/PoS\",\"PoS\",\"PoS\",\"PoW\",\"PoW\",\"PoW\",\"PoW\",\"PoW/PoS\",\"PoW/PoS\",\"PoW/PoS\",\"PoW\",\"PoS\",\"PoW\",\"PoS\",\"PoS\",\"PoW/PoS\",\"DPoS\",\"PoW\",\"PoW/PoS\",\"PoS\",\"PoW\",\"PoS\",\"PoW/PoS\",\"PoW\",\"PoW\",\"PoS/PoW\",\"PoW\",\"PoS\",\"PoW\",\"PoW\",\"PoW\",\"PoW\",\"PoW/PoS\",\"PoS\",\"PoW\",\"PoW/PoS\",\"PoW\",\"PoW/PoS\",\"PoS\",\"HPoW\",\"PoS\",\"PoS\",\"PoS\",\"PoW\",\"PoW\",\"PoW\",\"PoW/PoS\",\"PoS\",\"PoW/PoS\",\"PoS\",\"PoW/PoS\",\"PoS\",\"PoW\",\"PoW/PoS\",\"PoW\",\"PoW\",\"PoW\",\"PoW\",\"PoS\",\"PoW/PoS\",\"PoS\",\"PoS\",\"PoW\",\"PoW/PoS\",\"PoS\",\"PoW\",\"PoW/PoS\",\"Zero-Knowledge Proof\",\"PoW\",\"DPOS\",\"PoW\",\"PoS\",\"PoW\",\"PoW\",\"Pos\",\"PoS\",\"PoW\",\"PoW/PoS\",\"PoW\",\"PoW\",\"PoS\",\"PoW\",\"PoW\",\"PoW/PoS\",\"PoW\",\"PoW/PoS\",\"PoW\",\"PoS\",\"PoW/PoS\",\"PoW\",\"PoS\",\"PoW/PoS\",\"PoW/PoS\",\"PoW/PoS\",\"PoW/PoS\",\"PoW\",\"PoW\",\"PoW\",\"PoW/PoS\",\"DPoS\",\"PoW/PoS\",\"PoW\",\"PoW/PoS\",\"PoW\",\"PoW/PoS\",\"PoW\",\"PoW/PoS\",\"PoS\",\"PoW/PoS\",\"PoW/PoS\",\"PoW\",\"PoW/PoS\",\"PoW/PoS\",\"PoW/PoS\",\"PoW\",\"PoW/PoS\",\"PoW\",\"PoW/PoS\",\"PoW\",\"PoW/PoS\",\"PoW/PoS\",\"PoS\",\"PoW\",\"PoW\",\"Proof of Trust\",\"PoW/PoS\",\"DPoS\",\"PoS\",\"PoW/PoS\",\"PoW/PoS\",\"PoW\",\"PoW/PoS\",\"PoW\",\"DPoS\",\"PoW\",\"DPoS\",\"PoS\",\"LPoS\",\"PoS\",\"DPoS\",\"PoS/LPoS\",\"DPoS\",\"PoW/PoS\",\"PoW\",\"PoW\",\"PoS\"],\"TotalCoinSupply\":[\"42\",\"532000000\",\"314159265359\",\"21000000\",\"0\",\"84000000\",\"22000000\",\"0\",\"210000000\",\"21000000\",\"3600570502\",\"21000000000\",\"22000000\",\"12500000\",\"21000000\",\"350000000\",\"20000000\",\"64000000\",\"16768584\",\"0\",\"2000000000\",\"384000000000\",\"169795588\",\"250000000\",\"100000000\",\"0\",\"247000000\",\"84000000\",\"48166000\",\"500000\",\"21000000 \",\"1000000\",\"13140000\",\"18000000\",\"40000000000\",\"4380000\",\"16555000000\",\"21000000000\",\"13500000000\",\"21000000 \",\"299792458\",\"32000000\",\"0\",\"0\",\"11235813\",\"336000000\",\"1420609614\",\"70000000\",\"72245700\",\"120000000\",\"0\",\"90600000000\",\"22000000\",\"21000000\",\"265420800\",\"20000000\",\"1350000\",\"100000000\",\"42000000\",\"200000000\",\"0\",\"10000000\",\"2419200000\",\"16180000\",\"0\",\"15000000000\",\"21000000\",\"337000000\",\"0\",\"3770000\",\"420000000\",\"98000000\",\"0\",\"21000000\",\"250000000\",\"51200000\",\"0\",\"1000\",\"888000000\",\"100000000\",\"47011968\",\"2300000000\",\"10000000\",\"42000000\",\"80000000\",\"250000\",\"0\",\"1600000000\",\"100000000\",\"23000000\",\"0\",\"84000000\",\"265420800\",\"5500000\",\"0\",\"45000000\",\"0\",\"1000000000\",\"184467440735\",\"10000000000\",\"2158812800\",\"500000000\",\"105120000\",\"68000000\",\"0\",\"1680000000\",\"0\",\"166386000\",\"12000000\",\"2628000\",\"500000000\",\"160000000\",\"0\",\"10000000\",\"1000000000\",\"1000000000\",\"20000000\",\"0\",\"0\",\"3371337\",\"20000000\",\"10000000000\",\"1840000000\",\"619478\",\"21000000\",\"92000000000\",\"0\",\"78000000\",\"33000000\",\"65789100\",\"53760000\",\"5060000\",\"21000000\",\"0\",\"210240000\",\"250000000\",\"100000000\",\"16906397\",\"50000000\",\"0\",\"1000000000\",\"26298000\",\"16000000\",\"21000000\",\"21000000\",\"210000000\",\"81962100\",\"22000000\",\"26550000000\",\"84000000\",\"10500000\",\"21626280000 \",\"0\",\"42000000\",\"221052632\",\"84000000\",\"30000000\",\"168351300\",\"24000000\",\"384000000\",\" 99000000000\",\"40000000\",\"2147483647\",\"20000000\",\"20000000\",\"25000000\",\"75000000\",\"222725000\",\"525000000\",\"90000000\",\"139000000\",\"616448\",\"33500000\",\"2000000000\",\"44333333\",\"100000000\",\"200000000\",\"25000000\",\"657000000\",\"200000000\",\"50000000\",\"90000000\",\"10000000\",\"21000000\",\"9736000\",\"3000000\",\"21000000\",\"1200000000\",\"0\",\"200000000\",\"0\",\"10638298\",\"3100000000\",\"30000000\",\"20000000000\",\"74000000\",\"0\",\"1500000000\",\"21400000\",\"39999898\",\"2500124\",\"100000000\",\"301000000\",\"7506000000\",\"26205539\",\"21000000\",\"125000000\",\"30000000\",\"10000000000\",\"500000000\",\"850000000\",\"3853326.77707314\",\"50000000\",\"38540000 \",\"42000000\",\"228000000\",\"20000000\",\"60000000\",\"20000000\",\"33000000\",\"76500000\",\"28000000\",\"650659833\",\"5000000\",\"21000000\",\"144000000\",\"32514916898\",\"13000000\",\"3315789\",\"15000000\",\"78835200\",\"2714286\",\"25000000\",\"9999999\",\"500000000\",\"21000000\",\"9354000\",\"20000000\",\"100000000000\",\"21933333\",\"185000000\",\"55000000\",\"110000000\",\"3360000\",\"14524851.4827\",\"1000000000\",\"17000000\",\"1000000000\",\"100000000 \",\"21000000\",\"34426423\",\"2232901\",\"100000000\",\"36900000\",\"110000000\",\"4000000000\",\"110290030\",\"100000000\",\"48252000\",\"400000000\",\"500000000\",\"21212121\",\"28600000\",\"1000000000\",\"75000000000\",\"40000000\",\"35520400\",\"2000000000\",\"2500000000\",\"30000000\",\"105000000\",\"90000000000\",\"200084200\",\"72000000\",\"100000000\",\"105000000\",\"50000000000\",\"0\",\"340282367\",\"30000000\",\"2000000000\",\"10000000\",\"100000000\",\"120000000\",\"100000000\",\"19276800\",\"30000000\",\" 75000000\",\"60000000\",\"18900000\",\"50000000000\",\"54000000\",\"18898187.6216583\",\"21000000\",\"200000000000\",\"5000000000\",\"137500000\",\"1100000000\",\"100000000\",\"21000000\",\"9507271\",\"17405891.19707116\",\"86712634466\",\"10500000000\",\"61599965\",\"0\",\"20000000\",\"84000000\",\"100000000\",\"100000000\",\"48252000\",\"4200000\",\"88888888\",\"91388946\",\"45000000000\",\"27000000\",\"21000000000\",\"400000000\",\"1800000000\",\"15733333\",\"27000000\",\"24000000\",\"21000000\",\"25000000000\",\"100000000\",\"1200000000\",\"60000000\",\"156306732.71\",\"21000000\",\"200000000\",\"100000000\",\"21000000\",\"14788275.991\",\"9000000000\",\"350000000\",\"45000000\",\"280000000\",\"31800000\",\"144000000\",\"500000000\",\"30000000000\",\"210000000\",\"660000000\",\"210000000\",\"85000000000\",\"12500000\",\"10000000000\",\"27716121\",\"20000000\",\"550000000\",\"999481516\",\"50000000000\",\"150000000\",\"4999999999\",\"50000000\",\" 90000000000\",\"19800000\",\"21000000\",\"120000000\",\"500000000\",\"64000000\",\"900000000\",\"4000000\",\"21000000\",\"23000000\",\"20166000\",\"23000000\",\"25000000\",\"1618033\",\"30000000\",\"1000000000000\",\"16600000\",\"232000000\",\"336000000\",\"10000000000\",\"100000000\",\"1100000000\",\"800000000\",\"5200000000\",\"840000000\",\"40000000\",\"18406979840\",\"500000000\",\"19340594\",\"252460800\",\"25000000\",\"60000000\",\"124000000\",\"1000000000\",\"6500000000\",\"1000000000\",\"21000000\",\"25000000\",\"50000000\",\"3000000\",\"5000000\",\"70000000\",\"500000000\",\"300000000\",\"21000000\",\"88000000\",\"30000000\",\"100000000\",\"100000000\",\"200000000\",\"80000000\",\"18400000\",\"45000000\",\"5121951220\",\"21000000\",\"26280000\",\"21000000\",\"18000000\",\"26000000\",\"10500000\",\"600000518\",\"150000000\",\"184000000000\",\"10200000000\",\"44000000\",\"168000000\",\"100000000\",\"1000000000\",\"84000000\",\"90000000\",\"92000000000\",\"650000000 \",\"100262205\",\"18081806 \",\"22075700\",\"21000000\",\"21000000\",\"82546564\",\"21000000\",\"5151000\",\"16880000000\",\"52500000\",\"100000000\",\"22105263\",\"1000000000\",\"1750000000\",\"88188888\",\"210000000\",\"184470000000\",\"55000000\",\"50000000\",\"260000000\",\"210000000\",\"2100000000\",\"366000000\",\"100000000\",\"25000000\",\"18000000000\",\"1000000000\",\"100000000\",\"1000000000\",\"7600000000\",\"50000000\",\"84000000\",\"21000000\",\"70000000000\",\"0\",\"8080000000\",\"54000000\",\"105120001.44\",\"25228800\",\"105000000\",\"21000000\",\"120000000\",\"21000000\",\"262800000\",\"19035999\",\"30886000\",\"13370000\",\"74800000000\",\"100000000\",\"19700000\",\"84000000\",\"500000000\",\"5000000000\",\"420000000\",\"64000000\",\"2100000\",\"168000000\",\"30000000\",\"1000000000\",\"35000000000\",\"98100000000\",\"0\",\"4000000000\",\"200000000\",\"7000000000\",\"54256119\",\"21000000\",\"0\",\"500000000\",\"1000000000\",\"10500000000\",\"190000000\",\"1000000000\",\"42000000\",\"15000000\",\"50000000000\",\"400000000\",\"105000000\",\"208000000\",\"160000000\",\"9000000\",\"5000000\",\"182000000\",\"16504333\",\"105000000\",\"159918400\",\"10008835635\",\"300000000\",\"60168145\",\"2800000\",\"120000\",\"2100000000\",\"0\",\"24487944\",\"0\",\"1000000000\",\"100000000\",\"8634140\",\"990000000000\",\"1000000000\",\"2000000000\",\"250000000\",\"1400222610\",\"21000000\",\"1000000\"],\"TotalCoinsMined\":{\"__ndarray__\":\"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\",\"dtype\":\"float64\",\"order\":\"little\",\"shape\":[532]},\"principal_component_1\":{\"__ndarray__\":\"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\",\"dtype\":\"float64\",\"order\":\"little\",\"shape\":[532]},\"principal_component_2\":{\"__ndarray__\":\"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\",\"dtype\":\"float64\",\"order\":\"little\",\"shape\":[532]},\"principal_component_3\":{\"__ndarray__\":\"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\",\"dtype\":\"float64\",\"order\":\"little\",\"shape\":[532]}},\"selected\":{\"id\":\"1309\"},\"selection_policy\":{\"id\":\"1358\"}},\"id\":\"1308\",\"type\":\"ColumnDataSource\"},{\"attributes\":{\"children\":[{\"id\":\"1307\"},{\"id\":\"1355\"},{\"id\":\"1362\"}],\"margin\":[0,0,0,0],\"name\":\"Row02092\",\"tags\":[\"embedded\"]},\"id\":\"1306\",\"type\":\"Row\"},{\"attributes\":{},\"id\":\"1310\",\"type\":\"StringFormatter\"},{\"attributes\":{\"format\":\"0,0.0[00000]\"},\"id\":\"1335\",\"type\":\"NumberFormatter\"},{\"attributes\":{},\"id\":\"1325\",\"type\":\"StringFormatter\"},{\"attributes\":{},\"id\":\"1351\",\"type\":\"IntEditor\"},{\"attributes\":{\"editor\":{\"id\":\"1351\"},\"field\":\"Class\",\"formatter\":{\"id\":\"1350\"},\"title\":\"Class\"},\"id\":\"1352\",\"type\":\"TableColumn\"},{\"attributes\":{},\"id\":\"1326\",\"type\":\"StringEditor\"},{\"attributes\":{\"editor\":{\"id\":\"1326\"},\"field\":\"TotalCoinSupply\",\"formatter\":{\"id\":\"1325\"},\"title\":\"TotalCoinSupply\"},\"id\":\"1327\",\"type\":\"TableColumn\"},{\"attributes\":{\"source\":{\"id\":\"1308\"}},\"id\":\"1357\",\"type\":\"CDSView\"},{\"attributes\":{\"format\":\"0,0.0[00000]\"},\"id\":\"1330\",\"type\":\"NumberFormatter\"},{\"attributes\":{\"margin\":[5,5,5,5],\"name\":\"HSpacer02096\",\"sizing_mode\":\"stretch_width\"},\"id\":\"1307\",\"type\":\"Spacer\"},{\"attributes\":{},\"id\":\"1331\",\"type\":\"NumberEditor\"},{\"attributes\":{\"format\":\"0,0.0[00000]\"},\"id\":\"1340\",\"type\":\"NumberFormatter\"},{\"attributes\":{},\"id\":\"1309\",\"type\":\"Selection\"},{\"attributes\":{\"columns\":[{\"id\":\"1312\"},{\"id\":\"1317\"},{\"id\":\"1322\"},{\"id\":\"1327\"},{\"id\":\"1332\"},{\"id\":\"1337\"},{\"id\":\"1342\"},{\"id\":\"1347\"},{\"id\":\"1352\"}],\"height\":300,\"reorderable\":false,\"source\":{\"id\":\"1308\"},\"view\":{\"id\":\"1357\"},\"width\":700},\"id\":\"1355\",\"type\":\"DataTable\"},{\"attributes\":{\"editor\":{\"id\":\"1331\"},\"field\":\"principal_component_1\",\"formatter\":{\"id\":\"1330\"},\"title\":\"principal component 1\"},\"id\":\"1332\",\"type\":\"TableColumn\"},{\"attributes\":{\"editor\":{\"id\":\"1336\"},\"field\":\"principal_component_2\",\"formatter\":{\"id\":\"1335\"},\"title\":\"principal component 2\"},\"id\":\"1337\",\"type\":\"TableColumn\"},{\"attributes\":{},\"id\":\"1311\",\"type\":\"StringEditor\"},{\"attributes\":{\"margin\":[5,5,5,5],\"name\":\"HSpacer02097\",\"sizing_mode\":\"stretch_width\"},\"id\":\"1362\",\"type\":\"Spacer\"},{\"attributes\":{},\"id\":\"1336\",\"type\":\"NumberEditor\"},{\"attributes\":{\"editor\":{\"id\":\"1311\"},\"field\":\"Algorithm\",\"formatter\":{\"id\":\"1310\"},\"title\":\"Algorithm\"},\"id\":\"1312\",\"type\":\"TableColumn\"},{\"attributes\":{},\"id\":\"1315\",\"type\":\"StringFormatter\"},{\"attributes\":{},\"id\":\"1341\",\"type\":\"NumberEditor\"},{\"attributes\":{},\"id\":\"1316\",\"type\":\"StringEditor\"},{\"attributes\":{\"editor\":{\"id\":\"1316\"},\"field\":\"ProofType\",\"formatter\":{\"id\":\"1315\"},\"title\":\"ProofType\"},\"id\":\"1317\",\"type\":\"TableColumn\"},{\"attributes\":{},\"id\":\"1358\",\"type\":\"UnionRenderers\"},{\"attributes\":{\"format\":\"0,0.0[00000]\"},\"id\":\"1320\",\"type\":\"NumberFormatter\"},{\"attributes\":{},\"id\":\"1345\",\"type\":\"StringFormatter\"},{\"attributes\":{\"editor\":{\"id\":\"1341\"},\"field\":\"principal_component_3\",\"formatter\":{\"id\":\"1340\"},\"title\":\"principal component 3\"},\"id\":\"1342\",\"type\":\"TableColumn\"},{\"attributes\":{},\"id\":\"1346\",\"type\":\"StringEditor\"}],\"root_ids\":[\"1306\"]},\"title\":\"Bokeh Application\",\"version\":\"2.4.2\"}};\n",
       "    var render_items = [{\"docid\":\"b4260eb2-4a17-4959-a991-4f5f8680995a\",\"root_ids\":[\"1306\"],\"roots\":{\"1306\":\"ab0d1b92-eb40-4ff5-983c-0c93668974ea\"}}];\n",
       "    root.Bokeh.embed.embed_items_notebook(docs_json, render_items);\n",
       "  }\n",
       "  if (root.Bokeh !== undefined && root.Bokeh.Panel !== undefined) {\n",
       "    embed_document(root);\n",
       "  } else {\n",
       "    var attempts = 0;\n",
       "    var timer = setInterval(function(root) {\n",
       "      if (root.Bokeh !== undefined && root.Bokeh.Panel !== undefined) {\n",
       "        clearInterval(timer);\n",
       "        embed_document(root);\n",
       "      } else if (document.readyState == \"complete\") {\n",
       "        attempts++;\n",
       "        if (attempts > 200) {\n",
       "          clearInterval(timer);\n",
       "          console.log(\"Bokeh: ERROR: Unable to run BokehJS code because BokehJS library is missing\");\n",
       "        }\n",
       "      }\n",
       "    }, 25, root)\n",
       "  }\n",
       "})(window);</script>"
      ],
      "text/plain": [
       ":Table   [Algorithm,ProofType,TotalCoinsMined,TotalCoinSupply,principal component 1,principal component 2,principal component 3,CoinName,Class]"
      ]
     },
     "execution_count": 104,
     "metadata": {
      "application/vnd.holoviews_exec.v0+json": {
       "id": "1306"
      }
     },
     "output_type": "execute_result"
    }
   ],
   "source": [
    "# Create a table with tradable cryptocurrencies.\n",
    "clustered_df.hvplot.table(sortable=True, selectable=True)"
   ]
  },
  {
   "cell_type": "code",
   "execution_count": 105,
   "metadata": {},
   "outputs": [
    {
     "name": "stdout",
     "output_type": "stream",
     "text": [
      "<bound method DataFrame.count of         Algorithm ProofType  TotalCoinsMined TotalCoinSupply  \\\n",
      "42         Scrypt   PoW/PoS     4.199995e+01              42   \n",
      "404        Scrypt   PoW/PoS     1.055185e+09       532000000   \n",
      "1337          X13   PoW/PoS     2.927942e+10    314159265359   \n",
      "BTC       SHA-256       PoW     1.792718e+07        21000000   \n",
      "ETH        Ethash       PoW     1.076842e+08               0   \n",
      "...           ...       ...              ...             ...   \n",
      "ZEPH      SHA-256      DPoS     2.000000e+09      2000000000   \n",
      "GAP        Scrypt   PoW/PoS     1.493105e+07       250000000   \n",
      "BDX   CryptoNight       PoW     9.802226e+08      1400222610   \n",
      "ZEN      Equihash       PoW     7.296538e+06        21000000   \n",
      "XBC        Scrypt       PoS     1.283270e+05         1000000   \n",
      "\n",
      "      principal component 1  principal component 2  principal component 3  \\\n",
      "42                -0.351315               0.995219              -0.590909   \n",
      "404               -0.334577               0.995519              -0.591268   \n",
      "1337               2.319544               1.634819              -0.662071   \n",
      "BTC               -0.149113              -1.301193               0.146052   \n",
      "ETH               -0.138931              -2.041152               0.340768   \n",
      "...                     ...                    ...                    ...   \n",
      "ZEPH               2.404260               0.714878              -0.155968   \n",
      "GAP               -0.349350               0.995116              -0.590929   \n",
      "BDX                0.333936              -2.347893               0.443358   \n",
      "ZEN               -0.136222              -1.932083               0.359915   \n",
      "XBC               -0.283139               0.841950              -0.271704   \n",
      "\n",
      "         CoinName  Class  \n",
      "42        42 Coin      0  \n",
      "404       404Coin      0  \n",
      "1337    EliteCoin      0  \n",
      "BTC       Bitcoin      1  \n",
      "ETH      Ethereum      1  \n",
      "...           ...    ...  \n",
      "ZEPH       ZEPHYR      0  \n",
      "GAP       Gapcoin      0  \n",
      "BDX        Beldex      1  \n",
      "ZEN       Horizen      1  \n",
      "XBC   BitcoinPlus      0  \n",
      "\n",
      "[532 rows x 9 columns]>\n"
     ]
    }
   ],
   "source": [
    "# Print the total number of tradable cryptocurrencies.\n",
    "print(clustered_df.count)"
   ]
  },
  {
   "cell_type": "code",
   "execution_count": 111,
   "metadata": {},
   "outputs": [
    {
     "name": "stdout",
     "output_type": "stream",
     "text": [
      "[[4.20000000e-11 0.00000000e+00]\n",
      " [5.32000000e-04 1.06585544e-03]\n",
      " [3.14159265e-01 2.95755135e-02]\n",
      " ...\n",
      " [1.40022261e-03 9.90135079e-04]\n",
      " [2.10000000e-05 7.37028150e-06]\n",
      " [1.00000000e-06 1.29582282e-07]]\n"
     ]
    }
   ],
   "source": [
    "# Scaling data to create the scatter plot with tradable cryptocurrencies.\n",
    "scaled = MinMaxScaler().fit_transform(clustered_df[[\"TotalCoinSupply\", \"TotalCoinsMined\"]])\n",
    "print(scaled)"
   ]
  },
  {
   "cell_type": "code",
   "execution_count": 112,
   "metadata": {},
   "outputs": [
    {
     "data": {
      "text/html": [
       "<div>\n",
       "<style scoped>\n",
       "    .dataframe tbody tr th:only-of-type {\n",
       "        vertical-align: middle;\n",
       "    }\n",
       "\n",
       "    .dataframe tbody tr th {\n",
       "        vertical-align: top;\n",
       "    }\n",
       "\n",
       "    .dataframe thead th {\n",
       "        text-align: right;\n",
       "    }\n",
       "</style>\n",
       "<table border=\"1\" class=\"dataframe\">\n",
       "  <thead>\n",
       "    <tr style=\"text-align: right;\">\n",
       "      <th></th>\n",
       "      <th>TotalCoinSuppy</th>\n",
       "      <th>TotalCoinsMined</th>\n",
       "      <th>CoinName</th>\n",
       "      <th>Class</th>\n",
       "    </tr>\n",
       "  </thead>\n",
       "  <tbody>\n",
       "    <tr>\n",
       "      <th>42</th>\n",
       "      <td>4.200000e-11</td>\n",
       "      <td>0.000000</td>\n",
       "      <td>42 Coin</td>\n",
       "      <td>0</td>\n",
       "    </tr>\n",
       "    <tr>\n",
       "      <th>404</th>\n",
       "      <td>5.320000e-04</td>\n",
       "      <td>0.001066</td>\n",
       "      <td>404Coin</td>\n",
       "      <td>0</td>\n",
       "    </tr>\n",
       "    <tr>\n",
       "      <th>1337</th>\n",
       "      <td>3.141593e-01</td>\n",
       "      <td>0.029576</td>\n",
       "      <td>EliteCoin</td>\n",
       "      <td>0</td>\n",
       "    </tr>\n",
       "    <tr>\n",
       "      <th>BTC</th>\n",
       "      <td>2.100000e-05</td>\n",
       "      <td>0.000018</td>\n",
       "      <td>Bitcoin</td>\n",
       "      <td>1</td>\n",
       "    </tr>\n",
       "    <tr>\n",
       "      <th>ETH</th>\n",
       "      <td>0.000000e+00</td>\n",
       "      <td>0.000109</td>\n",
       "      <td>Ethereum</td>\n",
       "      <td>1</td>\n",
       "    </tr>\n",
       "    <tr>\n",
       "      <th>LTC</th>\n",
       "      <td>8.400000e-05</td>\n",
       "      <td>0.000064</td>\n",
       "      <td>Litecoin</td>\n",
       "      <td>1</td>\n",
       "    </tr>\n",
       "    <tr>\n",
       "      <th>DASH</th>\n",
       "      <td>2.200000e-05</td>\n",
       "      <td>0.000009</td>\n",
       "      <td>Dash</td>\n",
       "      <td>0</td>\n",
       "    </tr>\n",
       "    <tr>\n",
       "      <th>XMR</th>\n",
       "      <td>0.000000e+00</td>\n",
       "      <td>0.000017</td>\n",
       "      <td>Monero</td>\n",
       "      <td>1</td>\n",
       "    </tr>\n",
       "    <tr>\n",
       "      <th>ETC</th>\n",
       "      <td>2.100000e-04</td>\n",
       "      <td>0.000115</td>\n",
       "      <td>Ethereum Classic</td>\n",
       "      <td>1</td>\n",
       "    </tr>\n",
       "    <tr>\n",
       "      <th>ZEC</th>\n",
       "      <td>2.100000e-05</td>\n",
       "      <td>0.000007</td>\n",
       "      <td>ZCash</td>\n",
       "      <td>1</td>\n",
       "    </tr>\n",
       "  </tbody>\n",
       "</table>\n",
       "</div>"
      ],
      "text/plain": [
       "      TotalCoinSuppy  TotalCoinsMined          CoinName  Class\n",
       "42      4.200000e-11         0.000000           42 Coin      0\n",
       "404     5.320000e-04         0.001066           404Coin      0\n",
       "1337    3.141593e-01         0.029576         EliteCoin      0\n",
       "BTC     2.100000e-05         0.000018           Bitcoin      1\n",
       "ETH     0.000000e+00         0.000109          Ethereum      1\n",
       "LTC     8.400000e-05         0.000064          Litecoin      1\n",
       "DASH    2.200000e-05         0.000009              Dash      0\n",
       "XMR     0.000000e+00         0.000017            Monero      1\n",
       "ETC     2.100000e-04         0.000115  Ethereum Classic      1\n",
       "ZEC     2.100000e-05         0.000007             ZCash      1"
      ]
     },
     "execution_count": 112,
     "metadata": {},
     "output_type": "execute_result"
    }
   ],
   "source": [
    "# Create a new DataFrame that has the scaled data with the clustered_df DataFrame index.\n",
    "new_df = pd.DataFrame(    \n",
    "    data = scaled,columns = [\"TotalCoinSuppy\",\"TotalCoinsMined\"], index = clustered_df.index\n",
    ")\n",
    "\n",
    "# Add the \"CoinName\" column from the clustered_df DataFrame to the new DataFrame.\n",
    "new_df = pd.concat([new_df,clustered_df['CoinName']],axis = 1)\n",
    "\n",
    "# Add the \"Class\" column from the clustered_df DataFrame to the new DataFrame. \n",
    "plot_df = pd.concat([new_df,clustered_df[\"Class\"]],axis = 1)\n",
    "\n",
    "\n",
    "plot_df.head(10)"
   ]
  },
  {
   "cell_type": "code",
   "execution_count": 114,
   "metadata": {},
   "outputs": [
    {
     "data": {},
     "metadata": {},
     "output_type": "display_data"
    },
    {
     "data": {
      "application/vnd.holoviews_exec.v0+json": "",
      "text/html": [
       "<div id='1374'>\n",
       "\n",
       "\n",
       "\n",
       "\n",
       "\n",
       "  <div class=\"bk-root\" id=\"6ae5db35-3c65-475c-8608-6f3bc57bfb58\" data-root-id=\"1374\"></div>\n",
       "</div>\n",
       "<script type=\"application/javascript\">(function(root) {\n",
       "  function embed_document(root) {\n",
       "    var docs_json = {\"eb8f16b6-e24e-4b3d-8c88-b97d832151a4\":{\"defs\":[{\"extends\":null,\"module\":null,\"name\":\"ReactiveHTML1\",\"overrides\":[],\"properties\":[]},{\"extends\":null,\"module\":null,\"name\":\"FlexBox1\",\"overrides\":[],\"properties\":[{\"default\":\"flex-start\",\"kind\":null,\"name\":\"align_content\"},{\"default\":\"flex-start\",\"kind\":null,\"name\":\"align_items\"},{\"default\":\"row\",\"kind\":null,\"name\":\"flex_direction\"},{\"default\":\"wrap\",\"kind\":null,\"name\":\"flex_wrap\"},{\"default\":\"flex-start\",\"kind\":null,\"name\":\"justify_content\"}]},{\"extends\":null,\"module\":null,\"name\":\"GridStack1\",\"overrides\":[],\"properties\":[{\"default\":\"warn\",\"kind\":null,\"name\":\"mode\"},{\"default\":null,\"kind\":null,\"name\":\"ncols\"},{\"default\":null,\"kind\":null,\"name\":\"nrows\"},{\"default\":true,\"kind\":null,\"name\":\"allow_resize\"},{\"default\":true,\"kind\":null,\"name\":\"allow_drag\"},{\"default\":[],\"kind\":null,\"name\":\"state\"}]},{\"extends\":null,\"module\":null,\"name\":\"click1\",\"overrides\":[],\"properties\":[{\"default\":\"\",\"kind\":null,\"name\":\"terminal_output\"},{\"default\":\"\",\"kind\":null,\"name\":\"debug_name\"},{\"default\":0,\"kind\":null,\"name\":\"clears\"}]},{\"extends\":null,\"module\":null,\"name\":\"TemplateActions1\",\"overrides\":[],\"properties\":[{\"default\":0,\"kind\":null,\"name\":\"open_modal\"},{\"default\":0,\"kind\":null,\"name\":\"close_modal\"}]},{\"extends\":null,\"module\":null,\"name\":\"MaterialTemplateActions1\",\"overrides\":[],\"properties\":[{\"default\":0,\"kind\":null,\"name\":\"open_modal\"},{\"default\":0,\"kind\":null,\"name\":\"close_modal\"}]}],\"roots\":{\"references\":[{\"attributes\":{\"fill_alpha\":{\"value\":0.1},\"fill_color\":{\"value\":\"#e5ae38\"},\"hatch_alpha\":{\"value\":0.1},\"hatch_color\":{\"value\":\"#e5ae38\"},\"line_alpha\":{\"value\":0.1},\"line_color\":{\"value\":\"#e5ae38\"},\"size\":{\"value\":5.477225575051661},\"x\":{\"field\":\"TotalCoinsMined\"},\"y\":{\"field\":\"TotalCoinSuppy\"}},\"id\":\"1465\",\"type\":\"Scatter\"},{\"attributes\":{\"fill_alpha\":{\"value\":0.2},\"fill_color\":{\"value\":\"#e5ae38\"},\"hatch_alpha\":{\"value\":0.2},\"hatch_color\":{\"value\":\"#e5ae38\"},\"line_alpha\":{\"value\":0.2},\"line_color\":{\"value\":\"#e5ae38\"},\"size\":{\"value\":5.477225575051661},\"x\":{\"field\":\"TotalCoinsMined\"},\"y\":{\"field\":\"TotalCoinSuppy\"}},\"id\":\"1466\",\"type\":\"Scatter\"},{\"attributes\":{},\"id\":\"1480\",\"type\":\"UnionRenderers\"},{\"attributes\":{\"label\":{\"value\":\"2\"},\"renderers\":[{\"id\":\"1467\"}]},\"id\":\"1483\",\"type\":\"LegendItem\"},{\"attributes\":{},\"id\":\"1417\",\"type\":\"AllLabels\"},{\"attributes\":{\"coordinates\":null,\"data_source\":{\"id\":\"1418\"},\"glyph\":{\"id\":\"1421\"},\"group\":null,\"hover_glyph\":null,\"muted_glyph\":{\"id\":\"1423\"},\"nonselection_glyph\":{\"id\":\"1422\"},\"selection_glyph\":{\"id\":\"1438\"},\"view\":{\"id\":\"1425\"}},\"id\":\"1424\",\"type\":\"GlyphRenderer\"},{\"attributes\":{\"source\":{\"id\":\"1461\"}},\"id\":\"1468\",\"type\":\"CDSView\"},{\"attributes\":{\"label\":{\"value\":\"0\"},\"renderers\":[{\"id\":\"1424\"}]},\"id\":\"1437\",\"type\":\"LegendItem\"},{\"attributes\":{\"callback\":null,\"renderers\":[{\"id\":\"1424\"},{\"id\":\"1445\"},{\"id\":\"1467\"},{\"id\":\"1491\"}],\"tags\":[\"hv_created\"],\"tooltips\":[[\"Class\",\"@{Class}\"],[\"TotalCoinsMined\",\"@{TotalCoinsMined}\"],[\"TotalCoinSuppy\",\"@{TotalCoinSuppy}\"],[\"CoinName\",\"@{CoinName}\"]]},\"id\":\"1378\",\"type\":\"HoverTool\"},{\"attributes\":{},\"id\":\"1399\",\"type\":\"SaveTool\"},{\"attributes\":{},\"id\":\"1433\",\"type\":\"UnionRenderers\"},{\"attributes\":{\"angle\":{\"value\":0.0},\"fill_alpha\":{\"value\":1.0},\"fill_color\":{\"value\":\"#6d904f\"},\"hatch_alpha\":{\"value\":1.0},\"hatch_color\":{\"value\":\"#6d904f\"},\"hatch_scale\":{\"value\":12.0},\"hatch_weight\":{\"value\":1.0},\"line_alpha\":{\"value\":1.0},\"line_cap\":{\"value\":\"butt\"},\"line_color\":{\"value\":\"#6d904f\"},\"line_dash\":{\"value\":[]},\"line_dash_offset\":{\"value\":0},\"line_join\":{\"value\":\"bevel\"},\"line_width\":{\"value\":1},\"marker\":{\"value\":\"circle\"},\"size\":{\"value\":5.477225575051661},\"x\":{\"field\":\"TotalCoinsMined\"},\"y\":{\"field\":\"TotalCoinSuppy\"}},\"id\":\"1510\",\"type\":\"Scatter\"},{\"attributes\":{},\"id\":\"1400\",\"type\":\"PanTool\"},{\"attributes\":{\"coordinates\":null,\"data_source\":{\"id\":\"1461\"},\"glyph\":{\"id\":\"1464\"},\"group\":null,\"hover_glyph\":null,\"muted_glyph\":{\"id\":\"1466\"},\"nonselection_glyph\":{\"id\":\"1465\"},\"selection_glyph\":{\"id\":\"1484\"},\"view\":{\"id\":\"1468\"}},\"id\":\"1467\",\"type\":\"GlyphRenderer\"},{\"attributes\":{},\"id\":\"1401\",\"type\":\"WheelZoomTool\"},{\"attributes\":{\"tools\":[{\"id\":\"1378\"},{\"id\":\"1399\"},{\"id\":\"1400\"},{\"id\":\"1401\"},{\"id\":\"1402\"},{\"id\":\"1403\"}]},\"id\":\"1405\",\"type\":\"Toolbar\"},{\"attributes\":{\"overlay\":{\"id\":\"1404\"}},\"id\":\"1402\",\"type\":\"BoxZoomTool\"},{\"attributes\":{},\"id\":\"1462\",\"type\":\"Selection\"},{\"attributes\":{\"margin\":[5,5,5,5],\"name\":\"HSpacer02291\",\"sizing_mode\":\"stretch_width\"},\"id\":\"1655\",\"type\":\"Spacer\"},{\"attributes\":{\"fill_color\":{\"value\":\"#e5ae38\"},\"hatch_color\":{\"value\":\"#e5ae38\"},\"line_color\":{\"value\":\"#e5ae38\"},\"size\":{\"value\":5.477225575051661},\"x\":{\"field\":\"TotalCoinsMined\"},\"y\":{\"field\":\"TotalCoinSuppy\"}},\"id\":\"1464\",\"type\":\"Scatter\"},{\"attributes\":{},\"id\":\"1403\",\"type\":\"ResetTool\"},{\"attributes\":{\"fill_alpha\":{\"value\":0.1},\"fill_color\":{\"value\":\"#30a2da\"},\"hatch_alpha\":{\"value\":0.1},\"hatch_color\":{\"value\":\"#30a2da\"},\"line_alpha\":{\"value\":0.1},\"line_color\":{\"value\":\"#30a2da\"},\"size\":{\"value\":5.477225575051661},\"x\":{\"field\":\"TotalCoinsMined\"},\"y\":{\"field\":\"TotalCoinSuppy\"}},\"id\":\"1422\",\"type\":\"Scatter\"},{\"attributes\":{\"source\":{\"id\":\"1485\"}},\"id\":\"1492\",\"type\":\"CDSView\"},{\"attributes\":{\"bottom_units\":\"screen\",\"coordinates\":null,\"fill_alpha\":0.5,\"fill_color\":\"lightgrey\",\"group\":null,\"left_units\":\"screen\",\"level\":\"overlay\",\"line_alpha\":1.0,\"line_color\":\"black\",\"line_dash\":[4,4],\"line_width\":2,\"right_units\":\"screen\",\"syncable\":false,\"top_units\":\"screen\"},\"id\":\"1404\",\"type\":\"BoxAnnotation\"},{\"attributes\":{\"source\":{\"id\":\"1439\"}},\"id\":\"1446\",\"type\":\"CDSView\"},{\"attributes\":{\"angle\":{\"value\":0.0},\"fill_alpha\":{\"value\":1.0},\"fill_color\":{\"value\":\"#e5ae38\"},\"hatch_alpha\":{\"value\":1.0},\"hatch_color\":{\"value\":\"#e5ae38\"},\"hatch_scale\":{\"value\":12.0},\"hatch_weight\":{\"value\":1.0},\"line_alpha\":{\"value\":1.0},\"line_cap\":{\"value\":\"butt\"},\"line_color\":{\"value\":\"#e5ae38\"},\"line_dash\":{\"value\":[]},\"line_dash_offset\":{\"value\":0},\"line_join\":{\"value\":\"bevel\"},\"line_width\":{\"value\":1},\"marker\":{\"value\":\"circle\"},\"size\":{\"value\":5.477225575051661},\"x\":{\"field\":\"TotalCoinsMined\"},\"y\":{\"field\":\"TotalCoinSuppy\"}},\"id\":\"1484\",\"type\":\"Scatter\"},{\"attributes\":{\"end\":1.1,\"reset_end\":1.1,\"reset_start\":-0.1,\"start\":-0.1,\"tags\":[[[\"TotalCoinSuppy\",\"TotalCoinSuppy\",null]]]},\"id\":\"1377\",\"type\":\"Range1d\"},{\"attributes\":{\"coordinates\":null,\"data_source\":{\"id\":\"1485\"},\"glyph\":{\"id\":\"1488\"},\"group\":null,\"hover_glyph\":null,\"muted_glyph\":{\"id\":\"1490\"},\"nonselection_glyph\":{\"id\":\"1489\"},\"selection_glyph\":{\"id\":\"1510\"},\"view\":{\"id\":\"1492\"}},\"id\":\"1491\",\"type\":\"GlyphRenderer\"},{\"attributes\":{\"data\":{\"Class\":[1,1,1,1,1,1,1,1,1,1,1,1,1,1,1,1,1,1,1,1,1,1,1,1,1,1,1,1,1,1,1,1,1,1,1,1,1,1,1,1,1,1,1,1,1,1,1,1,1,1,1,1,1,1,1,1,1,1,1,1,1,1,1,1,1,1,1,1,1,1,1,1,1,1,1,1,1,1,1,1,1,1,1,1,1,1,1,1,1,1,1,1,1,1,1,1,1,1,1,1,1,1,1,1,1,1,1,1,1,1,1,1,1,1,1,1,1,1,1,1,1,1,1,1,1,1,1,1,1,1,1,1,1,1,1,1,1,1,1,1,1,1,1,1,1,1,1,1,1,1,1,1,1,1,1,1,1,1,1,1,1,1,1,1,1,1,1,1,1,1,1,1,1,1,1,1,1,1,1,1,1,1,1,1,1,1,1,1,1,1,1,1,1,1,1,1,1,1,1,1,1,1,1,1,1,1,1,1,1,1,1,1,1,1,1,1,1,1,1,1,1,1,1,1,1,1,1,1,1,1,1,1,1,1,1,1,1,1],\"CoinName\":[\"Bitcoin\",\"Ethereum\",\"Litecoin\",\"Monero\",\"Ethereum Classic\",\"ZCash\",\"DigiByte\",\"ProsperCoin\",\"Spreadcoin\",\"Argentum\",\"MyriadCoin\",\"MoonCoin\",\"ZetaCoin\",\"SexCoin\",\"Quatloo\",\"QuarkCoin\",\"Riecoin\",\"Digitalcoin \",\"Catcoin\",\"CannaCoin\",\"CryptCoin\",\"Verge\",\"DevCoin\",\"EarthCoin\",\"E-Gulden\",\"Einsteinium\",\"Emerald\",\"Franko\",\"FeatherCoin\",\"GrandCoin\",\"GlobalCoin\",\"GoldCoin\",\"Infinite Coin\",\"IXcoin\",\"KrugerCoin\",\"LuckyCoin\",\"Litebar \",\"MegaCoin\",\"MediterraneanCoin\",\"MinCoin\",\"NobleCoin\",\"Namecoin\",\"NyanCoin\",\"RonPaulCoin\",\"StableCoin\",\"SmartCoin\",\"SysCoin\",\"TigerCoin\",\"TerraCoin\",\"UnbreakableCoin\",\"Unobtanium\",\"UroCoin\",\"ViaCoin\",\"Vertcoin\",\"WorldCoin\",\"JouleCoin\",\"ByteCoin\",\"DigitalNote \",\"MonaCoin\",\"Gulden\",\"PesetaCoin\",\"Wild Beast Coin\",\"Flo\",\"ArtByte\",\"Folding Coin\",\"Unitus\",\"CypherPunkCoin\",\"OmniCron\",\"GreenCoin\",\"Cryptonite\",\"MasterCoin\",\"SoonCoin\",\"1Credit\",\"MarsCoin \",\"Crypto\",\"Anarchists Prime\",\"BowsCoin\",\"Song Coin\",\"BitZeny\",\"Expanse\",\"Siacoin\",\"MindCoin\",\"I0coin\",\"Revolution VR\",\"HOdlcoin\",\"Gamecredits\",\"CarpeDiemCoin\",\"Adzcoin\",\"SoilCoin\",\"YoCoin\",\"SibCoin\",\"Francs\",\"BolivarCoin\",\"Omni\",\"PizzaCoin\",\"Komodo\",\"Karbo\",\"ZayedCoin\",\"Circuits of Value\",\"DopeCoin\",\"DollarCoin\",\"Shilling\",\"ZCoin\",\"Elementrem\",\"ZClassic\",\"KiloCoin\",\"ArtexCoin\",\"Kurrent\",\"Cannabis Industry Coin\",\"OsmiumCoin\",\"Bikercoins\",\"HexxCoin\",\"PacCoin\",\"Citadel\",\"BeaverCoin\",\"VaultCoin\",\"Zero\",\"Canada eCoin\",\"Zoin\",\"DubaiCoin\",\"EB3coin\",\"Coinonat\",\"BenjiRolls\",\"ILCoin\",\"EquiTrader\",\"Quantum Resistant Ledger\",\"Dynamic\",\"Nano\",\"ChanCoin\",\"Dinastycoin\",\"DigitalPrice\",\"Unify\",\"SocialCoin\",\"ArcticCoin\",\"DAS\",\"LeviarCoin\",\"Bitcore\",\"gCn Coin\",\"SmartCash\",\"Onix\",\"Bitcoin Cash\",\"Sojourn Coin\",\"NewYorkCoin\",\"FrazCoin\",\"Kronecoin\",\"AdCoin\",\"Linx\",\"Sumokoin\",\"BitcoinZ\",\"Elements\",\"VIVO Coin\",\"Bitcoin Gold\",\"Pirl\",\"eBoost\",\"Pura\",\"Innova\",\"Ellaism\",\"GoByte\",\"SHIELD\",\"UltraNote\",\"BitCoal\",\"DaxxCoin\",\"AC3\",\"Lethean\",\"PopularCoin\",\"Photon\",\"Sucre\",\"SparksPay\",\"GunCoin\",\"IrishCoin\",\"Pioneer Coin\",\"UnitedBitcoin\",\"Interzone\",\"TurtleCoin\",\"MUNcoin\",\"Niobio Cash\",\"ShareChain\",\"Travelflex\",\"KREDS\",\"BitFlip\",\"LottoCoin\",\"Crypto Improvement Fund\",\"Callisto Network\",\"BitTube\",\"Poseidon\",\"Aidos Kuneen\",\"Bitrolium\",\"Alpenschillling\",\"FuturoCoin\",\"Monero Classic\",\"Jumpcoin\",\"Infinex\",\"KEYCO\",\"GINcoin\",\"PlatinCoin\",\"Loki\",\"Newton Coin\",\"MassGrid\",\"PluraCoin\",\"Motion\",\"PlusOneCoin\",\"Axe\",\"HexCoin\",\"Webchain\",\"Ryo\",\"Urals Coin\",\"Qwertycoin\",\"Project Pai\",\"Azart\",\"Xchange\",\"CrypticCoin\",\"Actinium\",\"Bitcoin SV\",\"FREDEnergy\",\"Universal Molecule\",\"Lithium\",\"Exosis\",\"Block-Logic\",\"Beam\",\"Bithereum\",\"SLICE\",\"BLAST\",\"Bitcoin Rhodium\",\"GlobalToken\",\"SolarCoin\",\"UFO Coin\",\"BlakeCoin\",\"Crypto Escudo\",\"Crown Coin\",\"SmileyCoin\",\"Groestlcoin\",\"Bata\",\"Pakcoin\",\"JoinCoin\",\"Vollar\",\"Reality Clash\",\"Beldex\",\"Horizen\"],\"TotalCoinSuppy\":{\"__ndarray__\":\"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\",\"dtype\":\"float64\",\"order\":\"little\",\"shape\":[238]},\"TotalCoinsMined\":{\"__ndarray__\":\"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\",\"dtype\":\"float64\",\"order\":\"little\",\"shape\":[238]}},\"selected\":{\"id\":\"1440\"},\"selection_policy\":{\"id\":\"1456\"}},\"id\":\"1439\",\"type\":\"ColumnDataSource\"},{\"attributes\":{\"fill_alpha\":{\"value\":0.1},\"fill_color\":{\"value\":\"#6d904f\"},\"hatch_alpha\":{\"value\":0.1},\"hatch_color\":{\"value\":\"#6d904f\"},\"line_alpha\":{\"value\":0.1},\"line_color\":{\"value\":\"#6d904f\"},\"size\":{\"value\":5.477225575051661},\"x\":{\"field\":\"TotalCoinsMined\"},\"y\":{\"field\":\"TotalCoinSuppy\"}},\"id\":\"1489\",\"type\":\"Scatter\"},{\"attributes\":{\"data\":{\"Class\":[0,0,0,0,0,0,0,0,0,0,0,0,0,0,0,0,0,0,0,0,0,0,0,0,0,0,0,0,0,0,0,0,0,0,0,0,0,0,0,0,0,0,0,0,0,0,0,0,0,0,0,0,0,0,0,0,0,0,0,0,0,0,0,0,0,0,0,0,0,0,0,0,0,0,0,0,0,0,0,0,0,0,0,0,0,0,0,0,0,0,0,0,0,0,0,0,0,0,0,0,0,0,0,0,0,0,0,0,0,0,0,0,0,0,0,0,0,0,0,0,0,0,0,0,0,0,0,0,0,0,0,0,0,0,0,0,0,0,0,0,0,0,0,0,0,0,0,0,0,0,0,0,0,0,0,0,0,0,0,0,0,0,0,0,0,0,0,0,0,0,0,0,0,0,0,0,0,0,0,0,0,0,0,0,0,0,0,0,0,0,0,0,0,0,0,0,0,0,0,0,0,0,0,0,0,0,0,0,0,0,0,0,0,0,0,0,0,0,0,0,0,0,0,0,0,0,0,0,0,0,0,0,0,0,0,0,0,0,0,0,0,0,0,0,0,0,0,0,0,0,0,0,0,0,0,0,0,0,0,0,0,0,0,0,0,0,0,0,0,0,0,0,0,0,0,0,0,0,0,0,0,0,0,0,0,0,0],\"CoinName\":[\"42 Coin\",\"404Coin\",\"EliteCoin\",\"Dash\",\"Bitshares\",\"BitcoinDark\",\"PayCoin\",\"KoboCoin\",\"Aurora Coin\",\"BlueCoin\",\"EnergyCoin\",\"BitBar\",\"CryptoBullion\",\"CasinoCoin\",\"Diamond\",\"Exclusive Coin\",\"FlutterCoin\",\"HoboNickels\",\"HyperStake\",\"IOCoin\",\"MaxCoin\",\"MintCoin\",\"MazaCoin\",\"Nautilus Coin\",\"NavCoin\",\"OpalCoin\",\"Orbitcoin\",\"PotCoin\",\"PhoenixCoin\",\"Reddcoin\",\"SuperCoin\",\"SyncCoin\",\"TeslaCoin\",\"TittieCoin\",\"TorCoin\",\"UnitaryStatus Dollar\",\"UltraCoin\",\"VeriCoin\",\"X11 Coin\",\"Crypti\",\"StealthCoin\",\"ZCC Coin\",\"BurstCoin\",\"StorjCoin\",\"Neutron\",\"FairCoin\",\"RubyCoin\",\"Kore\",\"Dnotes\",\"8BIT Coin\",\"Sativa Coin\",\"Ucoin\",\"Vtorrent\",\"IslaCoin\",\"Nexus\",\"Droidz\",\"Squall Coin\",\"Diggits\",\"Paycon\",\"Emercoin\",\"EverGreenCoin\",\"Decred\",\"EDRCoin\",\"Hitcoin\",\"DubaiCoin\",\"PWR Coin\",\"BillaryCoin\",\"GPU Coin\",\"EuropeCoin\",\"ZeitCoin\",\"SwingCoin\",\"SafeExchangeCoin\",\"Nebuchadnezzar\",\"Ratecoin\",\"Revenu\",\"Clockcoin\",\"VIP Tokens\",\"BitSend\",\"Let it Ride\",\"PutinCoin\",\"iBankCoin\",\"Frankywillcoin\",\"MudraCoin\",\"Lutetium Coin\",\"GoldBlocks\",\"CarterCoin\",\"BitTokens\",\"MustangCoin\",\"ZoneCoin\",\"RootCoin\",\"BitCurrency\",\"Swiscoin\",\"BuzzCoin\",\"Opair\",\"PesoBit\",\"Halloween Coin\",\"CoffeeCoin\",\"RoyalCoin\",\"GanjaCoin V2\",\"TeamUP\",\"LanaCoin\",\"ARK\",\"InsaneCoin\",\"EmberCoin\",\"XenixCoin\",\"FreeCoin\",\"PLNCoin\",\"AquariusCoin\",\"Creatio\",\"Eternity\",\"Eurocoin\",\"BitcoinFast\",\"Stakenet\",\"BitConnect Coin\",\"MoneyCoin\",\"Enigma\",\"Russiacoin\",\"PandaCoin\",\"GameUnits\",\"GAKHcoin\",\"Allsafe\",\"LiteCreed\",\"Klingon Empire Darsek\",\"Internet of People\",\"KushCoin\",\"Printerium\",\"Impeach\",\"Zilbercoin\",\"FirstCoin\",\"FindCoin\",\"OpenChat\",\"RenosCoin\",\"VirtacoinPlus\",\"TajCoin\",\"Impact\",\"Atmos\",\"HappyCoin\",\"MacronCoin\",\"Condensate\",\"Independent Money System\",\"ArgusCoin\",\"LomoCoin\",\"ProCurrency\",\"GoldReserve\",\"GrowthCoin\",\"Phreak\",\"Degas Coin\",\"HTML5 Coin\",\"Ultimate Secure Cash\",\"QTUM\",\"Espers\",\"Denarius\",\"Virta Unique Coin\",\"Bitcoin Planet\",\"BritCoin\",\"Linda\",\"DeepOnion\",\"Signatum\",\"Cream\",\"Monoeci\",\"Draftcoin\",\"Stakecoin\",\"CoinonatX\",\"Ethereum Dark\",\"Obsidian\",\"Cardano\",\"Regalcoin\",\"TrezarCoin\",\"TerraNovaCoin\",\"Rupee\",\"WomenCoin\",\"Theresa May Coin\",\"NamoCoin\",\"LUXCoin\",\"Xios\",\"Bitcloud 2.0\",\"KekCoin\",\"BlackholeCoin\",\"Infinity Economics\",\"Magnet\",\"Lamden Tau\",\"Electra\",\"Bitcoin Diamond\",\"Cash & Back Coin\",\"Bulwark\",\"Kalkulus\",\"GermanCoin\",\"LiteCoin Ultra\",\"PhantomX\",\"Digiwage\",\"Trollcoin\",\"Litecoin Plus\",\"Monkey Project\",\"TokenPay\",\"1717 Masonic Commemorative Token\",\"My Big Coin\",\"Unified Society USDEX\",\"Tokyo Coin\",\"Stipend\",\"Pushi\",\"Ellerium\",\"Velox\",\"Ontology\",\"Bitspace\",\"Briacoin\",\"Ignition\",\"MedicCoin\",\"Bitcoin Green\",\"Deviant Coin\",\"Abjcoin\",\"Semux\",\"Carebit\",\"Zealium\",\"Proton\",\"iDealCash\",\"Bitcoin Incognito\",\"HollyWoodCoin\",\"Swisscoin\",\"Xt3ch\",\"TheVig\",\"EmaratCoin\",\"Dekado\",\"Lynx\",\"Poseidon Quark\",\"BitcoinWSpectrum\",\"Muse\",\"Trivechain\",\"Dystem\",\"Giant\",\"Peony Coin\",\"Absolute Coin\",\"Vitae\",\"TPCash\",\"ARENON\",\"EUNO\",\"MMOCoin\",\"Ketan\",\"XDNA\",\"PAXEX\",\"ThunderStake\",\"Kcash\",\"Bettex coin\",\"BitMoney\",\"Junson Ming Chan Coin\",\"HerbCoin\",\"PirateCash\",\"Oduwa\",\"Galilel\",\"Crypto Sports\",\"Credit\",\"Dash Platinum\",\"Nasdacoin\",\"Beetle Coin\",\"Titan Coin\",\"Award\",\"Insane Coin\",\"ALAX\",\"LiteDoge\",\"TruckCoin\",\"OrangeCoin\",\"BitstarCoin\",\"NeosCoin\",\"HyperCoin\",\"PinkCoin\",\"AudioCoin\",\"IncaKoin\",\"Piggy Coin\",\"Genstake\",\"XiaoMiCoin\",\"CapriCoin\",\" ClubCoin\",\"Radium\",\"Creditbit \",\"OKCash\",\"Lisk\",\"HiCoin\",\"WhiteCoin\",\"FriendshipCoin\",\"Triangles Coin\",\"EOS\",\"Oxycoin\",\"TigerCash\",\"Particl\",\"Nxt\",\"ZEPHYR\",\"Gapcoin\",\"BitcoinPlus\"],\"TotalCoinSuppy\":{\"__ndarray__\":\"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\",\"dtype\":\"float64\",\"order\":\"little\",\"shape\":[287]},\"TotalCoinsMined\":{\"__ndarray__\":\"AAAAAAAAAADVQ6eRhXZRP0gFXx0LSZ4/fb2YAaYh4z6ruJV6oa9mP4fxacJq17U+W7PlNwxp6T7W0pn52A37PoFADD9SNfM+Y2BMhDkIRT+TanQDD0sgP35ukl9tEWc+7S9W9+ubsT49x1z95a+kP28YHhABAMw+ye+KsSkQ2D76DhvNkpI+P1ecpQYuoxc/Ypyz9GrHWz/7kyPDCLLyPpO8/kFBRRA/0/9nDoYGlj/8i/ixXrVaP7x4IiUyI/E+j6uxX+B/ET9yUL0Vow3wPvxfgvURSss+cvkNgl17LT+LzHsEg5UTPwaytCCdUp4/8TiBm6/aCj9doxA1Q7ITPkOS6FanQBU/dL+NX1fZWj+VBQyzwkO4PlcDUAL0L1I/fTIxK6KaCj/j5byfQfUAPxuOVInTct0++0V+YL96Gj9FarAorYYBPzHwJWnxlyM/L/f3qVABXj+Tp6kxyxkLP8ZkQxXrtwQ/ibYLlr8rDD876RpKEMv8PqXMCj0KI8E+Y9QbIWkfJz/NWTdK5t+4PhEtw1ouEd4+SuSuQabKxj5dOKHlN5XoPj9ykiLfprk+IXp/RSnbED9yRrm5bCbiPvbV3K8TUJY++0V+YL96Gj+usZO2/Wf4PjQmLIvTzQY/1efNMZmp7D5+56xI8fTlPuaDOXY0GM8+uMNU6Ym/hj8I144k4rrVPosWSaGt1IQ/AkyV+P4P4z7jP4drq28FPzwUggjXC+Y+7L0e6OUeoz9rTh5jVovSPvn/Em4kxWE/kQBSK/0u9T7vjyYFktAhP3lc7dd7QrQ+QPXFzhym8T4+Nd5F5BgWP9J6jnO41Pk+ObDN1M5vBD+HQ9Dqr+lKP3YCdaw0LdM++0V+YL96Gj/CsEps9C7VPlS9UGUMv0U/pqRxDiJ88D7oqXRGKNwGP54PeOINLqQ+9FiPodBJpj5CAX3zt+DFPsR5KJfqb8A+T/4f/1R0Jj9wy+L1hwRGP4Iw9VQZQJQ/QVxHa5CaEz9q4x6W3sABP+anRel4hTE//jSGyJGwIz9a3dieLS/FPvtFfmC/eho/0CaSSobf8j7om9ie0ehRP4yfDBK/phw/2bdahaRt8z5pi0xWDNe3PzoFWd5FU9A+qVTopb56Cj8Kl7V81RnyPnWw/lSIwcQ+kQBSK/0u9T4WN5ZE6rbZPjz585B5Teo+mJbD7Cdx9T4t+OpgFAQUP+s1WKcNeec+4Jew0N0e5z5bwhuTX5yrPv5ylEtMv+E+qgjVT8Z8oT9eSCgLgW3NPrZMGtKEGMw+gWG4BsRH5j7bwMkrHwIAP/7gqRozYvk+ycQ2iXpnxT4Swqe2z/nXPmWo1pTmCuk+NMilXEnjlD75z9m7pMPIPrZ+M2OfIB0/oIVe/s3E7j56Q0MFuIxQP8DjwNiFFwM/Yojc8CLi6z6/xleSd8/pPjaSA+NaSx0/RxRsP55tHT8TzIbUfsv2PvWgsIfWkjo/vX+hfbIbID9qIh3CGb/WPtzbifm0dbM+ClzCLAnyoD4HdZcEvp8aP4T+AFYCMPI+MqZkmp+JMz9Xk1ir5SDoPkAjePZqn/Y+EiXgvSYHpT8A2wc5DOnlPvtFfmC/eho/PAT7udKVlz/kKuRSPKzRPvzVMe6uqhA/LSuoRvfT3D741RgF1Yb2PjQa6ZQatoI/cEzD1ck29z5MptGTM5ccP79RNfoAEQk/A/IJ6Umg6j460UXAisTzPpjvW85a8tA+hFHN8SWy9D6gfFhURsvRPgdyvDC9evo+e/z7ZVvRmj/C5iuVwcTePgYf7plMLig/MA/ITshUsz68wUDJlmv5Pq6e2lfpD6k/QlKjIeRfGD++L0e45Y1CPzHGVg8zmOE+o0LUKwM3wj4fcKeItkMAP8Q04FD5Huo+ELOcZbFU8T5IMTwRT56CP34izOTEOgQ/uooRAzwSMz+5S1yC81+dP2K6gsKnTCg/4boxdtliHT9rpYs67A/sPseJT2eL9fE+cKEqXilSdD+HGerC0dXhPn4cKx997Ac/cvaEG0zq/D53OzGI/o9DPwhHMQikOMU+4aYHbQ+s0j673Mph4qf1Pm5x4hl+a7s+RIhXsT3p4z4SYLbW0RcvP+7nRXixfS4/5zpHmZTV5z675foWXF7CPr3GtnU1a5w+0BICUEwV+z4YmxHV7IpFP9oXMpkhNe0+8OWc8hCprD50qFQMeQi0PrhnnCDcsTE/2g6h9YTE5D7nUt5T0yv3PpDfXIos7uQ+mhHUuAbdtD5VKY49TIAiP6Jvk38Wduc+w3Op81Co0j5GNcFNBT1XP5ITnjO9Gec+oSQJmqt/BD8u8B4U0RmFP/TH2vq5KeA+KikY50KaAT+8pDhhpuD2PnIyP0TGCQA/fCaYJAgjtD8ryv/7BwTHPjZJd6O4nQ4/wKsguotF8z6GP57A2I0DPzXp732EAd4+rDHFwjsU2T5GhHshfKixPjmttaFBPuw+h6Fq6Z99ET99KAFD6+TWPlZtDKPqaPQ+io8aO8pLAD+b+oRxCokcP8RoNbwUwuM+7om/ZcPL0z6LmxGrrxXTPuttXDi6ilE/ekNDBbiMUD+PpPcVk8HcPuXrojJimys/qyDjxRnNkT/It8W1cbMCP5hG8hX4i+w+ImlavtdN7z7j92z1i1jzPgfZcP2pZMA+iirv8H3inz/i1s0RRUGoPkBWWhkuw/U+omxXO8JWKj8jMEysQqtNPyjBbHovVfA+C5KNNNcu+T56Q0MFuIxQP2D1pTy6sI8/zCNKYd8OMD+tHcn0sfjNPmOsZctQy/U+f2HIS8yb0j5kYzQw+mbkPiMYZ3/U4jw/nNMshRY7UD+cQ8suWY6SP4nBtdPqW0A/H8ZSq37GDz84uK+F5sM6P2MAAb39qCo/GCSU+ENwGz9L9hxTejDQPsPpRhaz5vE+mJIs6RnGEz8y4x8SUscfP/Gwxj8HsIQ/W6H50rSuMD+k9GATf/yyPqtJN1OLFIM+RW+UnMLjUD8RwmraN5NSP3pDQwW4jFA/s0VJGDmq4z56Q0MFuIxQPwcccQq4jGA/OcIUhBWh7z5CDuXNaWSBPg==\",\"dtype\":\"float64\",\"order\":\"little\",\"shape\":[287]}},\"selected\":{\"id\":\"1419\"},\"selection_policy\":{\"id\":\"1433\"}},\"id\":\"1418\",\"type\":\"ColumnDataSource\"},{\"attributes\":{\"angle\":{\"value\":0.0},\"fill_alpha\":{\"value\":1.0},\"fill_color\":{\"value\":\"#30a2da\"},\"hatch_alpha\":{\"value\":1.0},\"hatch_color\":{\"value\":\"#30a2da\"},\"hatch_scale\":{\"value\":12.0},\"hatch_weight\":{\"value\":1.0},\"line_alpha\":{\"value\":1.0},\"line_cap\":{\"value\":\"butt\"},\"line_color\":{\"value\":\"#30a2da\"},\"line_dash\":{\"value\":[]},\"line_dash_offset\":{\"value\":0},\"line_join\":{\"value\":\"bevel\"},\"line_width\":{\"value\":1},\"marker\":{\"value\":\"circle\"},\"size\":{\"value\":5.477225575051661},\"x\":{\"field\":\"TotalCoinsMined\"},\"y\":{\"field\":\"TotalCoinSuppy\"}},\"id\":\"1438\",\"type\":\"Scatter\"},{\"attributes\":{\"source\":{\"id\":\"1418\"}},\"id\":\"1425\",\"type\":\"CDSView\"},{\"attributes\":{},\"id\":\"1413\",\"type\":\"BasicTickFormatter\"},{\"attributes\":{},\"id\":\"1506\",\"type\":\"UnionRenderers\"},{\"attributes\":{\"end\":1.042857142857143,\"reset_end\":1.042857142857143,\"reset_start\":-0.04285714285714286,\"start\":-0.04285714285714286,\"tags\":[[[\"TotalCoinsMined\",\"TotalCoinsMined\",null]]]},\"id\":\"1376\",\"type\":\"Range1d\"},{\"attributes\":{\"fill_color\":{\"value\":\"#30a2da\"},\"hatch_color\":{\"value\":\"#30a2da\"},\"line_color\":{\"value\":\"#30a2da\"},\"size\":{\"value\":5.477225575051661},\"x\":{\"field\":\"TotalCoinsMined\"},\"y\":{\"field\":\"TotalCoinSuppy\"}},\"id\":\"1421\",\"type\":\"Scatter\"},{\"attributes\":{\"fill_alpha\":{\"value\":0.2},\"fill_color\":{\"value\":\"#30a2da\"},\"hatch_alpha\":{\"value\":0.2},\"hatch_color\":{\"value\":\"#30a2da\"},\"line_alpha\":{\"value\":0.2},\"line_color\":{\"value\":\"#30a2da\"},\"size\":{\"value\":5.477225575051661},\"x\":{\"field\":\"TotalCoinsMined\"},\"y\":{\"field\":\"TotalCoinSuppy\"}},\"id\":\"1423\",\"type\":\"Scatter\"},{\"attributes\":{\"click_policy\":\"mute\",\"coordinates\":null,\"group\":null,\"items\":[{\"id\":\"1437\"},{\"id\":\"1459\"},{\"id\":\"1483\"},{\"id\":\"1509\"}],\"location\":[0,0],\"title\":\"Class\"},\"id\":\"1436\",\"type\":\"Legend\"},{\"attributes\":{\"fill_color\":{\"value\":\"#6d904f\"},\"hatch_color\":{\"value\":\"#6d904f\"},\"line_color\":{\"value\":\"#6d904f\"},\"size\":{\"value\":5.477225575051661},\"x\":{\"field\":\"TotalCoinsMined\"},\"y\":{\"field\":\"TotalCoinSuppy\"}},\"id\":\"1488\",\"type\":\"Scatter\"},{\"attributes\":{\"data\":{\"Class\":[3,3,3,3,3,3],\"CoinName\":[\"Vechain\",\"BiblePay\",\"LitecoinCash\",\"Poa Network\",\"Acute Angle Cloud\",\"Waves\"],\"TotalCoinSuppy\":{\"__ndarray__\":\"+nQumcwytj+U9gZfmEx1P7x5qkNuhks/hFoo4ZaLMD/8qfHSTWJQPyxDHOviNho/\",\"dtype\":\"float64\",\"order\":\"little\",\"shape\":[6]},\"TotalCoinsMined\":{\"__ndarray__\":\"zaDgBxGurD+PWA2R2lNdP5CkxfJKIUU/nBkleI8SKz96Q0MFuIxQP/tFfmC/eho/\",\"dtype\":\"float64\",\"order\":\"little\",\"shape\":[6]}},\"selected\":{\"id\":\"1486\"},\"selection_policy\":{\"id\":\"1506\"}},\"id\":\"1485\",\"type\":\"ColumnDataSource\"},{\"attributes\":{\"label\":{\"value\":\"3\"},\"renderers\":[{\"id\":\"1491\"}]},\"id\":\"1509\",\"type\":\"LegendItem\"},{\"attributes\":{},\"id\":\"1414\",\"type\":\"AllLabels\"},{\"attributes\":{},\"id\":\"1486\",\"type\":\"Selection\"},{\"attributes\":{},\"id\":\"1416\",\"type\":\"BasicTickFormatter\"},{\"attributes\":{},\"id\":\"1456\",\"type\":\"UnionRenderers\"},{\"attributes\":{\"coordinates\":null,\"group\":null,\"text_color\":\"black\",\"text_font_size\":\"12pt\"},\"id\":\"1383\",\"type\":\"Title\"},{\"attributes\":{\"label\":{\"value\":\"1\"},\"renderers\":[{\"id\":\"1445\"}]},\"id\":\"1459\",\"type\":\"LegendItem\"},{\"attributes\":{},\"id\":\"1387\",\"type\":\"LinearScale\"},{\"attributes\":{\"coordinates\":null,\"data_source\":{\"id\":\"1439\"},\"glyph\":{\"id\":\"1442\"},\"group\":null,\"hover_glyph\":null,\"muted_glyph\":{\"id\":\"1444\"},\"nonselection_glyph\":{\"id\":\"1443\"},\"selection_glyph\":{\"id\":\"1460\"},\"view\":{\"id\":\"1446\"}},\"id\":\"1445\",\"type\":\"GlyphRenderer\"},{\"attributes\":{},\"id\":\"1440\",\"type\":\"Selection\"},{\"attributes\":{\"fill_alpha\":{\"value\":0.1},\"fill_color\":{\"value\":\"#fc4f30\"},\"hatch_alpha\":{\"value\":0.1},\"hatch_color\":{\"value\":\"#fc4f30\"},\"line_alpha\":{\"value\":0.1},\"line_color\":{\"value\":\"#fc4f30\"},\"size\":{\"value\":5.477225575051661},\"x\":{\"field\":\"TotalCoinsMined\"},\"y\":{\"field\":\"TotalCoinSuppy\"}},\"id\":\"1443\",\"type\":\"Scatter\"},{\"attributes\":{},\"id\":\"1419\",\"type\":\"Selection\"},{\"attributes\":{\"below\":[{\"id\":\"1391\"}],\"center\":[{\"id\":\"1394\"},{\"id\":\"1398\"}],\"height\":300,\"left\":[{\"id\":\"1395\"}],\"margin\":[5,5,5,5],\"min_border_bottom\":10,\"min_border_left\":10,\"min_border_right\":10,\"min_border_top\":10,\"renderers\":[{\"id\":\"1424\"},{\"id\":\"1445\"},{\"id\":\"1467\"},{\"id\":\"1491\"}],\"right\":[{\"id\":\"1436\"}],\"sizing_mode\":\"fixed\",\"title\":{\"id\":\"1383\"},\"toolbar\":{\"id\":\"1405\"},\"width\":700,\"x_range\":{\"id\":\"1376\"},\"x_scale\":{\"id\":\"1387\"},\"y_range\":{\"id\":\"1377\"},\"y_scale\":{\"id\":\"1389\"}},\"id\":\"1382\",\"subtype\":\"Figure\",\"type\":\"Plot\"},{\"attributes\":{\"children\":[{\"id\":\"1375\"},{\"id\":\"1382\"},{\"id\":\"1655\"}],\"margin\":[0,0,0,0],\"name\":\"Row02286\",\"tags\":[\"embedded\"]},\"id\":\"1374\",\"type\":\"Row\"},{\"attributes\":{\"axis\":{\"id\":\"1395\"},\"coordinates\":null,\"dimension\":1,\"grid_line_color\":null,\"group\":null,\"ticker\":null},\"id\":\"1398\",\"type\":\"Grid\"},{\"attributes\":{\"margin\":[5,5,5,5],\"name\":\"HSpacer02290\",\"sizing_mode\":\"stretch_width\"},\"id\":\"1375\",\"type\":\"Spacer\"},{\"attributes\":{\"axis_label\":\"TotalCoinSuppy\",\"coordinates\":null,\"formatter\":{\"id\":\"1416\"},\"group\":null,\"major_label_policy\":{\"id\":\"1417\"},\"ticker\":{\"id\":\"1396\"}},\"id\":\"1395\",\"type\":\"LinearAxis\"},{\"attributes\":{\"axis\":{\"id\":\"1391\"},\"coordinates\":null,\"grid_line_color\":null,\"group\":null,\"ticker\":null},\"id\":\"1394\",\"type\":\"Grid\"},{\"attributes\":{\"fill_alpha\":{\"value\":0.2},\"fill_color\":{\"value\":\"#6d904f\"},\"hatch_alpha\":{\"value\":0.2},\"hatch_color\":{\"value\":\"#6d904f\"},\"line_alpha\":{\"value\":0.2},\"line_color\":{\"value\":\"#6d904f\"},\"size\":{\"value\":5.477225575051661},\"x\":{\"field\":\"TotalCoinsMined\"},\"y\":{\"field\":\"TotalCoinSuppy\"}},\"id\":\"1490\",\"type\":\"Scatter\"},{\"attributes\":{},\"id\":\"1392\",\"type\":\"BasicTicker\"},{\"attributes\":{},\"id\":\"1389\",\"type\":\"LinearScale\"},{\"attributes\":{\"data\":{\"Class\":[2],\"CoinName\":[\"BitTorrent\"],\"TotalCoinSuppy\":{\"__ndarray__\":\"rkfhehSu7z8=\",\"dtype\":\"float64\",\"order\":\"little\",\"shape\":[1]},\"TotalCoinsMined\":{\"__ndarray__\":\"AAAAAAAA8D8=\",\"dtype\":\"float64\",\"order\":\"little\",\"shape\":[1]}},\"selected\":{\"id\":\"1462\"},\"selection_policy\":{\"id\":\"1480\"}},\"id\":\"1461\",\"type\":\"ColumnDataSource\"},{\"attributes\":{\"axis_label\":\"TotalCoinsMined\",\"coordinates\":null,\"formatter\":{\"id\":\"1413\"},\"group\":null,\"major_label_policy\":{\"id\":\"1414\"},\"ticker\":{\"id\":\"1392\"}},\"id\":\"1391\",\"type\":\"LinearAxis\"},{\"attributes\":{\"fill_alpha\":{\"value\":0.2},\"fill_color\":{\"value\":\"#fc4f30\"},\"hatch_alpha\":{\"value\":0.2},\"hatch_color\":{\"value\":\"#fc4f30\"},\"line_alpha\":{\"value\":0.2},\"line_color\":{\"value\":\"#fc4f30\"},\"size\":{\"value\":5.477225575051661},\"x\":{\"field\":\"TotalCoinsMined\"},\"y\":{\"field\":\"TotalCoinSuppy\"}},\"id\":\"1444\",\"type\":\"Scatter\"},{\"attributes\":{\"fill_color\":{\"value\":\"#fc4f30\"},\"hatch_color\":{\"value\":\"#fc4f30\"},\"line_color\":{\"value\":\"#fc4f30\"},\"size\":{\"value\":5.477225575051661},\"x\":{\"field\":\"TotalCoinsMined\"},\"y\":{\"field\":\"TotalCoinSuppy\"}},\"id\":\"1442\",\"type\":\"Scatter\"},{\"attributes\":{},\"id\":\"1396\",\"type\":\"BasicTicker\"},{\"attributes\":{\"angle\":{\"value\":0.0},\"fill_alpha\":{\"value\":1.0},\"fill_color\":{\"value\":\"#fc4f30\"},\"hatch_alpha\":{\"value\":1.0},\"hatch_color\":{\"value\":\"#fc4f30\"},\"hatch_scale\":{\"value\":12.0},\"hatch_weight\":{\"value\":1.0},\"line_alpha\":{\"value\":1.0},\"line_cap\":{\"value\":\"butt\"},\"line_color\":{\"value\":\"#fc4f30\"},\"line_dash\":{\"value\":[]},\"line_dash_offset\":{\"value\":0},\"line_join\":{\"value\":\"bevel\"},\"line_width\":{\"value\":1},\"marker\":{\"value\":\"circle\"},\"size\":{\"value\":5.477225575051661},\"x\":{\"field\":\"TotalCoinsMined\"},\"y\":{\"field\":\"TotalCoinSuppy\"}},\"id\":\"1460\",\"type\":\"Scatter\"}],\"root_ids\":[\"1374\"]},\"title\":\"Bokeh Application\",\"version\":\"2.4.2\"}};\n",
       "    var render_items = [{\"docid\":\"eb8f16b6-e24e-4b3d-8c88-b97d832151a4\",\"root_ids\":[\"1374\"],\"roots\":{\"1374\":\"6ae5db35-3c65-475c-8608-6f3bc57bfb58\"}}];\n",
       "    root.Bokeh.embed.embed_items_notebook(docs_json, render_items);\n",
       "  }\n",
       "  if (root.Bokeh !== undefined && root.Bokeh.Panel !== undefined) {\n",
       "    embed_document(root);\n",
       "  } else {\n",
       "    var attempts = 0;\n",
       "    var timer = setInterval(function(root) {\n",
       "      if (root.Bokeh !== undefined && root.Bokeh.Panel !== undefined) {\n",
       "        clearInterval(timer);\n",
       "        embed_document(root);\n",
       "      } else if (document.readyState == \"complete\") {\n",
       "        attempts++;\n",
       "        if (attempts > 200) {\n",
       "          clearInterval(timer);\n",
       "          console.log(\"Bokeh: ERROR: Unable to run BokehJS code because BokehJS library is missing\");\n",
       "        }\n",
       "      }\n",
       "    }, 25, root)\n",
       "  }\n",
       "})(window);</script>"
      ],
      "text/plain": [
       ":NdOverlay   [Class]\n",
       "   :Scatter   [TotalCoinsMined]   (TotalCoinSuppy,CoinName)"
      ]
     },
     "execution_count": 114,
     "metadata": {
      "application/vnd.holoviews_exec.v0+json": {
       "id": "1374"
      }
     },
     "output_type": "execute_result"
    }
   ],
   "source": [
    "# Create a hvplot.scatter plot using x=\"TotalCoinsMined\" and y=\"TotalCoinSupply\".\n",
    "plot_df.hvplot.scatter(\n",
    "    x=\"TotalCoinsMined\", \n",
    "    y=\"TotalCoinSuppy\",\n",
    "    hover_cols=['CoinName'],\n",
    "    by='Class') \n"
   ]
  },
  {
   "cell_type": "code",
   "execution_count": null,
   "metadata": {},
   "outputs": [],
   "source": []
  }
 ],
 "metadata": {
  "file_extension": ".py",
  "kernelspec": {
   "display_name": "Python 3 (ipykernel)",
   "language": "python",
   "name": "python3"
  },
  "language_info": {
   "codemirror_mode": {
    "name": "ipython",
    "version": 3
   },
   "file_extension": ".py",
   "mimetype": "text/x-python",
   "name": "python",
   "nbconvert_exporter": "python",
   "pygments_lexer": "ipython3",
   "version": "3.7.6"
  },
  "latex_envs": {
   "LaTeX_envs_menu_present": true,
   "autoclose": false,
   "autocomplete": true,
   "bibliofile": "biblio.bib",
   "cite_by": "apalike",
   "current_citInitial": 1,
   "eqLabelWithNumbers": true,
   "eqNumInitial": 1,
   "hotkeys": {
    "equation": "Ctrl-E",
    "itemize": "Ctrl-I"
   },
   "labels_anchors": false,
   "latex_user_defs": false,
   "report_style_numbering": false,
   "user_envs_cfg": false
  },
  "mimetype": "text/x-python",
  "name": "python",
  "npconvert_exporter": "python",
  "pygments_lexer": "ipython3",
  "version": 3
 },
 "nbformat": 4,
 "nbformat_minor": 2
}
